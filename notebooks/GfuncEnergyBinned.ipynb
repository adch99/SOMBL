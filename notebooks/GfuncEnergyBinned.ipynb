{
 "cells": [
  {
   "cell_type": "code",
   "execution_count": 1,
   "id": "3dceb2fc",
   "metadata": {},
   "outputs": [],
   "source": [
    "%matplotlib inline\n",
    "import numpy as np\n",
    "import matplotlib.pyplot as plt"
   ]
  },
  {
   "cell_type": "code",
   "execution_count": 2,
   "id": "770c952e",
   "metadata": {},
   "outputs": [],
   "source": [
    "def gfuncsq_nondeg_sigma(i, j, sigma, eigvecs, nmin, nmax):\n",
    "    elem = 0\n",
    "    for alpha in range(2):\n",
    "        for alpha_p in range(2):\n",
    "            for beta in range(2):\n",
    "                for beta_p in range(2):\n",
    "                    for gamma in range(0, 2):\n",
    "                        for gamma_p in range(0, 2):\n",
    "                            for n in range(nmin, nmax):\n",
    "                                term1 = np.conj(sigma[alpha_p, gamma_p]) * sigma[alpha, gamma]\n",
    "                                term2 = np.conj(eigvecs[2*i+gamma_p, n]) * eigvecs[2*i+gamma, n]\n",
    "                                term3 = np.conj(eigvecs[2*j+beta, n]) * eigvecs[2*j+beta_p, n]\n",
    "                                elem += term1 * term2 * term3\n",
    "    \n",
    "    return elem"
   ]
  },
  {
   "cell_type": "code",
   "execution_count": 5,
   "id": "cfedede1",
   "metadata": {},
   "outputs": [],
   "source": [
    "def gfuncsq_mat_nondeg_sigma(sigma, eigvecs, L, nmin, nmax):\n",
    "    matrix1 = np.zeros((L*L, 2*L*L), dtype=complex)\n",
    "    matrix2 = np.zeros((L*L, 2*L*L), dtype=complex)\n",
    "\n",
    "    # Create the first matrix\n",
    "    for gamma in range(2):\n",
    "        for gamma_p in range(2):\n",
    "            # Calculating the coefficient\n",
    "            coeff = 0\n",
    "            for alpha in range(2):\n",
    "                for alpha_p in range(2):\n",
    "                    coeff += np.conj(sigma[alpha_p,gamma]) * sigma[alpha, gamma_p]\n",
    "\n",
    "            # Calculate the C_γγ' matrix\n",
    "            C_g_gp = np.empty((L*L, 2*L*L), dtype=complex)\n",
    "            for i in range(L*L):\n",
    "                for n in range(2*L*L):\n",
    "                    C_g_gp[i, n] = np.conj(eigvecs[2*i+gamma,n]) * eigvecs[2*i+gamma_p,n]\n",
    "            \n",
    "            matrix1 += coeff * C_g_gp\n",
    "            matrix2 += C_g_gp\n",
    "\n",
    "    return matrix1[:,nmin:nmax] @ matrix2[:,nmin:nmax].conj().T"
   ]
  },
  {
   "cell_type": "code",
   "execution_count": 6,
   "id": "8527786f",
   "metadata": {},
   "outputs": [
    {
     "name": "stdout",
     "output_type": "stream",
     "text": [
      "2.556009454447473e-15\n",
      "1.116197400121705e-16\n"
     ]
    }
   ],
   "source": [
    "L = 4\n",
    "\n",
    "# Create fake eigenvectors\n",
    "eigvecs = np.random.normal(loc=0, scale=1, size=(2*L*L, 2*L*L)) \\\n",
    "    + 1j*np.random.normal(loc=0, scale=1, size=(2*L*L, 2*L*L))\n",
    "\n",
    "# Normalize each eigenvector\n",
    "for i in range(0, 2*L*L):\n",
    "    eigvecs[:, i] /= np.sqrt(np.sum(np.abs(eigvecs[:, i])**2))\n",
    "\n",
    "sigma = np.array([[1.1, 0.2], [-0.1, 0.6]])\n",
    "\n",
    "nmin = 4\n",
    "nmax = 9\n",
    "\n",
    "# %timeit populate(L)\n",
    "original_gfuncsq = np.empty((L*L,L*L), dtype=complex)\n",
    "\n",
    "for i in range(L*L):\n",
    "    for j in range(L*L):\n",
    "        original_gfuncsq[i, j] = gfuncsq_nondeg_sigma(i, j, sigma, eigvecs, nmin, nmax)\n",
    "\n",
    "opti_gfuncsq = gfuncsq_mat_nondeg_sigma(sigma, eigvecs, L, nmin, nmax)\n",
    "\n",
    "diff = opti_gfuncsq - original_gfuncsq\n",
    "print(np.sum(np.abs(diff)))\n",
    "print(np.max(np.abs(diff)))"
   ]
  },
  {
   "cell_type": "code",
   "execution_count": null,
   "id": "3a0c0340",
   "metadata": {},
   "outputs": [],
   "source": []
  }
 ],
 "metadata": {
  "kernelspec": {
   "display_name": "MBL",
   "language": "python",
   "name": "mbl"
  },
  "language_info": {
   "codemirror_mode": {
    "name": "ipython",
    "version": 3
   },
   "file_extension": ".py",
   "mimetype": "text/x-python",
   "name": "python",
   "nbconvert_exporter": "python",
   "pygments_lexer": "ipython3",
   "version": "3.10.6"
  }
 },
 "nbformat": 4,
 "nbformat_minor": 5
}
