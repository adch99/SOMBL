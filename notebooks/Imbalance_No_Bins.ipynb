{
 "cells": [
  {
   "cell_type": "code",
   "execution_count": 1,
   "id": "5d704ce0-a5c3-4c10-97ea-a4b0b0817e1d",
   "metadata": {},
   "outputs": [
    {
     "name": "stdout",
     "output_type": "stream",
     "text": [
      "/home/aditya/Documents/SOMBL\n"
     ]
    }
   ],
   "source": [
    "%cd /home/aditya/Documents/SOMBL/\n",
    "%matplotlib qt\n",
    "import numpy as np\n",
    "import matplotlib.pyplot as plt\n",
    "import matplotlib as mpl\n",
    "import pandas as pd\n",
    "from tqdm import tqdm\n",
    "import seaborn as sns\n",
    "\n",
    "import scripts.plot_utils as putils\n",
    "import scripts.plot_densities as pdens\n",
    "sns.set()"
   ]
  },
  {
   "cell_type": "code",
   "execution_count": 2,
   "id": "62bab101-5a3d-43a8-89b9-61edc0df0e4a",
   "metadata": {},
   "outputs": [],
   "source": [
    "%config InlineBackend.figure_format = 'svg'"
   ]
  },
  {
   "cell_type": "code",
   "execution_count": 3,
   "id": "7ed25283-358b-472a-9dfd-f432ac81c85c",
   "metadata": {
    "tags": []
   },
   "outputs": [
    {
     "name": "stdout",
     "output_type": "stream",
     "text": [
      "(  0.0,    8), (  0.0,    9), (  0.0,   10), (  0.0,   11), (  0.0,   12), \n",
      "(  0.0,   13), (  0.0,   14), (  0.0,   15), (  0.0,   16), (  0.0,   17), \n",
      "(  0.0,   18), (  0.1,    8), (  0.1,   14), (  0.1,   15), (  0.1,   16), \n",
      "(  0.1,   17), (  0.1,   18), (  0.2,    8), (  0.2,    9), (  0.2,   10), \n",
      "(  0.2,   11), (  0.2,   12), (  0.2,   13), (  0.2,   14), (  0.2,   15), \n",
      "(  0.2,   16), (  0.2,   17), (  0.2,   18), (  0.3,    8), (  0.3,    9), \n",
      "(  0.3,   10), (  0.3,   11), (  0.3,   12), (  0.3,   13), (  0.3,   14), \n",
      "(  0.3,   15), (  0.3,   16), (  0.3,   17), (  0.3,   18), (  0.4,    8), \n",
      "(  0.4,   12), (  0.4,   14), (  0.4,   16), (  0.4,   17), (  0.4,   18), \n",
      "(  0.5,    8), (  0.5,    9), (  0.5,   10), (  0.5,   11), (  0.5,   12), \n",
      "(  0.5,   14), (  0.5,   15), (  0.5,   16), (  0.5,   17), (  0.5,   18), \n",
      "(  0.6,    8), (  0.6,    9), (  0.6,   10), (  0.6,   11), (  0.6,   12), \n",
      "(  0.6,   13), (  0.6,   14), (  0.6,   15), (  0.6,   16), (  0.6,   17), \n",
      "(  0.6,   18), (  0.7,    8), (  0.7,    9), (  0.7,   10), (  0.7,   11), \n",
      "(  0.7,   12), (  0.7,   13), (  0.7,   14), (  0.7,   15), (  0.7,   16), \n",
      "(  0.7,   17), (  0.7,   18), (  0.8,    8), (  0.8,    9), (  0.8,   10), \n",
      "(  0.8,   11), (  0.8,   12), (  0.8,   13), (  0.8,   14), (  0.8,   15), \n",
      "(  0.8,   16), (  0.8,   17), (  0.8,   18), (  0.9,    8), (  0.9,    9), \n",
      "(  0.9,   10), (  0.9,   11), (  0.9,   12), (  0.9,   13), (  0.9,   14), \n",
      "(  0.9,   15), (  0.9,   16), (  0.9,   17), (  0.9,   18), (  1.0,    8), \n",
      "(  1.0,    9), (  1.0,   10), (  1.0,   11), (  1.0,   12), (  1.0,   13), \n",
      "(  1.0,   14), (  1.0,   15), (  1.0,   16), (  1.0,   17), (  1.0,   18), \n",
      "(  1.2,    8), (  1.2,    9), (  1.2,   10), (  1.2,   11), (  1.2,   12), \n",
      "(  1.2,   13), (  1.2,   14), (  1.2,   15), (  1.2,   16), (  1.2,   17), \n",
      "(  1.2,   18), (  1.3,    8), (  1.3,    9), (  1.3,   10), (  1.3,   11), \n",
      "(  1.3,   12), (  1.3,   13), (  1.3,   14), (  1.3,   15), (  1.3,   16), \n",
      "(  1.3,   17), (  1.3,   18), (  1.4,    8), (  1.4,    9), (  1.4,   10), \n",
      "(  1.4,   11), (  1.4,   12), (  1.4,   13), (  1.4,   14), (  1.4,   15), \n",
      "(  1.4,   16), (  1.4,   17), (  1.4,   18), (  1.5,    8), (  1.5,    9), \n",
      "(  1.5,   10), (  1.5,   11), (  1.5,   12), (  1.5,   13), (  1.5,   14), \n",
      "(  1.5,   15), (  1.5,   16), (  1.5,   17), (  1.5,   18), (  1.6,    8), \n",
      "(  1.6,    9), (  1.6,   10), (  1.6,   11), (  1.6,   12), (  1.6,   13), \n",
      "(  1.6,   14), (  1.6,   15), (  1.6,   16), (  1.6,   17), (  1.6,   18), \n",
      "(  1.7,    8), (  1.7,    9), (  1.7,   10), (  1.7,   11), (  1.7,   12), \n",
      "(  1.7,   13), (  1.7,   14), (  1.7,   15), (  1.7,   16), (  1.7,   17), \n",
      "(  1.7,   18), (  1.9,    9), (  1.9,   10), (  1.9,   11), (  1.9,   12), \n",
      "(  1.9,   13), (  1.9,   14), (  1.9,   15), (  1.9,   16), (  1.9,   17), \n",
      "(  1.9,   18), "
     ]
    }
   ],
   "source": [
    "# pspace = [(c, w) for w in [10, 11, 12] for c in [1.5, 1.6, 1.7]]\n",
    "# pspace += [(c, w) for w in [13, 14, 15] for c in [0.3, 0.4, 0.5]]\n",
    "\n",
    "# pspace = [(c, w) for c in np.arange(1.2, 1.71, 0.1) for w in range(8, 18+1)]\n",
    "pspace = []\n",
    "pspace += [(0.0, w) for w in range(8, 18+1)]\n",
    "pspace += [(0.1, w) for w in [8, 14, 15, 16, 17, 18]]\n",
    "pspace += [(0.2, w) for w in range(8, 18+1)]\n",
    "pspace += [(0.3, w) for w in range(8, 18+1)]\n",
    "pspace += [(0.4, w) for w in [8, 12, 14, 16, 17, 18]]\n",
    "pspace += [(0.5, w) for w in [8, 9, 10, 11, 12, 14, 15, 16, 17, 18]]\n",
    "pspace += [(0.6, w) for w in range(8, 18+1)]\n",
    "pspace += [(0.7, w) for w in range(8, 18+1)]\n",
    "pspace += [(0.8, w) for w in range(8, 18+1)]\n",
    "pspace += [(0.9, w) for w in range(8, 18+1)]\n",
    "pspace += [(1.0, w) for w in range(8, 18+1)]\n",
    "pspace += [(1.2, w) for w in range(8, 18+1)]\n",
    "pspace += [(1.3, w) for w in range(8, 18+1)]\n",
    "pspace += [(1.4, w) for w in range(8, 18+1)]\n",
    "pspace += [(1.5, w) for w in range(8, 18+1)]\n",
    "pspace += [(1.6, w) for w in range(8, 18+1)]\n",
    "pspace += [(1.7, w) for w in range(8, 18+1)]\n",
    "pspace += [(1.8, w) for w in []]\n",
    "pspace += [(1.9, w) for w in range(9, 18+1)]\n",
    "# pspace += [(2.0, w) for w in range(9, 18+1)]\n",
    "for i in range(len(pspace)):\n",
    "    c, w = pspace[i]\n",
    "    print(f\"({c:5.1f},{w:5}), \", end=\"\")\n",
    "    if (i + 1) % 5 == 0:\n",
    "        print()\n",
    "        "
   ]
  },
  {
   "cell_type": "code",
   "execution_count": 4,
   "id": "e7677830-e99a-4bd3-9a51-84d48f6d5ae4",
   "metadata": {},
   "outputs": [],
   "source": [
    "pattern = \"alt_up_down\"\n",
    "length = 100\n",
    "# totalbins = 50\n",
    "# densities = get_densities(length, 0.3, 15, -1, pattern)\n",
    "# initial_cond = putils.get_initial_condition(pattern, length)\n",
    "# print(calculate_imbalance(densities[0], initial_cond, length))"
   ]
  },
  {
   "cell_type": "code",
   "execution_count": 5,
   "id": "3fa68bae-d0fd-4c3b-b4f0-a5bcbc7bb326",
   "metadata": {},
   "outputs": [],
   "source": [
    "colorbar_kwargs = {\n",
    "    \"location\": \"right\",\n",
    "    \"fraction\": 0.046,\n",
    "    \"pad\": 0.04,\n",
    "    \"format\": \"%.2e\"\n",
    "}"
   ]
  },
  {
   "cell_type": "code",
   "execution_count": 6,
   "id": "851d98dd-edb2-4189-8843-1443343de01c",
   "metadata": {},
   "outputs": [],
   "source": [
    "def get_densities(length, coupling, disorder, binnum, pattern):\n",
    "    prefix = \"data/mbl_density\"\n",
    "    totalbins = 0\n",
    "    kwargs = {\n",
    "        \"size\": length,\n",
    "        \"coupling\": coupling,\n",
    "        \"disorder\": disorder,\n",
    "        \"hopup\": 1.0,\n",
    "        \"hopdn\": 1.0,\n",
    "        \"runs\": 100,\n",
    "        \"nospin\": False,\n",
    "        \"binnum\": 2,\n",
    "        \"alpha\": 0,\n",
    "        \"beta\": 0\n",
    "    }\n",
    "    # params = putils.SystemParams(**kwargs)\n",
    "    GR_GRstar = pdens.calculate(kwargs, totalbins, prefix, pattern)\n",
    "    densities = pdens.get_final_densities(GR_GRstar, binnum)\n",
    "    return densities"
   ]
  },
  {
   "cell_type": "code",
   "execution_count": 7,
   "id": "369baea5-0dfe-424f-b4dd-e7cd6500cb1b",
   "metadata": {},
   "outputs": [],
   "source": [
    "def calculate_spin_imbalance(density, initial_cond, length, norm=None):\n",
    "    upList, downList = initial_cond\n",
    "    imb = 0\n",
    "    if upList is not None:\n",
    "        for index in upList:\n",
    "            x = index % length\n",
    "            y = index // length\n",
    "            imb += 1 * density[x, y]\n",
    "            \n",
    "    if downList is not None:\n",
    "        for index in downList:\n",
    "            x = index % length\n",
    "            y = index // length\n",
    "            imb += -1 * density[x, y]\n",
    "    if norm is None:\n",
    "        imb /= np.sum(density)\n",
    "    else:\n",
    "        imb /= norm\n",
    "    return imb"
   ]
  },
  {
   "cell_type": "code",
   "execution_count": 8,
   "id": "23df6948-e245-459b-8c78-2ac1c4a5481a",
   "metadata": {},
   "outputs": [],
   "source": [
    "def calculate_imbalance(density, length, setA, norm=None):\n",
    "    imb = 0\n",
    "    sorted_setA = sorted(setA)\n",
    "    for x in range(length):\n",
    "        for y in range(length):\n",
    "            index = x + length*y\n",
    "            if index not in setA:\n",
    "                imb -= density[x, y]\n",
    "    for index in setA:\n",
    "        x = index % length\n",
    "        y = index // length\n",
    "        imb += density[x, y]\n",
    "\n",
    "    if norm is None:\n",
    "        imb /= np.sum(density)\n",
    "    else:\n",
    "        imb /= norm\n",
    "\n",
    "    return imb"
   ]
  },
  {
   "cell_type": "markdown",
   "id": "eaf7e58c-254d-496c-93ba-0a259ad63adb",
   "metadata": {},
   "source": [
    "## Charge Imbalance\n",
    "For charge imbalance $A$ is the whole lattice for the alternating up-down pattern. So all the imbalances are expected to be $1$."
   ]
  },
  {
   "cell_type": "code",
   "execution_count": 9,
   "id": "62ffe225-0e93-460c-a79c-367bd2554420",
   "metadata": {
    "tags": []
   },
   "outputs": [],
   "source": [
    "def calculate_charge_imbalances_df(pattern, length, pspace):\n",
    "    upList, downList = putils.get_initial_condition(pattern, length)\n",
    "    # For charge imbalance\n",
    "    if upList is None:\n",
    "        upList = []\n",
    "    if downList is None:\n",
    "        downList = []\n",
    "    setA = list(upList) + list(downList)\n",
    "\n",
    "    data = []\n",
    "    for coupling, disorder in pspace:\n",
    "        print(f\"α = {coupling} W = {disorder}\")\n",
    "        binnum = -1\n",
    "        densities = get_densities(length, coupling, disorder, binnum, pattern)\n",
    "        charge_density = densities[0] + densities[1]\n",
    "        datapoint = {\n",
    "            \"coupling\": coupling,\n",
    "            \"disorder\": disorder,\n",
    "            \"binnum\": binnum,\n",
    "            \"imb_n_up\": calculate_imbalance(densities[0], length, setA),\n",
    "            \"imb_n_down\": calculate_imbalance(densities[1], length, setA),\n",
    "            \"imb_S_plus\": calculate_imbalance(densities[2], length, setA),\n",
    "            \"imb_S_minus\": calculate_imbalance(densities[3], length, setA),\n",
    "            \"imb_charge\": calculate_imbalance(charge_density, length, setA)\n",
    "        }\n",
    "        data.append(datapoint)\n",
    "\n",
    "    df = pd.DataFrame(data)\n",
    "    return df"
   ]
  },
  {
   "cell_type": "code",
   "execution_count": 10,
   "id": "e64950a1-2d47-4582-8c66-3de2b8e515ab",
   "metadata": {
    "tags": []
   },
   "outputs": [],
   "source": [
    "#df = calculate_charge_imbalances_df(pattern, length, pspace)\n",
    "#df.to_csv(f\"data/charge_imbalances_L{length}_{pattern}.dat\")\n",
    "#df"
   ]
  },
  {
   "cell_type": "code",
   "execution_count": 11,
   "id": "45d45a17-1968-41fc-b964-5ad3021f1ae3",
   "metadata": {
    "tags": []
   },
   "outputs": [],
   "source": [
    "#df = pd.read_csv(f\"data/charge_imbalances_L{length}_{pattern}.dat\")\n",
    "#df"
   ]
  },
  {
   "cell_type": "code",
   "execution_count": 12,
   "id": "1478b1e2-8573-41c6-b344-98957adae886",
   "metadata": {},
   "outputs": [],
   "source": [
    "#sns.relplot"
   ]
  },
  {
   "cell_type": "markdown",
   "id": "e241f645-6815-4086-a623-647c17f981a0",
   "metadata": {},
   "source": [
    "## Spin Imbalance\n",
    "We can ask for spin imbalance in three different ways:\n",
    "1. Spin Up Imbalance $A = {sites\\ where\\ }$"
   ]
  },
  {
   "cell_type": "code",
   "execution_count": 13,
   "id": "bf57018b-6f0a-4450-af75-0ad04c190977",
   "metadata": {
    "tags": []
   },
   "outputs": [],
   "source": [
    "def calculate_spin_imbalances_df(pattern, length, pspace):\n",
    "    upList, downList = putils.get_initial_condition(pattern, length)\n",
    "    # For charge imbalance\n",
    "    if upList is None:\n",
    "        upList = []\n",
    "    if downList is None:\n",
    "        downList = []\n",
    "    setAup = list(upList)\n",
    "    setAdown = list(downList)\n",
    "\n",
    "    data = []\n",
    "    for coupling, disorder in tqdm(pspace):\n",
    "        # print(f\"α = {coupling} W = {disorder}\")\n",
    "        binnum = -1\n",
    "        densities = get_densities(length, coupling, disorder, binnum, pattern)\n",
    "        n_up, n_down, S_plus, S_minus = densities\n",
    "        S_x = (S_plus + S_minus)/2\n",
    "        S_y = -1j*(S_plus - S_minus)/2\n",
    "        S_z = n_up - n_down\n",
    "        charge = n_up + n_down\n",
    "        norm = len(setAup)\n",
    "        datapoint = {\n",
    "            \"coupling\": coupling,\n",
    "            \"disorder\": disorder,\n",
    "            \"binnum\": binnum,\n",
    "            \"spin_up_imb_n_up\": calculate_imbalance(n_up, length, setAup),\n",
    "            \"spin_up_imb_n_down\": calculate_imbalance(n_down, length, setAup),\n",
    "            \"spin_up_imb_S_plus\": calculate_imbalance(S_plus, length, setAup, norm=norm),\n",
    "            \"spin_up_imb_S_minus\": calculate_imbalance(S_minus, length, setAup, norm=norm),\n",
    "            \"spin_up_imb_charge\": calculate_imbalance(charge, length, setAup),\n",
    "            \"spin_up_imb_S_x\": calculate_imbalance(S_x, length, setAup, norm=norm),\n",
    "            \"spin_up_imb_S_y\": calculate_imbalance(S_y, length, setAup, norm=norm),\n",
    "            \"spin_up_imb_S_z\": calculate_imbalance(S_z, length, setAup, norm=norm)            \n",
    "        }\n",
    "        data.append(datapoint)\n",
    "\n",
    "    df = pd.DataFrame(data)\n",
    "    return df"
   ]
  },
  {
   "cell_type": "code",
   "execution_count": 14,
   "id": "d4f217b4-86b5-4c1c-9112-797dfee44b86",
   "metadata": {
    "tags": []
   },
   "outputs": [],
   "source": [
    "#df = calculate_spin_imbalances_df(pattern, length, pspace)\n",
    "#df.to_csv(f\"data/spin_imbalances_L{length}_{pattern}.dat\")"
   ]
  },
  {
   "cell_type": "code",
   "execution_count": 15,
   "id": "c3b53b33-27ba-4f41-9036-568d61205670",
   "metadata": {},
   "outputs": [],
   "source": [
    "df = pd.read_csv(f\"data/spin_imbalances_L{length}_{pattern}.dat\")\n",
    "complex_types = {\n",
    "    'spin_up_imb_S_plus': complex,\n",
    "    'spin_up_imb_S_minus': complex,\n",
    "    'spin_up_imb_S_x': complex,\n",
    "    'spin_up_imb_S_y': complex,\n",
    "    'spin_up_imb_S_z': complex\n",
    "}\n",
    "df = df.astype(complex_types)"
   ]
  },
  {
   "cell_type": "code",
   "execution_count": 16,
   "id": "33b100ef-e2dd-48c7-8b2f-4355e4d8c74b",
   "metadata": {
    "tags": []
   },
   "outputs": [
    {
     "data": {
      "text/html": [
       "<div>\n",
       "<style scoped>\n",
       "    .dataframe tbody tr th:only-of-type {\n",
       "        vertical-align: middle;\n",
       "    }\n",
       "\n",
       "    .dataframe tbody tr th {\n",
       "        vertical-align: top;\n",
       "    }\n",
       "\n",
       "    .dataframe thead th {\n",
       "        text-align: right;\n",
       "    }\n",
       "</style>\n",
       "<table border=\"1\" class=\"dataframe\">\n",
       "  <thead>\n",
       "    <tr style=\"text-align: right;\">\n",
       "      <th></th>\n",
       "      <th>Unnamed: 0</th>\n",
       "      <th>coupling</th>\n",
       "      <th>disorder</th>\n",
       "      <th>binnum</th>\n",
       "      <th>spin_up_imb_n_up</th>\n",
       "      <th>spin_up_imb_n_down</th>\n",
       "      <th>spin_up_imb_S_plus</th>\n",
       "      <th>spin_up_imb_S_minus</th>\n",
       "      <th>spin_up_imb_charge</th>\n",
       "      <th>spin_up_imb_S_x</th>\n",
       "      <th>spin_up_imb_S_y</th>\n",
       "      <th>spin_up_imb_S_z</th>\n",
       "    </tr>\n",
       "  </thead>\n",
       "  <tbody>\n",
       "    <tr>\n",
       "      <th>0</th>\n",
       "      <td>0</td>\n",
       "      <td>0.0</td>\n",
       "      <td>8</td>\n",
       "      <td>-1</td>\n",
       "      <td>0.034204</td>\n",
       "      <td>-0.034204</td>\n",
       "      <td>-1.996462e-21+0.000000e+00j</td>\n",
       "      <td>-1.996462e-21+0.000000e+00j</td>\n",
       "      <td>-9.979115e-12</td>\n",
       "      <td>-1.996462e-21+0.000000e+00j</td>\n",
       "      <td>0.000000+0.000000j</td>\n",
       "      <td>0.068407+0.000000j</td>\n",
       "    </tr>\n",
       "    <tr>\n",
       "      <th>1</th>\n",
       "      <td>1</td>\n",
       "      <td>0.0</td>\n",
       "      <td>9</td>\n",
       "      <td>-1</td>\n",
       "      <td>0.053315</td>\n",
       "      <td>-0.053315</td>\n",
       "      <td>8.682698e-20+0.000000e+00j</td>\n",
       "      <td>8.682698e-20+0.000000e+00j</td>\n",
       "      <td>1.283941e-10</td>\n",
       "      <td>8.682698e-20+0.000000e+00j</td>\n",
       "      <td>0.000000+0.000000j</td>\n",
       "      <td>0.106630+0.000000j</td>\n",
       "    </tr>\n",
       "    <tr>\n",
       "      <th>2</th>\n",
       "      <td>2</td>\n",
       "      <td>0.0</td>\n",
       "      <td>10</td>\n",
       "      <td>-1</td>\n",
       "      <td>0.075409</td>\n",
       "      <td>-0.075409</td>\n",
       "      <td>-2.616409e-20+0.000000e+00j</td>\n",
       "      <td>-2.616409e-20+0.000000e+00j</td>\n",
       "      <td>-3.089778e-10</td>\n",
       "      <td>-2.616409e-20+0.000000e+00j</td>\n",
       "      <td>0.000000+0.000000j</td>\n",
       "      <td>0.150818+0.000000j</td>\n",
       "    </tr>\n",
       "    <tr>\n",
       "      <th>3</th>\n",
       "      <td>3</td>\n",
       "      <td>0.0</td>\n",
       "      <td>11</td>\n",
       "      <td>-1</td>\n",
       "      <td>0.097813</td>\n",
       "      <td>-0.097813</td>\n",
       "      <td>7.641541e-21+0.000000e+00j</td>\n",
       "      <td>7.641541e-21+0.000000e+00j</td>\n",
       "      <td>4.907097e-10</td>\n",
       "      <td>7.641541e-21+0.000000e+00j</td>\n",
       "      <td>0.000000+0.000000j</td>\n",
       "      <td>0.195626+0.000000j</td>\n",
       "    </tr>\n",
       "    <tr>\n",
       "      <th>4</th>\n",
       "      <td>4</td>\n",
       "      <td>0.0</td>\n",
       "      <td>12</td>\n",
       "      <td>-1</td>\n",
       "      <td>0.124542</td>\n",
       "      <td>-0.124542</td>\n",
       "      <td>-3.379285e-20+0.000000e+00j</td>\n",
       "      <td>-3.379285e-20+0.000000e+00j</td>\n",
       "      <td>6.441449e-10</td>\n",
       "      <td>-3.379285e-20+0.000000e+00j</td>\n",
       "      <td>0.000000+0.000000j</td>\n",
       "      <td>0.249084+0.000000j</td>\n",
       "    </tr>\n",
       "    <tr>\n",
       "      <th>...</th>\n",
       "      <td>...</td>\n",
       "      <td>...</td>\n",
       "      <td>...</td>\n",
       "      <td>...</td>\n",
       "      <td>...</td>\n",
       "      <td>...</td>\n",
       "      <td>...</td>\n",
       "      <td>...</td>\n",
       "      <td>...</td>\n",
       "      <td>...</td>\n",
       "      <td>...</td>\n",
       "      <td>...</td>\n",
       "    </tr>\n",
       "    <tr>\n",
       "      <th>181</th>\n",
       "      <td>181</td>\n",
       "      <td>1.9</td>\n",
       "      <td>14</td>\n",
       "      <td>-1</td>\n",
       "      <td>0.020287</td>\n",
       "      <td>-0.020293</td>\n",
       "      <td>-1.024171e-04+1.901166e-05j</td>\n",
       "      <td>-1.024171e-04-1.901166e-05j</td>\n",
       "      <td>-1.671465e-06</td>\n",
       "      <td>-1.024171e-04+0.000000e+00j</td>\n",
       "      <td>0.000019+0.000000j</td>\n",
       "      <td>0.040580+0.000000j</td>\n",
       "    </tr>\n",
       "    <tr>\n",
       "      <th>182</th>\n",
       "      <td>182</td>\n",
       "      <td>1.9</td>\n",
       "      <td>15</td>\n",
       "      <td>-1</td>\n",
       "      <td>0.025664</td>\n",
       "      <td>-0.025667</td>\n",
       "      <td>-7.565000e-05+5.291877e-05j</td>\n",
       "      <td>-7.565000e-05-5.291877e-05j</td>\n",
       "      <td>1.535046e-06</td>\n",
       "      <td>-7.565000e-05+0.000000e+00j</td>\n",
       "      <td>0.000053+0.000000j</td>\n",
       "      <td>0.051331+0.000000j</td>\n",
       "    </tr>\n",
       "    <tr>\n",
       "      <th>183</th>\n",
       "      <td>183</td>\n",
       "      <td>1.9</td>\n",
       "      <td>16</td>\n",
       "      <td>-1</td>\n",
       "      <td>0.032347</td>\n",
       "      <td>-0.032343</td>\n",
       "      <td>4.288335e-05-8.022630e-06j</td>\n",
       "      <td>4.288335e-05+8.022630e-06j</td>\n",
       "      <td>1.565615e-06</td>\n",
       "      <td>4.288335e-05+0.000000e+00j</td>\n",
       "      <td>-0.000008+0.000000j</td>\n",
       "      <td>0.064690+0.000000j</td>\n",
       "    </tr>\n",
       "    <tr>\n",
       "      <th>184</th>\n",
       "      <td>184</td>\n",
       "      <td>1.9</td>\n",
       "      <td>17</td>\n",
       "      <td>-1</td>\n",
       "      <td>0.040321</td>\n",
       "      <td>-0.040329</td>\n",
       "      <td>3.883270e-05+5.712419e-05j</td>\n",
       "      <td>3.883270e-05-5.712419e-05j</td>\n",
       "      <td>-7.706923e-07</td>\n",
       "      <td>3.883270e-05+0.000000e+00j</td>\n",
       "      <td>0.000057+0.000000j</td>\n",
       "      <td>0.080650+0.000000j</td>\n",
       "    </tr>\n",
       "    <tr>\n",
       "      <th>185</th>\n",
       "      <td>185</td>\n",
       "      <td>1.9</td>\n",
       "      <td>18</td>\n",
       "      <td>-1</td>\n",
       "      <td>0.049385</td>\n",
       "      <td>-0.049365</td>\n",
       "      <td>4.275685e-06-8.209597e-06j</td>\n",
       "      <td>4.275685e-06+8.209597e-06j</td>\n",
       "      <td>1.954755e-06</td>\n",
       "      <td>4.275685e-06+0.000000e+00j</td>\n",
       "      <td>-0.000008+0.000000j</td>\n",
       "      <td>0.098750+0.000000j</td>\n",
       "    </tr>\n",
       "  </tbody>\n",
       "</table>\n",
       "<p>186 rows × 12 columns</p>\n",
       "</div>"
      ],
      "text/plain": [
       "     Unnamed: 0  coupling  disorder  binnum  spin_up_imb_n_up  \\\n",
       "0             0       0.0         8      -1          0.034204   \n",
       "1             1       0.0         9      -1          0.053315   \n",
       "2             2       0.0        10      -1          0.075409   \n",
       "3             3       0.0        11      -1          0.097813   \n",
       "4             4       0.0        12      -1          0.124542   \n",
       "..          ...       ...       ...     ...               ...   \n",
       "181         181       1.9        14      -1          0.020287   \n",
       "182         182       1.9        15      -1          0.025664   \n",
       "183         183       1.9        16      -1          0.032347   \n",
       "184         184       1.9        17      -1          0.040321   \n",
       "185         185       1.9        18      -1          0.049385   \n",
       "\n",
       "     spin_up_imb_n_down          spin_up_imb_S_plus  \\\n",
       "0             -0.034204 -1.996462e-21+0.000000e+00j   \n",
       "1             -0.053315  8.682698e-20+0.000000e+00j   \n",
       "2             -0.075409 -2.616409e-20+0.000000e+00j   \n",
       "3             -0.097813  7.641541e-21+0.000000e+00j   \n",
       "4             -0.124542 -3.379285e-20+0.000000e+00j   \n",
       "..                  ...                         ...   \n",
       "181           -0.020293 -1.024171e-04+1.901166e-05j   \n",
       "182           -0.025667 -7.565000e-05+5.291877e-05j   \n",
       "183           -0.032343  4.288335e-05-8.022630e-06j   \n",
       "184           -0.040329  3.883270e-05+5.712419e-05j   \n",
       "185           -0.049365  4.275685e-06-8.209597e-06j   \n",
       "\n",
       "            spin_up_imb_S_minus  spin_up_imb_charge  \\\n",
       "0   -1.996462e-21+0.000000e+00j       -9.979115e-12   \n",
       "1    8.682698e-20+0.000000e+00j        1.283941e-10   \n",
       "2   -2.616409e-20+0.000000e+00j       -3.089778e-10   \n",
       "3    7.641541e-21+0.000000e+00j        4.907097e-10   \n",
       "4   -3.379285e-20+0.000000e+00j        6.441449e-10   \n",
       "..                          ...                 ...   \n",
       "181 -1.024171e-04-1.901166e-05j       -1.671465e-06   \n",
       "182 -7.565000e-05-5.291877e-05j        1.535046e-06   \n",
       "183  4.288335e-05+8.022630e-06j        1.565615e-06   \n",
       "184  3.883270e-05-5.712419e-05j       -7.706923e-07   \n",
       "185  4.275685e-06+8.209597e-06j        1.954755e-06   \n",
       "\n",
       "                spin_up_imb_S_x     spin_up_imb_S_y     spin_up_imb_S_z  \n",
       "0   -1.996462e-21+0.000000e+00j  0.000000+0.000000j  0.068407+0.000000j  \n",
       "1    8.682698e-20+0.000000e+00j  0.000000+0.000000j  0.106630+0.000000j  \n",
       "2   -2.616409e-20+0.000000e+00j  0.000000+0.000000j  0.150818+0.000000j  \n",
       "3    7.641541e-21+0.000000e+00j  0.000000+0.000000j  0.195626+0.000000j  \n",
       "4   -3.379285e-20+0.000000e+00j  0.000000+0.000000j  0.249084+0.000000j  \n",
       "..                          ...                 ...                 ...  \n",
       "181 -1.024171e-04+0.000000e+00j  0.000019+0.000000j  0.040580+0.000000j  \n",
       "182 -7.565000e-05+0.000000e+00j  0.000053+0.000000j  0.051331+0.000000j  \n",
       "183  4.288335e-05+0.000000e+00j -0.000008+0.000000j  0.064690+0.000000j  \n",
       "184  3.883270e-05+0.000000e+00j  0.000057+0.000000j  0.080650+0.000000j  \n",
       "185  4.275685e-06+0.000000e+00j -0.000008+0.000000j  0.098750+0.000000j  \n",
       "\n",
       "[186 rows x 12 columns]"
      ]
     },
     "execution_count": 16,
     "metadata": {},
     "output_type": "execute_result"
    }
   ],
   "source": [
    "df"
   ]
  },
  {
   "cell_type": "code",
   "execution_count": 17,
   "id": "4da11249-a237-42c4-8229-3aea22c80632",
   "metadata": {
    "tags": []
   },
   "outputs": [
    {
     "name": "stderr",
     "output_type": "stream",
     "text": [
      "qt.qpa.plugin: Could not find the Qt platform plugin \"wayland\" in \"\"\n"
     ]
    }
   ],
   "source": [
    "g = sns.heatmap(data=pd.pivot_table(data=df, index=\"coupling\", columns=\"disorder\", values=\"spin_up_imb_n_up\"))\n",
    "# g.set_yticklabels([f\"{c:.1f}\" for c in np.arange(1.2, 1.71, 0.1)][::-1])"
   ]
  },
  {
   "cell_type": "code",
   "execution_count": 18,
   "id": "12904508-8d14-4ed6-85a8-bc05f1e5be60",
   "metadata": {},
   "outputs": [],
   "source": [
    "imbalances_real = [\"spin_up_imb_n_up\", \"spin_up_imb_n_down\",  \"spin_up_imb_charge\",\n",
    "                   \"spin_up_imb_S_x\", \"spin_up_imb_S_y\", \"spin_up_imb_S_z\"]\n",
    "imbalances_complex = [\"spin_up_imb_S_plus\",\n",
    "            \"spin_up_imb_S_minus\", \"spin_down_imb_S_plus\", \"spin_down_imb_S_minus\",]\n",
    "imbalances_considered = [\"spin_up_imb_n_up\"] #, \"spin_down_imb_n_down\"]"
   ]
  },
  {
   "cell_type": "code",
   "execution_count": 19,
   "id": "604811b2-89a8-43b2-911f-4f3cada4fdca",
   "metadata": {},
   "outputs": [],
   "source": [
    "binnum = -1\n",
    "fig, axes = plt.subplots(nrows=1, ncols=1, figsize=(11, 5))\n",
    "for i, imb in enumerate(imbalances_considered):\n",
    "    # ax = axes.flatten()[i]\n",
    "    ax = axes\n",
    "    pivoted = pd.pivot_table(data=df.loc[df[\"binnum\"]==binnum], index=\"coupling\",\n",
    "                            columns=\"disorder\", values=imb)\n",
    "    cbar_kwargs = colorbar_kwargs.copy()\n",
    "    # vmin = pivoted.min().min()\n",
    "    # vmax = pivoted.max().max()\n",
    "    vmin = 1e-5\n",
    "    vmax = 1e0\n",
    "    # print(vmin, vmax)\n",
    "    norm = mpl.colors.LogNorm(vmin=vmin, vmax=vmax)\n",
    "    # cbar_kwargs[\"ticks\"] = np.logspace(0, -3, 4)\n",
    "    sns.heatmap(data=pivoted, ax=ax, cbar_kws=cbar_kwargs, norm=norm, annot=True, fmt=\".2e\")\n",
    "    ax.set_title(imb)\n",
    "    # ax.set_yticklabels([f\"{c:.1f}\" for c in np.arange(1.2, 1.71, 0.1)][::-1])\n",
    "fig.suptitle(f\"Bin {binnum}\")\n",
    "fig.tight_layout()"
   ]
  },
  {
   "cell_type": "code",
   "execution_count": 20,
   "id": "42baac9a-fc0c-44ab-98f0-73c9a321de74",
   "metadata": {},
   "outputs": [],
   "source": [
    "fig, axes = plt.subplots(nrows=3, ncols=2, figsize=(11, 11))\n",
    "for i, imb in enumerate(imbalances_real):\n",
    "    ax = axes.flatten()[i]\n",
    "    # pivoted = pd.pivot_table(data=df, index=\"coupling\", columns=\"disorder\", values=imb)\n",
    "    sns.scatterplot(data=df, x=\"coupling\", y=np.real(df[imb]), hue=\"disorder\", ax=ax, palette=\"deep\")\n",
    "    # ax.set_xlim(np.min(ax.get_xlim()), np.max(ax.get_xlim()))\n",
    "    # ax.set_ylim(np.min(ax.get_ylim()), np.max(ax.get_ylim()))\n",
    "    sns.move_legend(ax, \"upper left\", bbox_to_anchor=(1, 1))\n",
    "    ax.set_title(imb)\n",
    "fig.tight_layout()"
   ]
  },
  {
   "cell_type": "code",
   "execution_count": 21,
   "id": "9d423894-36e3-4889-a28c-c76f77bf2434",
   "metadata": {},
   "outputs": [
    {
     "data": {
      "text/plain": [
       "<matplotlib.collections.PathCollection at 0x7f5bf019e380>"
      ]
     },
     "execution_count": 21,
     "metadata": {},
     "output_type": "execute_result"
    }
   ],
   "source": [
    "fig, ax = plt.subplots()\n",
    "# sns.set_style(\"darkgrid\")\n",
    "# sns.set_palette(\"Reds\")\n",
    "# sns.set_palette(\"\")\n",
    "# data = \n",
    "data = df.loc[df[\"disorder\"].isin([8,])]\n",
    "x = data[\"coupling\"]\n",
    "y = data[\"spin_up_imb_n_up\"]\n",
    "# sns.scatterplot(data=, x=\"coupling\", y=\"spin_up_imb_n_up\", hue=\"#fffffff\", cmap=\"viridis\", ax=ax)\n",
    "ax.scatter(x, y, color=\"red\")\n",
    "\n",
    "data = df.loc[df[\"disorder\"].isin([12,])]\n",
    "x = data[\"coupling\"]\n",
    "y = data[\"spin_up_imb_n_up\"]\n",
    "ax.scatter(x, y, color=\"blue\")\n",
    "\n",
    "data = df.loc[df[\"disorder\"].isin([16,])]\n",
    "x = data[\"coupling\"]\n",
    "y = data[\"spin_up_imb_n_up\"]\n",
    "ax.scatter(x, y, color=\"green\")\n",
    "\n",
    "\n",
    "# sns.move_legend(ax, \"upper left\", bbox_to_anchor=(1, 1))\n",
    "# ax.set_yscale(\"log\")"
   ]
  },
  {
   "cell_type": "code",
   "execution_count": 22,
   "id": "5497458e-08ab-49f5-bc9f-6d0cafe052af",
   "metadata": {},
   "outputs": [
    {
     "data": {
      "text/plain": [
       "<matplotlib.collections.PathCollection at 0x7f5bf0163820>"
      ]
     },
     "execution_count": 22,
     "metadata": {},
     "output_type": "execute_result"
    }
   ],
   "source": [
    "data = df.loc[df[\"coupling\"] == 0.5]\n",
    "# data = df.loc[df[\"disorder\"].isin([16,])]\n",
    "x = data[\"disorder\"]\n",
    "y = data[\"spin_up_imb_n_up\"]\n",
    "plt.scatter(x, y, color=\"green\")\n",
    "\n",
    "# sns.scatterplot(data=data, x=\"disorder\", y=\"spin_up_imb_n_up\")\n"
   ]
  },
  {
   "cell_type": "code",
   "execution_count": 23,
   "id": "3f3b0112-9acb-4c93-b287-a471f568aa89",
   "metadata": {},
   "outputs": [
    {
     "data": {
      "text/plain": [
       "0.04665599999999999"
      ]
     },
     "execution_count": 23,
     "metadata": {},
     "output_type": "execute_result"
    }
   ],
   "source": [
    "0.6**6"
   ]
  },
  {
   "cell_type": "code",
   "execution_count": 24,
   "id": "b616b897-27ec-4720-94b4-01b96b1a6da4",
   "metadata": {},
   "outputs": [],
   "source": [
    "fig, ax = plt.subplots()\n",
    "# print(df[\"spin_up_imb_S_x\"])\n",
    "data = df\n",
    "sns.scatterplot(data=data, x=\"coupling\", y=np.real(data[\"spin_up_imb_S_x\"]), hue=\"disorder\", ax=ax)\n",
    "sns.move_legend(ax, \"upper left\", bbox_to_anchor=(1, 1))\n",
    "# ax.set_yscale(\"log\")"
   ]
  },
  {
   "cell_type": "code",
   "execution_count": 25,
   "id": "e93f5578-2af2-41bd-9a0d-ca7f7c03d8d4",
   "metadata": {},
   "outputs": [],
   "source": [
    "y = np.real(df[\"spin_up_imb_S_y\"])\n",
    "# print(df[\"spin_up_imb_S_y\"])\n",
    "fig, ax = plt.subplots()\n",
    "sns.scatterplot(data=df, x=\"coupling\", y=y, hue=\"disorder\", ax=ax)\n",
    "sns.move_legend(ax, \"upper left\", bbox_to_anchor=(1, 1))\n",
    "# ax.set_ylim(-20, 20)\n",
    "# ax.set_yscale(\"log\")"
   ]
  },
  {
   "cell_type": "code",
   "execution_count": 26,
   "id": "1cd79b34-7858-4718-aa8d-b1f087a5a2bc",
   "metadata": {},
   "outputs": [
    {
     "ename": "NameError",
     "evalue": "name 'loc_df' is not defined",
     "output_type": "error",
     "traceback": [
      "\u001b[0;31m---------------------------------------------------------------------------\u001b[0m",
      "\u001b[0;31mNameError\u001b[0m                                 Traceback (most recent call last)",
      "Input \u001b[0;32mIn [26]\u001b[0m, in \u001b[0;36m<cell line: 1>\u001b[0;34m()\u001b[0m\n\u001b[1;32m      6\u001b[0m ax \u001b[38;5;241m=\u001b[39m axes\n\u001b[1;32m      7\u001b[0m \u001b[38;5;66;03m# pivoted = pd.pivot_table(data=df, index=\"coupling\", columns=\"disorder\", values=imb)\u001b[39;00m\n\u001b[0;32m----> 8\u001b[0m cond \u001b[38;5;241m=\u001b[39m (\u001b[43mloc_df\u001b[49m[\u001b[38;5;124m\"\u001b[39m\u001b[38;5;124mdisorder\u001b[39m\u001b[38;5;124m\"\u001b[39m] \u001b[38;5;241m==\u001b[39m disorder)\n\u001b[1;32m      9\u001b[0m sns\u001b[38;5;241m.\u001b[39mscatterplot(data\u001b[38;5;241m=\u001b[39mloc_df\u001b[38;5;241m.\u001b[39mloc[cond], x\u001b[38;5;241m=\u001b[39m\u001b[38;5;124m\"\u001b[39m\u001b[38;5;124mbinnum\u001b[39m\u001b[38;5;124m\"\u001b[39m, y\u001b[38;5;241m=\u001b[39mimb, hue\u001b[38;5;241m=\u001b[39m\u001b[38;5;124m\"\u001b[39m\u001b[38;5;124mcoupling\u001b[39m\u001b[38;5;124m\"\u001b[39m, ax\u001b[38;5;241m=\u001b[39max)\n\u001b[1;32m     10\u001b[0m \u001b[38;5;66;03m# ax.set_xlim(np.min(ax.get_xlim()), np.max(ax.get_xlim()))\u001b[39;00m\n\u001b[1;32m     11\u001b[0m \u001b[38;5;66;03m# ax.set_ylim(np.min(ax.get_ylim()), np.max(ax.get_ylim()))\u001b[39;00m\n\u001b[1;32m     12\u001b[0m \u001b[38;5;66;03m# sns.move_legend(ax, \"upper left\", bbox_to_anchor=(1, 1))\u001b[39;00m\n",
      "\u001b[0;31mNameError\u001b[0m: name 'loc_df' is not defined"
     ]
    }
   ],
   "source": [
    "\n",
    "for disorder in [13, 14, 15]:\n",
    "    fig, axes = plt.subplots(nrows=1, ncols=1, figsize=(11, 11))\n",
    "    # for binnum in range(-1, totalbins):\n",
    "    for i, imb in enumerate(imbalances_considered):\n",
    "        # ax = axes.flatten()[i]\n",
    "        ax = axes\n",
    "        # pivoted = pd.pivot_table(data=df, index=\"coupling\", columns=\"disorder\", values=imb)\n",
    "        cond = (loc_df[\"disorder\"] == disorder)\n",
    "        sns.scatterplot(data=loc_df.loc[cond], x=\"binnum\", y=imb, hue=\"coupling\", ax=ax)\n",
    "        # ax.set_xlim(np.min(ax.get_xlim()), np.max(ax.get_xlim()))\n",
    "        # ax.set_ylim(np.min(ax.get_ylim()), np.max(ax.get_ylim()))\n",
    "        # sns.move_legend(ax, \"upper left\", bbox_to_anchor=(1, 1))\n",
    "        ax.set_yscale(\"log\")\n",
    "        ax.set_title(f\"{imb} W = {disorder}\")\n",
    "\n",
    "    fig.tight_layout()\n",
    "    filename = f\"imbalances_60x60_W{disorder}\"\n",
    "    fig.savefig(\"plots/PNGs/\" + filename + \".png\")\n",
    "    fig.savefig(\"plots/PDFs/\" + filename + \".pdf\")\n",
    "    plt.close(fig)"
   ]
  },
  {
   "cell_type": "code",
   "execution_count": null,
   "id": "cfd50df7-10c0-4635-b4b5-7875e1ea7f3b",
   "metadata": {},
   "outputs": [],
   "source": [
    "fig, axes = plt.subplots(nrows=3, ncols=2, figsize=(11, 11))\n",
    "for binnum in range(-1, totalbins):\n",
    "    for i, imb in enumerate(imbalances_considered):\n",
    "        ax = axes.flatten()[i]\n",
    "        # pivoted = pd.pivot_table(data=df, index=\"coupling\", columns=\"disorder\", values=imb)\n",
    "        sns.scatterplot(data=np.and(df.loc[df[\"binnum\"]==binnumdf[]], x=\"coupling\", y=imb, hue=\"disorder\", ax=ax)\n",
    "        ax.set_xlim(np.min(ax.get_xlim()), np.max(ax.get_xlim()))\n",
    "        ax.set_ylim(np.min(ax.get_ylim()), np.max(ax.get_ylim()))\n",
    "        sns.move_legend(ax, \"upper left\", bbox_to_anchor=(1, 1))\n",
    "        ax.set_title(imb)\n",
    "    fig.tight_layout()\n",
    "    filename = f\"imbalances_60x60_bin{binnum}\"\n",
    "    fig.savefig(\"plots/PNGs/\" + filename + \".png\")\n",
    "    fig.savefig(\"plots/PDFs/\" + filename + \".pdf\")\n",
    "    plt.close(fig)"
   ]
  },
  {
   "cell_type": "code",
   "execution_count": null,
   "id": "a451a7ca-4f60-4132-80fd-8e860d2acab9",
   "metadata": {},
   "outputs": [],
   "source": [
    "density = np.zeros((length,length))\n",
    "for x in range(length):\n",
    "    for y in range(length):\n",
    "        index = x + length*y\n",
    "        if(index in upList):\n",
    "            density[x, y] += 1\n",
    "        if(index in downList):\n",
    "            density[x, y] += 1\n",
    "\n",
    "print(density)\n",
    "calculate_imbalance(density, length, setAup)"
   ]
  },
  {
   "cell_type": "code",
   "execution_count": null,
   "id": "763a88a5-acd7-4dea-86f8-bc374c7c4f7a",
   "metadata": {},
   "outputs": [],
   "source": [
    "n_up, n_down"
   ]
  }
 ],
 "metadata": {
  "kernelspec": {
   "display_name": "MBL",
   "language": "python",
   "name": "mbl"
  },
  "language_info": {
   "codemirror_mode": {
    "name": "ipython",
    "version": 3
   },
   "file_extension": ".py",
   "mimetype": "text/x-python",
   "name": "python",
   "nbconvert_exporter": "python",
   "pygments_lexer": "ipython3",
   "version": "3.10.8"
  }
 },
 "nbformat": 4,
 "nbformat_minor": 5
}
