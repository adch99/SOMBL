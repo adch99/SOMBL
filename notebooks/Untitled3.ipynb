{
 "cells": [
  {
   "cell_type": "code",
   "execution_count": 2,
   "id": "aacb6536-09a5-4ae7-8343-88a9d745cca2",
   "metadata": {},
   "outputs": [],
   "source": [
    "var(\"L theta t x y\")\n",
    "qy = var(\"qy\", latex_name=\"q_y\")\n",
    "qx = var(\"qx\", latex_name=\"q_x\")"
   ]
  },
  {
   "cell_type": "code",
   "execution_count": 16,
   "id": "1356553c-1e20-4176-bc48-bfa04255626e",
   "metadata": {},
   "outputs": [
    {
     "data": {
      "text/html": [
       "<html>\\(\\displaystyle \\frac{{\\left({\\left(\\cos\\left(-2 \\, {q_x} + 2 \\, {q_y}\\right) - 1\\right)} \\sin\\left(L \\arctan\\left(\\sin\\left(-2 \\, {q_x} + 2 \\, {q_y}\\right), \\cos\\left(-2 \\, {q_x} + 2 \\, {q_y}\\right)\\right)\\right) - \\cos\\left(L \\arctan\\left(\\sin\\left(-2 \\, {q_x} + 2 \\, {q_y}\\right), \\cos\\left(-2 \\, {q_x} + 2 \\, {q_y}\\right)\\right)\\right) \\sin\\left(-2 \\, {q_x} + 2 \\, {q_y}\\right) + \\sin\\left(-2 \\, {q_x} + 2 \\, {q_y}\\right)\\right)} \\cos\\left(4 \\, {q_y} t\\right) - {\\left({\\left(\\cos\\left(-2 \\, {q_x} + 2 \\, {q_y}\\right) - 1\\right)} \\cos\\left(L \\arctan\\left(\\sin\\left(-2 \\, {q_x} + 2 \\, {q_y}\\right), \\cos\\left(-2 \\, {q_x} + 2 \\, {q_y}\\right)\\right)\\right) + \\sin\\left(L \\arctan\\left(\\sin\\left(-2 \\, {q_x} + 2 \\, {q_y}\\right), \\cos\\left(-2 \\, {q_x} + 2 \\, {q_y}\\right)\\right)\\right) \\sin\\left(-2 \\, {q_x} + 2 \\, {q_y}\\right) - \\cos\\left(-2 \\, {q_x} + 2 \\, {q_y}\\right) + 1\\right)} \\sin\\left(4 \\, {q_y} t\\right)}{2 \\, {\\left(\\cos\\left(-2 \\, {q_x} + 2 \\, {q_y}\\right) - 1\\right)}}\\)</html>"
      ],
      "text/latex": [
       "$\\displaystyle \\frac{{\\left({\\left(\\cos\\left(-2 \\, {q_x} + 2 \\, {q_y}\\right) - 1\\right)} \\sin\\left(L \\arctan\\left(\\sin\\left(-2 \\, {q_x} + 2 \\, {q_y}\\right), \\cos\\left(-2 \\, {q_x} + 2 \\, {q_y}\\right)\\right)\\right) - \\cos\\left(L \\arctan\\left(\\sin\\left(-2 \\, {q_x} + 2 \\, {q_y}\\right), \\cos\\left(-2 \\, {q_x} + 2 \\, {q_y}\\right)\\right)\\right) \\sin\\left(-2 \\, {q_x} + 2 \\, {q_y}\\right) + \\sin\\left(-2 \\, {q_x} + 2 \\, {q_y}\\right)\\right)} \\cos\\left(4 \\, {q_y} t\\right) - {\\left({\\left(\\cos\\left(-2 \\, {q_x} + 2 \\, {q_y}\\right) - 1\\right)} \\cos\\left(L \\arctan\\left(\\sin\\left(-2 \\, {q_x} + 2 \\, {q_y}\\right), \\cos\\left(-2 \\, {q_x} + 2 \\, {q_y}\\right)\\right)\\right) + \\sin\\left(L \\arctan\\left(\\sin\\left(-2 \\, {q_x} + 2 \\, {q_y}\\right), \\cos\\left(-2 \\, {q_x} + 2 \\, {q_y}\\right)\\right)\\right) \\sin\\left(-2 \\, {q_x} + 2 \\, {q_y}\\right) - \\cos\\left(-2 \\, {q_x} + 2 \\, {q_y}\\right) + 1\\right)} \\sin\\left(4 \\, {q_y} t\\right)}{2 \\, {\\left(\\cos\\left(-2 \\, {q_x} + 2 \\, {q_y}\\right) - 1\\right)}}$"
      ],
      "text/plain": [
       "1/2*(((cos(-2*qx + 2*qy) - 1)*sin(L*arctan2(sin(-2*qx + 2*qy), cos(-2*qx + 2*qy))) - cos(L*arctan2(sin(-2*qx + 2*qy), cos(-2*qx + 2*qy)))*sin(-2*qx + 2*qy) + sin(-2*qx + 2*qy))*cos(4*qy*t) - ((cos(-2*qx + 2*qy) - 1)*cos(L*arctan2(sin(-2*qx + 2*qy), cos(-2*qx + 2*qy))) + sin(L*arctan2(sin(-2*qx + 2*qy), cos(-2*qx + 2*qy)))*sin(-2*qx + 2*qy) - cos(-2*qx + 2*qy) + 1)*sin(4*qy*t))/(cos(-2*qx + 2*qy) - 1)"
      ]
     },
     "metadata": {},
     "output_type": "display_data"
    },
    {
     "data": {
      "text/html": [
       "<html>\\(\\displaystyle \\frac{{\\left({\\left(\\cos\\left(-2 \\, {q_x} + 2 \\, {q_y}\\right) - 1\\right)} \\sin\\left(L \\arctan\\left(\\sin\\left(-2 \\, {q_x} + 2 \\, {q_y}\\right), \\cos\\left(-2 \\, {q_x} + 2 \\, {q_y}\\right)\\right)\\right) - \\cos\\left(L \\arctan\\left(\\sin\\left(-2 \\, {q_x} + 2 \\, {q_y}\\right), \\cos\\left(-2 \\, {q_x} + 2 \\, {q_y}\\right)\\right)\\right) \\sin\\left(-2 \\, {q_x} + 2 \\, {q_y}\\right) + \\sin\\left(-2 \\, {q_x} + 2 \\, {q_y}\\right)\\right)} \\cos\\left(4 \\, {q_y} t + 2 \\, {q_y}\\right) - {\\left({\\left(\\cos\\left(-2 \\, {q_x} + 2 \\, {q_y}\\right) - 1\\right)} \\cos\\left(L \\arctan\\left(\\sin\\left(-2 \\, {q_x} + 2 \\, {q_y}\\right), \\cos\\left(-2 \\, {q_x} + 2 \\, {q_y}\\right)\\right)\\right) + \\sin\\left(L \\arctan\\left(\\sin\\left(-2 \\, {q_x} + 2 \\, {q_y}\\right), \\cos\\left(-2 \\, {q_x} + 2 \\, {q_y}\\right)\\right)\\right) \\sin\\left(-2 \\, {q_x} + 2 \\, {q_y}\\right) - \\cos\\left(-2 \\, {q_x} + 2 \\, {q_y}\\right) + 1\\right)} \\sin\\left(4 \\, {q_y} t + 2 \\, {q_y}\\right)}{2 \\, {\\left(\\cos\\left(-2 \\, {q_x} + 2 \\, {q_y}\\right) - 1\\right)}}\\)</html>"
      ],
      "text/latex": [
       "$\\displaystyle \\frac{{\\left({\\left(\\cos\\left(-2 \\, {q_x} + 2 \\, {q_y}\\right) - 1\\right)} \\sin\\left(L \\arctan\\left(\\sin\\left(-2 \\, {q_x} + 2 \\, {q_y}\\right), \\cos\\left(-2 \\, {q_x} + 2 \\, {q_y}\\right)\\right)\\right) - \\cos\\left(L \\arctan\\left(\\sin\\left(-2 \\, {q_x} + 2 \\, {q_y}\\right), \\cos\\left(-2 \\, {q_x} + 2 \\, {q_y}\\right)\\right)\\right) \\sin\\left(-2 \\, {q_x} + 2 \\, {q_y}\\right) + \\sin\\left(-2 \\, {q_x} + 2 \\, {q_y}\\right)\\right)} \\cos\\left(4 \\, {q_y} t + 2 \\, {q_y}\\right) - {\\left({\\left(\\cos\\left(-2 \\, {q_x} + 2 \\, {q_y}\\right) - 1\\right)} \\cos\\left(L \\arctan\\left(\\sin\\left(-2 \\, {q_x} + 2 \\, {q_y}\\right), \\cos\\left(-2 \\, {q_x} + 2 \\, {q_y}\\right)\\right)\\right) + \\sin\\left(L \\arctan\\left(\\sin\\left(-2 \\, {q_x} + 2 \\, {q_y}\\right), \\cos\\left(-2 \\, {q_x} + 2 \\, {q_y}\\right)\\right)\\right) \\sin\\left(-2 \\, {q_x} + 2 \\, {q_y}\\right) - \\cos\\left(-2 \\, {q_x} + 2 \\, {q_y}\\right) + 1\\right)} \\sin\\left(4 \\, {q_y} t + 2 \\, {q_y}\\right)}{2 \\, {\\left(\\cos\\left(-2 \\, {q_x} + 2 \\, {q_y}\\right) - 1\\right)}}$"
      ],
      "text/plain": [
       "1/2*(((cos(-2*qx + 2*qy) - 1)*sin(L*arctan2(sin(-2*qx + 2*qy), cos(-2*qx + 2*qy))) - cos(L*arctan2(sin(-2*qx + 2*qy), cos(-2*qx + 2*qy)))*sin(-2*qx + 2*qy) + sin(-2*qx + 2*qy))*cos(4*qy*t + 2*qy) - ((cos(-2*qx + 2*qy) - 1)*cos(L*arctan2(sin(-2*qx + 2*qy), cos(-2*qx + 2*qy))) + sin(L*arctan2(sin(-2*qx + 2*qy), cos(-2*qx + 2*qy)))*sin(-2*qx + 2*qy) - cos(-2*qx + 2*qy) + 1)*sin(4*qy*t + 2*qy))/(cos(-2*qx + 2*qy) - 1)"
      ]
     },
     "metadata": {},
     "output_type": "display_data"
    },
    {
     "data": {
      "text/html": [
       "<html>\\(\\displaystyle 0.000000000000000\\)</html>"
      ],
      "text/latex": [
       "$\\displaystyle 0.000000000000000$"
      ],
      "text/plain": [
       "0.000000000000000"
      ]
     },
     "metadata": {},
     "output_type": "display_data"
    }
   ],
   "source": [
    "phi = qx*x + qy*y + theta\n",
    "# S_xi = 2 * cos(phi) * sin(phi)\n",
    "S_xi = sin(2*phi)\n",
    "term1 = sum(S_xi.subs(x=x, y=2*t-x, theta=0), x, 0, L-1)\n",
    "term2 = sum(S_xi.subs(x=x, y=2*t+1-x, theta=0), x, 0, L-1)\n",
    "# show(S_xi.simplify())\n",
    "show(term1.simplify())\n",
    "show(term2)\n",
    "# S_x_avg = sum(term1 + term2, t, 0, floor((L-1)/2))\n",
    "show(n(S_x_avg.subs(qx=1, qy=1, L=100)))"
   ]
  },
  {
   "cell_type": "code",
   "execution_count": 18,
   "id": "98008704-118c-46c2-8e07-7df6af26dd09",
   "metadata": {},
   "outputs": [
    {
     "data": {
      "text/html": [
       "<html>\\(\\displaystyle -\\frac{{\\left(\\cos\\left(a\\right) \\cos\\left(p\\right) + \\sin\\left(a\\right) \\sin\\left(p\\right) - \\cos\\left(a\\right)\\right)} \\cos\\left(L \\arctan\\left(\\sin\\left(p\\right), \\cos\\left(p\\right)\\right)\\right) - \\cos\\left(a\\right) \\cos\\left(p\\right) - {\\left(\\cos\\left(p\\right) \\sin\\left(a\\right) - \\cos\\left(a\\right) \\sin\\left(p\\right) - \\sin\\left(a\\right)\\right)} \\sin\\left(L \\arctan\\left(\\sin\\left(p\\right), \\cos\\left(p\\right)\\right)\\right) - \\sin\\left(a\\right) \\sin\\left(p\\right) + \\cos\\left(a\\right)}{2 \\, {\\left(\\cos\\left(p\\right) - 1\\right)}}\\)</html>"
      ],
      "text/latex": [
       "$\\displaystyle -\\frac{{\\left(\\cos\\left(a\\right) \\cos\\left(p\\right) + \\sin\\left(a\\right) \\sin\\left(p\\right) - \\cos\\left(a\\right)\\right)} \\cos\\left(L \\arctan\\left(\\sin\\left(p\\right), \\cos\\left(p\\right)\\right)\\right) - \\cos\\left(a\\right) \\cos\\left(p\\right) - {\\left(\\cos\\left(p\\right) \\sin\\left(a\\right) - \\cos\\left(a\\right) \\sin\\left(p\\right) - \\sin\\left(a\\right)\\right)} \\sin\\left(L \\arctan\\left(\\sin\\left(p\\right), \\cos\\left(p\\right)\\right)\\right) - \\sin\\left(a\\right) \\sin\\left(p\\right) + \\cos\\left(a\\right)}{2 \\, {\\left(\\cos\\left(p\\right) - 1\\right)}}$"
      ],
      "text/plain": [
       "-1/2*((cos(a)*cos(p) + sin(a)*sin(p) - cos(a))*cos(L*arctan2(sin(p), cos(p))) - cos(a)*cos(p) - (cos(p)*sin(a) - cos(a)*sin(p) - sin(a))*sin(L*arctan2(sin(p), cos(p))) - sin(a)*sin(p) + cos(a))/(cos(p) - 1)"
      ]
     },
     "metadata": {},
     "output_type": "display_data"
    }
   ],
   "source": [
    "var(\"p x a\")\n",
    "s = sum(cos(p*x+a), x, 0, L-1)\n",
    "show(s.simplify())"
   ]
  },
  {
   "cell_type": "code",
   "execution_count": 20,
   "id": "889000da-3536-48eb-9049-f9d4c73755e0",
   "metadata": {},
   "outputs": [
    {
     "name": "stdout",
     "output_type": "stream",
     "text": [
      "0 -1\n",
      "9/2 4\n",
      "\n",
      "1/2 -1/2\n",
      "5 9/2\n",
      "\n",
      "1 0\n",
      "11/2 5\n",
      "\n",
      "3/2 1/2\n",
      "6 11/2\n",
      "\n",
      "2 1\n",
      "13/2 6\n",
      "\n",
      "5/2 3/2\n",
      "7 13/2\n",
      "\n",
      "3 2\n",
      "15/2 7\n",
      "\n",
      "7/2 5/2\n",
      "8 15/2\n",
      "\n",
      "4 3\n",
      "17/2 8\n",
      "\n",
      "9/2 7/2\n",
      "9 17/2\n",
      "\n"
     ]
    }
   ],
   "source": [
    "for x in range(10):\n",
    "    print(x/2, (x-2)/2)\n",
    "    print((x+9)/2), (x+9-1)/2)\n",
    "    print()"
   ]
  },
  {
   "cell_type": "code",
   "execution_count": null,
   "id": "05695ca5-fb48-4f41-ba3c-172c21cedd22",
   "metadata": {},
   "outputs": [],
   "source": []
  }
 ],
 "metadata": {
  "kernelspec": {
   "display_name": "SageMath 9.6",
   "language": "sage",
   "name": "sagemath"
  },
  "language_info": {
   "codemirror_mode": {
    "name": "ipython",
    "version": 3
   },
   "file_extension": ".py",
   "mimetype": "text/x-python",
   "name": "python",
   "nbconvert_exporter": "python",
   "pygments_lexer": "ipython3",
   "version": "3.10.5"
  }
 },
 "nbformat": 4,
 "nbformat_minor": 5
}
