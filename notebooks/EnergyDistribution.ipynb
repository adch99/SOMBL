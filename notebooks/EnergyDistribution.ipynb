{
 "cells": [
  {
   "cell_type": "markdown",
   "id": "8f4870e6-2dcb-4737-ab25-4785d1518670",
   "metadata": {},
   "source": [
    "# Energy/Eigenvalue Distribution"
   ]
  },
  {
   "cell_type": "code",
   "execution_count": 15,
   "id": "5f1f1967-ea71-4919-885e-da0a1cd4825a",
   "metadata": {},
   "outputs": [
    {
     "name": "stdout",
     "output_type": "stream",
     "text": [
      "/home/aditya/Documents/SOMBL\n"
     ]
    }
   ],
   "source": [
    "%matplotlib inline\n",
    "%cd /home/aditya/Documents/SOMBL\n",
    "import numpy as np\n",
    "import matplotlib.pyplot as plt\n",
    "import matplotlib as mpl\n",
    "import seaborn as sns\n",
    "import scripts.plot_utils as putils\n",
    "sns.set()\n",
    "sns.set_style(\"whitegrid\")"
   ]
  },
  {
   "cell_type": "code",
   "execution_count": 16,
   "id": "9af5eb7d-9cae-4610-8605-979b9fd2e78a",
   "metadata": {},
   "outputs": [],
   "source": [
    "%config InlineBackend.figure_format = 'svg'"
   ]
  },
  {
   "cell_type": "code",
   "execution_count": 17,
   "id": "68e54548-a0c1-4c26-9d91-f3d15ffbea5e",
   "metadata": {},
   "outputs": [],
   "source": [
    "kwargs = {\n",
    "    \"size\": 10,\n",
    "    \"coupling\": 0.,\n",
    "    \"disorder\": 15,\n",
    "    \"hopup\": 1.0,\n",
    "    \"hopdn\": 1.0,\n",
    "    \"runs\": 100,\n",
    "    \"nospin\": False,\n",
    "    \"binnum\": None,\n",
    "    \"alpha\": None,\n",
    "    \"beta\": None,\n",
    "    \"batchsize\": 10,\n",
    "    \"batch\": None\n",
    "}\n",
    "\n",
    "prefix = \"data/mbl\""
   ]
  },
  {
   "cell_type": "code",
   "execution_count": 20,
   "id": "db8ef75d-75bd-46e9-886e-0cb0ba91267f",
   "metadata": {},
   "outputs": [],
   "source": [
    "energy_core_min = -8\n",
    "energy_core_max = 8"
   ]
  },
  {
   "cell_type": "code",
   "execution_count": 31,
   "id": "a78eb7bc-a310-4f51-94a6-3b8eb486e218",
   "metadata": {},
   "outputs": [],
   "source": [
    "for batch in range(kwargs[\"batchsize\"]):\n",
    "    kwargs[\"batch\"] = batch\n",
    "    params = putils.SystemParams(**kwargs)\n",
    "    filename = putils.getFilename(params, endname=\"_eigvals.dat\", prefix=prefix)\n",
    "    # print(filename)\n",
    "    eigvals = np.loadtxt(filename)\n",
    "    fig, ax = plt.subplots(figsize=(5, 5))\n",
    "    palette = sns.color_palette(\"Blues\")\n",
    "    kdecolor = palette[3]\n",
    "    linecolor = palette[5]\n",
    "    # print(color)\n",
    "    for i in range(params.batchsize):\n",
    "        sns.kdeplot(eigvals[i, :], x=\"Energy\", label=f\"{i}\", fill=True, alpha=1/params.batchsize,\n",
    "                    color=kdecolor, ax=ax)\n",
    "        sns.rugplot(eigvals[i, :], x=\"Energy\", label=f\"{i}\", color=kdecolor, alpha=1/params.batchsize, ax=ax)\n",
    "    ax.set_xlabel(\"Energy\")\n",
    "    ax.set_ylabel(\"Density\")\n",
    "    ax.axvline(energy_core_min, 0, 1, linestyle=\"--\", color=linecolor)\n",
    "    ax.axvline(energy_core_max, 0, 1, linestyle=\"--\", color=linecolor)\n",
    "    fig.tight_layout()\n",
    "    savefilename = putils.getFilename(params, endname=\"_eigvals_density\", prefix=\"mbl\")\n",
    "    fig.savefig(\"plots/PDFs/\" + savefilename + \".pdf\")\n",
    "    fig.savefig(\"plots/PNGs/\" + savefilename + \".png\")\n",
    "    plt.close(fig)"
   ]
  },
  {
   "cell_type": "code",
   "execution_count": null,
   "id": "9ad80a51-6b4e-4a8a-a7e6-a8736a1d9c52",
   "metadata": {},
   "outputs": [],
   "source": []
  }
 ],
 "metadata": {
  "kernelspec": {
   "display_name": "MBL",
   "language": "python",
   "name": "mbl"
  },
  "language_info": {
   "codemirror_mode": {
    "name": "ipython",
    "version": 3
   },
   "file_extension": ".py",
   "mimetype": "text/x-python",
   "name": "python",
   "nbconvert_exporter": "python",
   "pygments_lexer": "ipython3",
   "version": "3.10.6"
  }
 },
 "nbformat": 4,
 "nbformat_minor": 5
}
