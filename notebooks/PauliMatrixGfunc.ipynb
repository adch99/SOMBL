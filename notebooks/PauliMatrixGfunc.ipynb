{
 "cells": [
  {
   "cell_type": "markdown",
   "metadata": {},
   "source": [
    "$$\n",
    "    G_\\sigma(i,\\alpha,t;j,\\beta,0) = \\sum_{\\alpha\\beta}\\langle i,\\alpha|\\sigma_{\\alpha\\beta}e^{-iHt}|j,\\beta \\rangle = \\sum_{\\alpha\\beta\\gamma}\\sum_{n=1}^{2L^2} \\sigma_{\\alpha\\gamma} \\psi_n(i,\\gamma)\\psi_n^*(j,\\beta) e^{-iE_nt}\n",
    "$$\n",
    "\n",
    "$$\n",
    "    |G_\\sigma^\\infty(i,\\alpha;j,\\beta)|^2 = T_{ndeg} + T_{deg}\n",
    "$$\n",
    "\n",
    "$$\n",
    "    T_{ndeg}=\\sum_{\\alpha\\alpha'\\beta\\beta'\\gamma\\gamma'}\\sum_{n=1}^{2L^2} \\sigma_{\\alpha'\\gamma'}^* \\sigma_{\\alpha\\gamma} \\psi_n^*(i,\\gamma')\\psi_n(i,\\gamma)\\psi_n(j,\\beta')\\psi_n(j,\\beta)^*\n",
    "$$\n",
    "\n",
    "$$\n",
    "    T_{deg} = \\sum_{\\alpha\\alpha'\\beta\\beta'\\gamma\\gamma'} \\sum_{p=1}^{L^2} \\sigma_{\\alpha'\\gamma'}^* \\sigma_{\\alpha\\gamma} \\psi_{2p}^*(i,\\gamma')\\psi_{2p+1}(i,\\gamma)\\psi_{2p}(j,\\beta')\\psi_{2p+1}^*(j,\\beta) + h.c.\n",
    "$$ \n",
    "\n",
    "We can define $C_{in}^{\\alpha\\alpha'} = \\psi_n^*(i,\\alpha)\\psi_n(i,\\alpha')$ and $D_{ip}^{\\alpha\\alpha'}= \\psi_{2p}^*(i,\\alpha)\\psi_{2p+1}(i,\\alpha')$. \n",
    "\n",
    "$$\n",
    "    T_{ndeg} = \\sum_{\\alpha\\alpha'\\beta\\beta'\\gamma\\gamma'}\\sum_{n=1}^{2L^2} \\sigma_{\\alpha'\\gamma'}^* \\sigma_{\\alpha\\gamma} C^{\\gamma'\\gamma}_{in}(C^{\\beta'\\beta}_{jn})^*\n",
    "    = \\sum_{\\alpha\\alpha'\\beta\\beta'\\gamma\\gamma'} \\sigma_{\\alpha'\\gamma'}^* \\sigma_{\\alpha\\gamma} [C^{\\gamma'\\gamma}(C^{\\beta'\\beta})^\\dagger]_{ij}\n",
    "    = \\left[\\left(\\sum_{\\alpha\\alpha'\\gamma\\gamma'} \\sigma_{\\alpha'\\gamma'}^* \\sigma_{\\alpha\\gamma} C^{\\gamma'\\gamma}\\right)\\left(\\sum_{\\beta\\beta'}C^{\\beta'\\beta}\\right)^{\\dagger}\\right]_{ij}\n",
    "$$ \n",
    "\n",
    "$$\n",
    "    T_{deg}=2Re\\left(\\sum_{\\alpha\\alpha'\\beta\\beta'\\gamma\\gamma'} \\sigma_{\\alpha'\\gamma'}^*\\sigma_{\\alpha\\gamma} [D^{\\gamma'\\gamma}(D^{\\beta'\\beta})^{\\dagger}]_{ij}\\right)\n",
    "    = 2Re\\left(\\left[\\left(\\sum_{\\alpha\\alpha'\\gamma\\gamma'} \\sigma_{\\alpha'\\gamma'}^* \\sigma_{\\alpha\\gamma} D^{\\gamma'\\gamma}\\right)\\left(\\sum_{\\beta\\beta'}D^{\\beta'\\beta}\\right)^{\\dagger}\\right]_{ij}\\right)\n",
    "$$\n",
    "\n",
    "- $A$ is $2L^2\\times2L^2$\n",
    "- $B$ is $2L^2 \\times L^2$\n",
    "- $C$ is $L^2 \\times 2L^2$\n",
    "- $D$ is $L^2 \\times L^2$\n",
    "- $|G_R^\\infty(i,\\alpha;j,\\beta)|^2$ is $2L^2 \\times 2L^2$\n",
    "- $|G_\\sigma^\\infty(i;j)|^2$ is $L^2 \\times L^2$\n"
   ]
  },
  {
   "cell_type": "code",
   "execution_count": 1,
   "metadata": {},
   "outputs": [],
   "source": [
    "import numpy as np"
   ]
  },
  {
   "cell_type": "code",
   "execution_count": 2,
   "metadata": {},
   "outputs": [],
   "source": [
    "%matplotlib inline\n",
    "import matplotlib.pyplot as plt\n",
    "import matplotlib as mpl"
   ]
  },
  {
   "cell_type": "code",
   "execution_count": 3,
   "metadata": {},
   "outputs": [],
   "source": [
    "def gfuncsq_nondeg_sigma(i, j, sigma, eigvecs, L):\n",
    "    elem = 0\n",
    "    for alpha in range(2):\n",
    "        for alpha_p in range(2):\n",
    "            for beta in range(2):\n",
    "                for beta_p in range(2):\n",
    "                    for gamma in range(0, 2):\n",
    "                        for gamma_p in range(0, 2):\n",
    "                            for n in range(0, 2*L*L):\n",
    "                                term1 = np.conj(sigma[alpha_p, gamma_p]) * sigma[alpha, gamma]\n",
    "                                term2 = np.conj(eigvecs[2*i+gamma_p, n]) * eigvecs[2*i+gamma, n]\n",
    "                                term3 = np.conj(eigvecs[2*j+beta, n]) * eigvecs[2*j+beta_p, n]\n",
    "                                elem += term1 * term2 * term3\n",
    "    \n",
    "    return elem    "
   ]
  },
  {
   "cell_type": "code",
   "execution_count": 4,
   "metadata": {},
   "outputs": [],
   "source": [
    "def gfuncsq_deg_sigma(i, j, sigma, eigvecs, L):\n",
    "    elem = 0\n",
    "    for alpha in range(2):\n",
    "        for alpha_p in range(2):\n",
    "            for beta in range(2):\n",
    "                for beta_p in range(2):\n",
    "                    for gamma in range(0, 2):\n",
    "                        for gamma_p in range(0, 2):\n",
    "                            for p in range(0, L*L):\n",
    "                                term1 = np.conj(sigma[alpha_p, gamma_p]) * sigma[alpha, gamma]\n",
    "                                term2 = np.conj(eigvecs[2*i+gamma_p, 2*p]) * eigvecs[2*i+gamma, 2*p+1]\n",
    "                                term3 = np.conj(eigvecs[2*j+beta, 2*p+1]) * eigvecs[2*j+beta_p, 2*p]\n",
    "                                elem += 2*np.real(term1 * term2 * term3)\n",
    "    \n",
    "    return elem\n"
   ]
  },
  {
   "cell_type": "code",
   "execution_count": 5,
   "metadata": {},
   "outputs": [],
   "source": [
    "def gfuncsq_mat_nondeg_sigma(sigma, eigvecs, L):\n",
    "    matrix1 = np.zeros((L*L, 2*L*L), dtype=complex)\n",
    "    matrix2 = np.zeros((L*L, 2*L*L), dtype=complex)\n",
    "\n",
    "    # Create the first matrix\n",
    "    for gamma in range(2):\n",
    "        for gamma_p in range(2):\n",
    "            # Calculating the coefficient\n",
    "            coeff = 0\n",
    "            for alpha in range(2):\n",
    "                for alpha_p in range(2):\n",
    "                    coeff += np.conj(sigma[alpha_p,gamma]) * sigma[alpha, gamma_p]\n",
    "\n",
    "            # Calculate the C_γγ' matrix\n",
    "            C_g_gp = np.empty((L*L, 2*L*L), dtype=complex)\n",
    "            for i in range(L*L):\n",
    "                for n in range(2*L*L):\n",
    "                    C_g_gp[i, n] = np.conj(eigvecs[2*i+gamma,n]) * eigvecs[2*i+gamma_p,n]\n",
    "            \n",
    "            matrix1 += coeff * C_g_gp\n",
    "            matrix2 += C_g_gp\n",
    "\n",
    "    return matrix1 @ matrix2.conj().T"
   ]
  },
  {
   "cell_type": "code",
   "execution_count": 6,
   "metadata": {},
   "outputs": [],
   "source": [
    "def gfuncsq_mat_deg_sigma(sigma, eigvecs, L):\n",
    "    matrix1 = np.zeros((L*L, L*L), dtype=complex)\n",
    "    matrix2 = np.zeros((L*L, L*L), dtype=complex)\n",
    "\n",
    "    # Create the first matrix\n",
    "    for gamma in range(2):\n",
    "        for gamma_p in range(2):\n",
    "            # Calculating the coefficient\n",
    "            coeff = 0\n",
    "            for alpha in range(2):\n",
    "                for alpha_p in range(2):\n",
    "                    coeff += np.conj(sigma[alpha_p,gamma]) * sigma[alpha, gamma_p]\n",
    "\n",
    "            # Calculate the D_γγ' matrix\n",
    "            D_g_gp = np.empty((L*L, L*L), dtype=complex)\n",
    "            for i in range(L*L):\n",
    "                for p in range(L*L):\n",
    "                    D_g_gp[i, p] = np.conj(eigvecs[2*i+gamma,2*p]) * eigvecs[2*i+gamma_p,2*p+1]\n",
    "            \n",
    "            matrix1 += coeff * D_g_gp\n",
    "            matrix2 += D_g_gp\n",
    "\n",
    "#     with np.printoptions(precision=3):\n",
    "#         print(matrix1)\n",
    "            \n",
    "    return 2*(matrix1 @ matrix2.conj().T).real"
   ]
  },
  {
   "cell_type": "code",
   "execution_count": 7,
   "metadata": {},
   "outputs": [],
   "source": [
    "def populate(L, sigma):\n",
    "    gfuncsq = np.empty((L*L,L*L), dtype=complex)\n",
    "\n",
    "    for i in range(L*L):\n",
    "        for j in range(L*L):\n",
    "            gfuncsq[i, j] = gfuncsq_nondeg_sigma(i, j, sigma, eigvecs, L)\n",
    "\n",
    "    return gfuncsq"
   ]
  },
  {
   "cell_type": "code",
   "execution_count": 8,
   "metadata": {},
   "outputs": [
    {
     "name": "stdout",
     "output_type": "stream",
     "text": [
      "4.94524565326372e-14\n",
      "1.110230071141518e-15\n"
     ]
    }
   ],
   "source": [
    "L = 4\n",
    "\n",
    "# # Create fake eigenvectors\n",
    "# eigvecs = np.random.normal(loc=0, scale=1, size=(2*L*L, 2*L*L)) \\\n",
    "#     + 1j*np.random.normal(loc=0, scale=1, size=(2*L*L, 2*L*L))\n",
    "\n",
    "# # Normalize each eigenvector\n",
    "# for i in range(0, 2*L*L):\n",
    "#     eigvecs[:, i] /= np.sqrt(np.sum(np.abs(eigvecs[:, i])**2))\n",
    "\n",
    "    \n",
    "# # Output these eigenvectors\n",
    "# np.savetxt(f\"../data/fake_eigenvectors_{L}x{L}.dat\", eigvecs)\n",
    "\n",
    "# Load them once saved\n",
    "eigvecs = np.loadtxt(f\"../data/fake_eigenvectors_{L}x{L}.dat\", dtype=complex)\n",
    "\n",
    "# print(eigvecs)\n",
    "\n",
    "sigma = np.array([[1.1, 0.2], [-0.1, 0.6]])\n",
    "\n",
    "# %timeit populate(L)\n",
    "original_gfuncsq = populate(L, sigma)\n",
    "opti_gfuncsq = gfuncsq_mat_nondeg_sigma(sigma, eigvecs, L)\n",
    "\n",
    "diff = opti_gfuncsq - original_gfuncsq\n",
    "np.savetxt(f\"../data/nondeg_sigma_gfuncsq_python_{L}x{L}.dat\", original_gfuncsq.real)\n",
    "print(np.sum(np.abs(diff)))\n",
    "print(np.max(np.abs(diff)))"
   ]
  },
  {
   "cell_type": "code",
   "execution_count": 9,
   "metadata": {},
   "outputs": [
    {
     "data": {
      "text/plain": [
       "<matplotlib.colorbar.Colorbar at 0x7f35f8643cd0>"
      ]
     },
     "execution_count": 9,
     "metadata": {},
     "output_type": "execute_result"
    },
    {
     "data": {
      "image/png": "[encoded data removed]",
      "text/plain": [
       "<Figure size 480x480 with 2 Axes>"
      ]
     },
     "metadata": {},
     "output_type": "display_data"
    }
   ],
   "source": [
    "plt.matshow(diff.real)\n",
    "plt.colorbar()"
   ]
  },
  {
   "cell_type": "code",
   "execution_count": 10,
   "metadata": {},
   "outputs": [
    {
     "name": "stdout",
     "output_type": "stream",
     "text": [
      "[[0.111 0.055 0.084 0.108 0.096 0.078 0.054 0.074 0.047 0.076 0.092 0.066\n",
      "  0.073 0.076 0.09  0.083]\n",
      " [0.052 0.125 0.116 0.106 0.087 0.087 0.069 0.102 0.062 0.083 0.133 0.07\n",
      "  0.073 0.057 0.094 0.06 ]\n",
      " [0.073 0.12  0.315 0.154 0.162 0.162 0.082 0.126 0.09  0.114 0.241 0.094\n",
      "  0.138 0.078 0.104 0.087]\n",
      " [0.103 0.113 0.155 0.298 0.168 0.16  0.098 0.145 0.113 0.093 0.126 0.112\n",
      "  0.151 0.113 0.116 0.137]\n",
      " [0.1   0.095 0.184 0.175 0.319 0.14  0.092 0.111 0.089 0.122 0.233 0.09\n",
      "  0.139 0.153 0.101 0.109]\n",
      " [0.075 0.093 0.168 0.163 0.137 0.19  0.08  0.126 0.077 0.104 0.139 0.102\n",
      "  0.095 0.1   0.08  0.082]\n",
      " [0.054 0.072 0.082 0.098 0.087 0.08  0.096 0.077 0.049 0.079 0.089 0.059\n",
      "  0.076 0.065 0.064 0.069]\n",
      " [0.069 0.106 0.125 0.142 0.102 0.122 0.078 0.192 0.072 0.092 0.128 0.07\n",
      "  0.082 0.114 0.09  0.076]\n",
      " [0.048 0.065 0.091 0.115 0.085 0.077 0.05  0.075 0.076 0.064 0.104 0.055\n",
      "  0.096 0.075 0.068 0.061]\n",
      " [0.075 0.083 0.113 0.097 0.119 0.108 0.085 0.094 0.066 0.19  0.185 0.085\n",
      "  0.105 0.119 0.092 0.076]\n",
      " [0.093 0.141 0.243 0.127 0.216 0.141 0.094 0.138 0.108 0.182 0.601 0.102\n",
      "  0.191 0.136 0.137 0.106]\n",
      " [0.065 0.068 0.091 0.117 0.092 0.1   0.06  0.07  0.057 0.083 0.099 0.107\n",
      "  0.071 0.068 0.068 0.059]\n",
      " [0.072 0.079 0.14  0.143 0.132 0.09  0.077 0.078 0.094 0.101 0.185 0.071\n",
      "  0.232 0.096 0.075 0.119]\n",
      " [0.072 0.058 0.081 0.107 0.143 0.1   0.066 0.112 0.068 0.119 0.131 0.065\n",
      "  0.097 0.177 0.085 0.072]\n",
      " [0.09  0.099 0.112 0.123 0.091 0.079 0.065 0.089 0.065 0.093 0.134 0.072\n",
      "  0.072 0.081 0.153 0.1  ]\n",
      " [0.083 0.065 0.096 0.146 0.101 0.083 0.074 0.079 0.064 0.074 0.101 0.06\n",
      "  0.124 0.075 0.101 0.162]]\n"
     ]
    }
   ],
   "source": [
    "with np.printoptions(precision=3):\n",
    "    print(original_gfuncsq.real)"
   ]
  },
  {
   "cell_type": "code",
   "execution_count": 11,
   "metadata": {},
   "outputs": [
    {
     "data": {
      "text/plain": [
       "0.8850078613678836"
      ]
     },
     "execution_count": 11,
     "metadata": {},
     "output_type": "execute_result"
    }
   ],
   "source": [
    "np.sum(np.abs(original_gfuncsq - original_gfuncsq.T))"
   ]
  },
  {
   "cell_type": "code",
   "execution_count": 12,
   "metadata": {},
   "outputs": [
    {
     "name": "stdout",
     "output_type": "stream",
     "text": [
      "6.010708424042388e-15\n",
      "2.498001805406602e-16\n"
     ]
    }
   ],
   "source": [
    "L = 4\n",
    "\n",
    "# # Create fake eigenvectors\n",
    "# eigvecs = np.random.normal(loc=0, scale=1, size=(2*L*L, 2*L*L)) \\\n",
    "#     + 1j*np.random.normal(loc=0, scale=1, size=(2*L*L, 2*L*L))\n",
    "\n",
    "# # Normalize each eigenvector\n",
    "# for i in range(0, 2*L*L):\n",
    "#     eigvecs[:, i] /= np.sqrt(np.sum(np.abs(eigvecs[:, i])**2))\n",
    "\n",
    "# Load them once saved\n",
    "eigvecs = np.loadtxt(f\"../data/fake_eigenvectors_{L}x{L}.dat\", dtype=complex)\n",
    "\n",
    "# print(eigvecs)\n",
    "\n",
    "sigma = np.array([[1.1, 0.2], [-0.1, 0.6]])\n",
    "\n",
    "# %timeit populate(L)\n",
    "og_deg_gfuncsq = np.empty((L*L,L*L), dtype=complex)\n",
    "\n",
    "for i in range(L*L):\n",
    "    for j in range(L*L):\n",
    "        og_deg_gfuncsq[i, j] = gfuncsq_deg_sigma(i, j, sigma, eigvecs, L)\n",
    "\n",
    "opti_deg_gfuncsq = gfuncsq_mat_deg_sigma(sigma, eigvecs, L)\n",
    "\n",
    "diff = opti_deg_gfuncsq - og_deg_gfuncsq\n",
    "np.savetxt(f\"../data/deg_sigma_gfuncsq_python_{L}x{L}.dat\", og_deg_gfuncsq.real)\n",
    "print(np.sum(np.abs(diff)))\n",
    "print(np.max(np.abs(diff)))"
   ]
  },
  {
   "cell_type": "code",
   "execution_count": 13,
   "metadata": {},
   "outputs": [
    {
     "data": {
      "text/plain": [
       "<matplotlib.colorbar.Colorbar at 0x7f35f0417b80>"
      ]
     },
     "execution_count": 13,
     "metadata": {},
     "output_type": "execute_result"
    },
    {
     "data": {
      "image/png": "[encoded data removed]",
      "text/plain": [
       "<Figure size 480x480 with 2 Axes>"
      ]
     },
     "metadata": {},
     "output_type": "display_data"
    }
   ],
   "source": [
    "plt.matshow(diff.real)\n",
    "plt.colorbar()"
   ]
  },
  {
   "cell_type": "code",
   "execution_count": 14,
   "metadata": {},
   "outputs": [],
   "source": [
    "# L = 40\n",
    "\n",
    "# # Create fake eigenvectors\n",
    "# eigvecs = np.random.normal(loc=0, scale=1, size=(2*L*L, 2*L*L)) \\\n",
    "#     + 1j*np.random.normal(loc=0, scale=1, size=(2*L*L, 2*L*L))\n",
    "\n",
    "# # Normalize each eigenvector\n",
    "# for i in range(0, 2*L*L):\n",
    "#     eigvecs[:, i] /= np.sqrt(np.sum(np.abs(eigvecs[:, i])**2))\n",
    "\n",
    "# sigma = np.array([[1.1, 0.2], [-0.1, 0.6]])\n",
    "\n",
    "#%timeit gfuncsq_mat_nondeg_sigma(sigma, eigvecs, L)"
   ]
  },
  {
   "cell_type": "code",
   "execution_count": 15,
   "metadata": {},
   "outputs": [],
   "source": [
    "# L = 40\n",
    "\n",
    "# # Create fake eigenvectors\n",
    "# eigvecs = np.random.normal(loc=0, scale=1, size=(2*L*L, 2*L*L)) \\\n",
    "#     + 1j*np.random.normal(loc=0, scale=1, size=(2*L*L, 2*L*L))\n",
    "\n",
    "# # Normalize each eigenvector\n",
    "# for i in range(0, 2*L*L):\n",
    "#     eigvecs[:, i] /= np.sqrt(np.sum(np.abs(eigvecs[:, i])**2))\n",
    "\n",
    "# sigma = np.array([[1.1, 0.2], [-0.1, 0.6]])\n",
    "\n",
    "#%timeit gfuncsq_mat_deg_sigma(sigma, eigvecs, L)"
   ]
  },
  {
   "cell_type": "markdown",
   "metadata": {},
   "source": [
    "## Different Definition\n",
    "Let us do the same thing with the sigma as coefficient instead of full matrix\n",
    "\n",
    "$G_\\sigma(i,t;j,0) = \\sum_{\\alpha\\beta} \\sigma_{\\alpha\\beta} \\langle i,\\alpha| e^{-iHt} |j,\\beta\\rangle$"
   ]
  },
  {
   "cell_type": "code",
   "execution_count": 16,
   "metadata": {},
   "outputs": [],
   "source": [
    "def gfuncsq_sigma_coeff_nondeg(i, j, sigma, eigvecs, L):\n",
    "    Lsq = L*L\n",
    "    elem = 0\n",
    "    for alpha in range(2):\n",
    "        for alpha_p in range(2):\n",
    "            for beta in range(2):\n",
    "                for beta_p in range(2):\n",
    "                    for n in range(2*Lsq):\n",
    "                        term1 = np.conj(sigma[alpha,beta]) * sigma[alpha_p, beta_p]\n",
    "                        term2 = np.conj(eigvecs[2*i+alpha, n]) * eigvecs[2*i+alpha_p, n]\n",
    "                        term3 = eigvecs[2*j+beta, n] * np.conj(eigvecs[2*j+beta_p, n])\n",
    "                        elem += term1 * term2 * term3\n",
    "    return elem"
   ]
  },
  {
   "cell_type": "code",
   "execution_count": 17,
   "metadata": {},
   "outputs": [],
   "source": [
    "def gfuncsq_sigma_coeff_deg(i, j, sigma, eigvecs, L):\n",
    "    Lsq = L*L\n",
    "    elem = 0\n",
    "    for alpha in range(2):\n",
    "        for alpha_p in range(2):\n",
    "            for beta in range(2):\n",
    "                for beta_p in range(2):\n",
    "                    for p in range(Lsq):\n",
    "                        term1 = np.conj(sigma[alpha,beta]) * sigma[alpha_p, beta_p]\n",
    "                        term2 = np.conj(eigvecs[2*i+alpha, 2*p]) * eigvecs[2*i+alpha_p, 2*p+1]\n",
    "                        term3 = eigvecs[2*j+beta, 2*p] * np.conj(eigvecs[2*j+beta_p, 2*p+1])\n",
    "                        elem += term1 * term2 * term3\n",
    "                        term4 = np.conj(eigvecs[2*i+alpha, 2*p+1]) * eigvecs[2*i+alpha_p, 2*p]\n",
    "                        term5 = eigvecs[2*j+beta, 2*p+1] * np.conj(eigvecs[2*j+beta_p, 2*p])\n",
    "                        elem += term1 * term4 * term5\n",
    "    return elem"
   ]
  },
  {
   "cell_type": "code",
   "execution_count": 18,
   "metadata": {},
   "outputs": [],
   "source": [
    "def gfuncsq_sigma_mat_coeff_nondeg(sigma, eigvecs, L):\n",
    "    Lsq = L*L\n",
    "    matrix1 = np.empty((Lsq, 2*Lsq), dtype=complex)\n",
    "    matrix2 = np.empty((Lsq, 2*Lsq), dtype=complex)\n",
    "    gfuncsq = np.zeros((Lsq, Lsq), dtype=complex)\n",
    "    \n",
    "    for index1 in range(4):\n",
    "        alpha = index1 // 2\n",
    "        alpha_p = index1 % 2\n",
    "        \n",
    "        # Build matrix1\n",
    "        for i in range(Lsq):\n",
    "            for n in range(2*Lsq):\n",
    "                matrix1[i,n] = np.conj(eigvecs[2*i+alpha,n]) * eigvecs[2*i+alpha_p,n]\n",
    "        \n",
    "        # Compute multiplication with self M_aa' @ M_aa'^H\n",
    "        beta = alpha\n",
    "        beta_p = alpha_p\n",
    "        coeff = np.conj(sigma[alpha, beta]) * sigma[alpha_p, beta_p] \n",
    "        gfuncsq = gfuncsq + coeff * ( matrix1 @ matrix1.conj().T )\n",
    "\n",
    "        for index2 in range(index1+1, 4):\n",
    "            beta = index2 // 2\n",
    "            beta_p = index2 % 2\n",
    "\n",
    "            # Build matrix2\n",
    "            for i in range(Lsq):\n",
    "                for n in range(2*Lsq):\n",
    "                    matrix2[i,n] = np.conj(eigvecs[2*i+beta,n]) * eigvecs[2*i+beta_p,n]\n",
    "\n",
    "            # Compute M_aa' @ M_bb'^H\n",
    "            coeff = np.conj(sigma[alpha, beta]) * sigma[alpha_p, beta_p] \n",
    "            gfuncsq = gfuncsq + coeff * ( matrix1 @ matrix2.conj().T )\n",
    "            # Compute M_bb' @ M_aa'^H\n",
    "            coeff = np.conj(sigma[beta, alpha]) * sigma[beta_p, alpha_p] \n",
    "            gfuncsq = gfuncsq + coeff * ( matrix2 @ matrix1.conj().T )\n",
    "            \n",
    "    return gfuncsq"
   ]
  },
  {
   "cell_type": "code",
   "execution_count": 19,
   "metadata": {},
   "outputs": [],
   "source": [
    "def gfuncsq_sigma_mat_coeff_deg(sigma, eigvecs, L):\n",
    "    Lsq = L*L\n",
    "    matrix1 = np.empty((Lsq, Lsq), dtype=complex)\n",
    "    matrix2 = np.empty((Lsq, Lsq), dtype=complex)\n",
    "    gfuncsq = np.zeros((Lsq, Lsq), dtype=complex)\n",
    "    \n",
    "    for index1 in range(4):\n",
    "        alpha = index1 // 2\n",
    "        alpha_p = index1 % 2\n",
    "        \n",
    "        # Build matrix1\n",
    "        for i in range(Lsq):\n",
    "            for p in range(Lsq):\n",
    "                matrix1[i,p] = np.conj(eigvecs[2*i+alpha,2*p]) * eigvecs[2*i+alpha_p,2*p+1]\n",
    "        \n",
    "        # Compute multiplication with self M_aa' @ M_aa'^H\n",
    "        beta = alpha\n",
    "        beta_p = alpha_p\n",
    "        coeff = np.conj(sigma[alpha, beta]) * sigma[alpha_p, beta_p]\n",
    "        gfuncsq = gfuncsq + 2 * ( coeff * matrix1 @ matrix1.conj().T ).real\n",
    "\n",
    "        for index2 in range(index1+1, 4):\n",
    "            beta = index2 // 2\n",
    "            beta_p = index2 % 2\n",
    "\n",
    "            # Build matrix2\n",
    "            for i in range(Lsq):\n",
    "                for p in range(Lsq):\n",
    "                    matrix2[i,p] = np.conj(eigvecs[2*i+beta,2*p]) * eigvecs[2*i+beta_p,2*p+1]\n",
    "\n",
    "            # Compute M_aa' @ M_bb'^H\n",
    "            coeff = np.conj(sigma[alpha, beta]) * sigma[alpha_p, beta_p]\n",
    "            gfuncsq = gfuncsq + 2 * (coeff * matrix1 @ matrix2.conj().T ).real\n",
    "            # Compute M_bb' @ M_aa'^H\n",
    "            coeff = np.conj(sigma[beta, alpha]) * sigma[beta_p, alpha_p]\n",
    "            gfuncsq = gfuncsq + 2 * (coeff * matrix2 @ matrix1.conj().T ).real\n",
    "            \n",
    "    return gfuncsq"
   ]
  },
  {
   "cell_type": "code",
   "execution_count": 20,
   "metadata": {},
   "outputs": [
    {
     "name": "stdout",
     "output_type": "stream",
     "text": [
      "Computing 0x0 a=0 a'=0 b=0 b'=0\n",
      "Computing 0x1 a=0 a'=0 b=0 b'=1\n",
      "Computing 1x0 a=0 a'=1 b=0 b'=0\n",
      "Computing 0x2 a=0 a'=0 b=1 b'=0\n",
      "Computing 2x0 a=1 a'=0 b=0 b'=0\n",
      "Computing 0x3 a=0 a'=0 b=1 b'=1\n",
      "Computing 3x0 a=1 a'=1 b=0 b'=0\n",
      "Computing 1x1 a=0 a'=1 b=0 b'=1\n",
      "Computing 1x2 a=0 a'=1 b=1 b'=0\n",
      "Computing 2x1 a=1 a'=0 b=0 b'=1\n",
      "Computing 1x3 a=0 a'=1 b=1 b'=1\n",
      "Computing 3x1 a=1 a'=1 b=0 b'=1\n",
      "Computing 2x2 a=1 a'=0 b=1 b'=0\n",
      "Computing 2x3 a=1 a'=0 b=1 b'=1\n",
      "Computing 3x2 a=1 a'=1 b=1 b'=0\n",
      "Computing 3x3 a=1 a'=1 b=1 b'=1\n"
     ]
    }
   ],
   "source": [
    "for index1 in range(4):\n",
    "    alpha = index1 // 2\n",
    "    alpha_p = index1 % 2\n",
    "\n",
    "    # Compute multiplication with self\n",
    "    print(f\"Computing {2*alpha+alpha_p}x{2*alpha+alpha_p} a={alpha} a'={alpha_p} b={alpha} b'={alpha_p}\")\n",
    "\n",
    "    for index2 in range(index1+1, 4):\n",
    "        beta = index2 // 2\n",
    "        beta_p = index2 % 2\n",
    "        # index1 = 2*alpha+alpha_p\n",
    "        # index2 = 2*beta+beta_p\n",
    "        print(f\"Computing {index1}x{index2} a={alpha} a'={alpha_p} b={beta} b'={beta_p}\")\n",
    "        print(f\"Computing {index2}x{index1} a={beta} a'={beta_p} b={alpha} b'={alpha_p}\")"
   ]
  },
  {
   "cell_type": "code",
   "execution_count": 21,
   "metadata": {},
   "outputs": [
    {
     "name": "stdout",
     "output_type": "stream",
     "text": [
      "1.0533536475250995e-14\n",
      "2.2205969260039947e-16\n"
     ]
    }
   ],
   "source": [
    "L = 4\n",
    "eigvecs = np.loadtxt(f\"../data/fake_eigenvectors_{L}x{L}.dat\", dtype=complex)\n",
    "sigma = np.array([[1.1, 0.2], [-0.1, 0.6]])\n",
    "og_nondeg_gfuncsq = np.empty((L*L,L*L), dtype=complex)\n",
    "\n",
    "for i in range(L*L):\n",
    "    for j in range(L*L):\n",
    "        og_nondeg_gfuncsq[i, j] = gfuncsq_sigma_coeff_nondeg(i, j, sigma, eigvecs, L)\n",
    "\n",
    "opti_nondeg_gfuncsq = gfuncsq_sigma_mat_coeff_nondeg(sigma, eigvecs, L)\n",
    "\n",
    "diff = opti_nondeg_gfuncsq - og_nondeg_gfuncsq\n",
    "np.savetxt(f\"../data/nondeg_sigma_coeff_gfuncsq_python_{L}x{L}.dat\", og_nondeg_gfuncsq.real)\n",
    "print(np.sum(np.abs(diff)))\n",
    "print(np.max(np.abs(diff)))"
   ]
  },
  {
   "cell_type": "code",
   "execution_count": 22,
   "metadata": {},
   "outputs": [
    {
     "data": {
      "text/plain": [
       "<matplotlib.colorbar.Colorbar at 0x7f35f04dadd0>"
      ]
     },
     "execution_count": 22,
     "metadata": {},
     "output_type": "execute_result"
    },
    {
     "data": {
      "image/png": "[encoded data removed]",
      "text/plain": [
       "<Figure size 480x480 with 2 Axes>"
      ]
     },
     "metadata": {},
     "output_type": "display_data"
    }
   ],
   "source": [
    "norm = mpl.colors.LogNorm(np.abs(diff).min(), np.abs(diff).max())\n",
    "plt.matshow(np.abs(diff), norm=norm)\n",
    "plt.colorbar()"
   ]
  },
  {
   "cell_type": "code",
   "execution_count": 23,
   "metadata": {},
   "outputs": [
    {
     "data": {
      "text/plain": [
       "<matplotlib.colorbar.Colorbar at 0x7f35f02c9ed0>"
      ]
     },
     "execution_count": 23,
     "metadata": {},
     "output_type": "execute_result"
    },
    {
     "data": {
      "image/png": "[encoded data removed]",
      "text/plain": [
       "<Figure size 480x480 with 2 Axes>"
      ]
     },
     "metadata": {},
     "output_type": "display_data"
    }
   ],
   "source": [
    "plt.matshow(opti_nondeg_gfuncsq.real)\n",
    "plt.colorbar()"
   ]
  },
  {
   "cell_type": "code",
   "execution_count": null,
   "metadata": {},
   "outputs": [],
   "source": []
  },
  {
   "cell_type": "code",
   "execution_count": 24,
   "metadata": {},
   "outputs": [
    {
     "name": "stdout",
     "output_type": "stream",
     "text": [
      "2.360098237070439e-15\n",
      "1.1103124888755957e-16\n"
     ]
    }
   ],
   "source": [
    "L = 4\n",
    "eigvecs = np.loadtxt(f\"../data/fake_eigenvectors_{L}x{L}.dat\", dtype=complex)\n",
    "sigma = np.array([[1.1, 0.2], [-0.1, 0.6]])\n",
    "og_nondeg_gfuncsq = np.empty((L*L,L*L), dtype=complex)\n",
    "\n",
    "for i in range(L*L):\n",
    "    for j in range(L*L):\n",
    "        og_deg_gfuncsq[i, j] = gfuncsq_sigma_coeff_deg(i, j, sigma, eigvecs, L)\n",
    "\n",
    "opti_deg_gfuncsq = gfuncsq_sigma_mat_coeff_deg(sigma, eigvecs, L)\n",
    "\n",
    "diff = opti_deg_gfuncsq - og_deg_gfuncsq\n",
    "np.savetxt(f\"../data/deg_sigma_coeff_gfuncsq_python_{L}x{L}.dat\", og_deg_gfuncsq.real)\n",
    "print(np.sum(np.abs(diff)))\n",
    "print(np.max(np.abs(diff)))"
   ]
  },
  {
   "cell_type": "code",
   "execution_count": null,
   "metadata": {},
   "outputs": [],
   "source": []
  },
  {
   "cell_type": "code",
   "execution_count": 25,
   "metadata": {},
   "outputs": [
    {
     "data": {
      "text/plain": [
       "<matplotlib.colorbar.Colorbar at 0x7f35f0071720>"
      ]
     },
     "execution_count": 25,
     "metadata": {},
     "output_type": "execute_result"
    },
    {
     "data": {
      "image/png": "[encoded data removed]",
      "text/plain": [
       "<Figure size 480x480 with 2 Axes>"
      ]
     },
     "metadata": {},
     "output_type": "display_data"
    }
   ],
   "source": [
    "adiff = np.abs(diff)\n",
    "norm = mpl.colors.Normalize(vmin=adiff.min(), vmax=adiff.max())\n",
    "plt.matshow(adiff, norm=norm)\n",
    "plt.colorbar()"
   ]
  },
  {
   "cell_type": "code",
   "execution_count": 26,
   "metadata": {},
   "outputs": [
    {
     "data": {
      "text/plain": [
       "<matplotlib.colorbar.Colorbar at 0x7f35f0414820>"
      ]
     },
     "execution_count": 26,
     "metadata": {},
     "output_type": "execute_result"
    },
    {
     "data": {
      "image/png": "[encoded data removed]",
      "text/plain": [
       "<Figure size 480x480 with 2 Axes>"
      ]
     },
     "metadata": {},
     "output_type": "display_data"
    }
   ],
   "source": [
    "plt.matshow(og_deg_gfuncsq.imag)\n",
    "plt.colorbar()"
   ]
  },
  {
   "cell_type": "markdown",
   "metadata": {},
   "source": [
    "# Keldysh Green's Function\n",
    "\n",
    "Ignore all that was done before. What we need are $\\langle n_{\\uparrow} \\rangle$, $\\langle n_{\\downarrow} \\rangle$, $\\langle S^+ \\rangle$, $\\langle S^- \\rangle$ at $t \\to \\infty$:\n",
    "\n",
    "This requires $iG_K(i, \\alpha, t; i, \\beta, t) = \\sum_{k,\\gamma} G_R(i,\\alpha,t;k,\\gamma,0)G_R^*(i,\\beta,t;k,\\gamma,0)(1 - 2n_{k,\\gamma}(0))$"
   ]
  },
  {
   "cell_type": "code",
   "execution_count": 3,
   "metadata": {},
   "outputs": [],
   "source": [
    "def gfunc_gfuncstar_nondeg(i, alpha, beta, k, gamma, eigvecs, L):\n",
    "    elem = 0 \n",
    "    Lsq = L*L\n",
    "    for n in range(2*Lsq):\n",
    "        elem += eigvecs[2*i+alpha, n] * np.conj(eigvecs[2*i+beta, n]) * np.abs(eigvecs[2*k+gamma,n])**2    \n",
    "    return elem"
   ]
  },
  {
   "cell_type": "code",
   "execution_count": 4,
   "metadata": {},
   "outputs": [],
   "source": [
    "def gfunc_gfuncstar_nondeg_restr(i, alpha, beta, k, gamma, eigvecs, L, nmin, nmax):\n",
    "    elem = 0\n",
    "    Lsq = L*L\n",
    "    for n in range(nmin, nmax):\n",
    "        elem += eigvecs[2*i+alpha, n] * np.conj(eigvecs[2*i+beta, n]) * np.abs(eigvecs[2*k+gamma,n])**2    \n",
    "    return elem"
   ]
  },
  {
   "cell_type": "code",
   "execution_count": 5,
   "metadata": {},
   "outputs": [],
   "source": [
    "def gfunc_gfuncstar_deg(i, alpha, beta, k, gamma, eigvecs, L):\n",
    "    elem = 0\n",
    "    Lsq = L*L   \n",
    "    for p in range(Lsq):\n",
    "        term1 = eigvecs[2*i+alpha,2*p] * np.conj(eigvecs[2*i+beta,2*p+1])\n",
    "        term2 = np.conj(eigvecs[2*k+gamma, 2*p+1]) * eigvecs[2*k+gamma,2*p]\n",
    "        term3 = eigvecs[2*i+alpha,2*p+1] * np.conj(eigvecs[2*i+beta,2*p])\n",
    "        term4 = np.conj(eigvecs[2*k+gamma, 2*p]) * eigvecs[2*k+gamma,2*p+1]\n",
    "        elem += term1*term2 + term3*term4\n",
    "    return elem"
   ]
  },
  {
   "cell_type": "code",
   "execution_count": 6,
   "metadata": {},
   "outputs": [],
   "source": [
    "def gfunc_gfuncstar_deg_restr(i, alpha, beta, k, gamma, eigvecs, L, nmin, nmax):\n",
    "    elem = 0\n",
    "    Lsq = L*L\n",
    "    pmin = nmin//2\n",
    "    pmax = nmax//2\n",
    "    for p in range(pmin, pmax):\n",
    "        term1 = eigvecs[2*i+alpha,2*p] * np.conj(eigvecs[2*i+beta,2*p+1])\n",
    "        term2 = np.conj(eigvecs[2*k+gamma, 2*p+1]) * eigvecs[2*k+gamma,2*p]\n",
    "        term3 = eigvecs[2*i+alpha,2*p+1] * np.conj(eigvecs[2*i+beta,2*p])\n",
    "        term4 = np.conj(eigvecs[2*k+gamma, 2*p]) * eigvecs[2*k+gamma,2*p+1]\n",
    "        elem += term1*term2 + term3*term4\n",
    "    return elem"
   ]
  },
  {
   "cell_type": "code",
   "execution_count": 7,
   "metadata": {},
   "outputs": [],
   "source": [
    "def gfunc_gfuncstar_mat_nondeg(alpha, beta, eigvecs, L):\n",
    "    Lsq = L*L\n",
    "    # Create Z\n",
    "    Z = np.abs(eigvecs)**2\n",
    "    # Create A\n",
    "    A = np.empty((Lsq,2*Lsq), dtype=complex)\n",
    "    for i in range(Lsq):\n",
    "        for n in range(2*Lsq):\n",
    "            A[i,n] = eigvecs[2*i+alpha,n] * np.conj(eigvecs[2*i+beta, n])\n",
    "    \n",
    "    return A @ Z.T"
   ]
  },
  {
   "cell_type": "code",
   "execution_count": 8,
   "metadata": {},
   "outputs": [],
   "source": [
    "def gfunc_gfuncstar_mat_deg(alpha, beta, gamma, eigvecs, L):\n",
    "    Lsq = L*L\n",
    "    C_ab = np.empty((Lsq,Lsq), dtype=complex)\n",
    "    C_ba = np.empty((Lsq,Lsq), dtype=complex)\n",
    "    C_gg = np.empty((Lsq,Lsq), dtype=complex)\n",
    "    for i in range(Lsq):\n",
    "        for p in range(Lsq):\n",
    "            C_ab[i,p] = eigvecs[2*i+alpha,2*p] * np.conj(eigvecs[2*i+beta,2*p+1])\n",
    "    for i in range(Lsq):\n",
    "        for p in range(Lsq):\n",
    "            C_ba[i,p] = eigvecs[2*i+beta,2*p] * np.conj(eigvecs[2*i+alpha,2*p+1])\n",
    "    for i in range(Lsq):\n",
    "        for p in range(Lsq):\n",
    "            C_gg[i,p] = eigvecs[2*i+gamma,2*p] * np.conj(eigvecs[2*i+gamma,2*p+1])\n",
    "    output = (C_ab @ C_gg.T) + np.conj(C_ba @ C_gg.T)\n",
    "    gfuncsq = np.zeros((Lsq, 2*Lsq), dtype=complex)\n",
    "    for i in range(Lsq):\n",
    "        for k in range(Lsq):\n",
    "            gfuncsq[i,2*k+gamma] = output[i,k]\n",
    "    return gfuncsq"
   ]
  },
  {
   "cell_type": "code",
   "execution_count": 9,
   "metadata": {},
   "outputs": [
    {
     "name": "stdout",
     "output_type": "stream",
     "text": [
      "alpha: 0 beta: 0\n",
      "Shape: (16, 32)\n",
      "7.650130529057719e-16\n",
      "1.3877787807814457e-17\n",
      "\n",
      "alpha: 0 beta: 1\n",
      "Shape: (16, 32)\n",
      "4.2463893180868596e-16\n",
      "5.204170427930421e-18\n",
      "\n",
      "alpha: 1 beta: 0\n",
      "Shape: (16, 32)\n",
      "4.2463893180868596e-16\n",
      "5.204170427930421e-18\n",
      "\n",
      "alpha: 1 beta: 1\n",
      "Shape: (16, 32)\n",
      "9.08995101411847e-16\n",
      "1.3877787807814457e-17\n",
      "\n"
     ]
    }
   ],
   "source": [
    "L = 4\n",
    "alpha = 1\n",
    "beta = 0\n",
    "eigvecs = np.loadtxt(f\"../data/fake_eigenvectors_{L}x{L}.dat\", dtype=complex)\n",
    "direct_nondeg_gfuncsq = np.empty((L*L,2*L*L), dtype=complex)\n",
    "\n",
    "for alpha in range(2):\n",
    "    for beta in range(2):\n",
    "        for i in range(L*L):\n",
    "            for j in range(L*L):\n",
    "                for gamma in range(2):\n",
    "                    direct_nondeg_gfuncsq[i, 2*j+gamma] = gfunc_gfuncstar_nondeg(i, alpha, beta, j,\n",
    "                                                                                 gamma, eigvecs, L)\n",
    "\n",
    "        mat_nondeg_gfuncsq = gfunc_gfuncstar_mat_nondeg(alpha, beta, eigvecs, L)\n",
    "\n",
    "        diff = direct_nondeg_gfuncsq - mat_nondeg_gfuncsq\n",
    "        if alpha == beta:\n",
    "            np.savetxt(f\"../data/nondeg_gfunc_gfuncstar_a{alpha}_b{beta}_python_{L}x{L}.dat\",\n",
    "                       mat_nondeg_gfuncsq.real)\n",
    "        else:\n",
    "            np.savetxt(f\"../data/nondeg_gfunc_gfuncstar_a{alpha}_b{beta}_python_{L}x{L}.dat\",\n",
    "                       mat_nondeg_gfuncsq)\n",
    "            \n",
    "        print(f\"alpha: {alpha} beta: {beta}\")\n",
    "        print(\"Shape:\", mat_nondeg_gfuncsq.shape)\n",
    "        print(np.sum(np.abs(diff)))\n",
    "        print(np.max(np.abs(diff)))\n",
    "        print()"
   ]
  },
  {
   "cell_type": "code",
   "execution_count": 10,
   "metadata": {},
   "outputs": [
    {
     "data": {
      "text/plain": [
       "<matplotlib.colorbar.Colorbar at 0x7fcbd3a5f640>"
      ]
     },
     "execution_count": 10,
     "metadata": {},
     "output_type": "execute_result"
    },
    {
     "data": {
      "image/png": "[encoded data removed]",
      "text/plain": [
       "<Figure size 960x480 with 2 Axes>"
      ]
     },
     "metadata": {},
     "output_type": "display_data"
    }
   ],
   "source": [
    "plt.matshow(np.abs(diff))\n",
    "plt.colorbar()"
   ]
  },
  {
   "cell_type": "code",
   "execution_count": 11,
   "metadata": {
    "collapsed": true,
    "jupyter": {
     "outputs_hidden": true
    },
    "tags": []
   },
   "outputs": [
    {
     "name": "stdout",
     "output_type": "stream",
     "text": [
      "Min: 0.000000e+00 Max: 0.000000e+00\n"
     ]
    },
    {
     "ename": "ValueError",
     "evalue": "Invalid vmin or vmax",
     "output_type": "error",
     "traceback": [
      "\u001b[0;31m---------------------------------------------------------------------------\u001b[0m",
      "\u001b[0;31mValueError\u001b[0m                                Traceback (most recent call last)",
      "Input \u001b[0;32mIn [11]\u001b[0m, in \u001b[0;36m<cell line: 5>\u001b[0;34m()\u001b[0m\n\u001b[1;32m      3\u001b[0m norm \u001b[38;5;241m=\u001b[39m mpl\u001b[38;5;241m.\u001b[39mcolors\u001b[38;5;241m.\u001b[39mLogNorm(vmin\u001b[38;5;241m=\u001b[39mz\u001b[38;5;241m.\u001b[39mmin(), vmax\u001b[38;5;241m=\u001b[39mz\u001b[38;5;241m.\u001b[39mmax())\n\u001b[1;32m      4\u001b[0m plt\u001b[38;5;241m.\u001b[39mmatshow(z, norm\u001b[38;5;241m=\u001b[39mnorm)\n\u001b[0;32m----> 5\u001b[0m \u001b[43mplt\u001b[49m\u001b[38;5;241;43m.\u001b[39;49m\u001b[43mcolorbar\u001b[49m\u001b[43m(\u001b[49m\u001b[43m)\u001b[49m\n",
      "File \u001b[0;32m/opt/miniconda/miniconda3/envs/mbl/lib/python3.10/site-packages/matplotlib/pyplot.py:2107\u001b[0m, in \u001b[0;36mcolorbar\u001b[0;34m(mappable, cax, ax, **kw)\u001b[0m\n\u001b[1;32m   2102\u001b[0m     \u001b[38;5;28;01mif\u001b[39;00m mappable \u001b[38;5;129;01mis\u001b[39;00m \u001b[38;5;28;01mNone\u001b[39;00m:\n\u001b[1;32m   2103\u001b[0m         \u001b[38;5;28;01mraise\u001b[39;00m \u001b[38;5;167;01mRuntimeError\u001b[39;00m(\u001b[38;5;124m'\u001b[39m\u001b[38;5;124mNo mappable was found to use for colorbar \u001b[39m\u001b[38;5;124m'\u001b[39m\n\u001b[1;32m   2104\u001b[0m                            \u001b[38;5;124m'\u001b[39m\u001b[38;5;124mcreation. First define a mappable such as \u001b[39m\u001b[38;5;124m'\u001b[39m\n\u001b[1;32m   2105\u001b[0m                            \u001b[38;5;124m'\u001b[39m\u001b[38;5;124man image (with imshow) or a contour set (\u001b[39m\u001b[38;5;124m'\u001b[39m\n\u001b[1;32m   2106\u001b[0m                            \u001b[38;5;124m'\u001b[39m\u001b[38;5;124mwith contourf).\u001b[39m\u001b[38;5;124m'\u001b[39m)\n\u001b[0;32m-> 2107\u001b[0m ret \u001b[38;5;241m=\u001b[39m \u001b[43mgcf\u001b[49m\u001b[43m(\u001b[49m\u001b[43m)\u001b[49m\u001b[38;5;241;43m.\u001b[39;49m\u001b[43mcolorbar\u001b[49m\u001b[43m(\u001b[49m\u001b[43mmappable\u001b[49m\u001b[43m,\u001b[49m\u001b[43m \u001b[49m\u001b[43mcax\u001b[49m\u001b[38;5;241;43m=\u001b[39;49m\u001b[43mcax\u001b[49m\u001b[43m,\u001b[49m\u001b[43m \u001b[49m\u001b[43max\u001b[49m\u001b[38;5;241;43m=\u001b[39;49m\u001b[43max\u001b[49m\u001b[43m,\u001b[49m\u001b[43m \u001b[49m\u001b[38;5;241;43m*\u001b[39;49m\u001b[38;5;241;43m*\u001b[39;49m\u001b[43mkw\u001b[49m\u001b[43m)\u001b[49m\n\u001b[1;32m   2108\u001b[0m \u001b[38;5;28;01mreturn\u001b[39;00m ret\n",
      "File \u001b[0;32m/opt/miniconda/miniconda3/envs/mbl/lib/python3.10/site-packages/matplotlib/figure.py:1210\u001b[0m, in \u001b[0;36mFigureBase.colorbar\u001b[0;34m(self, mappable, cax, ax, use_gridspec, **kw)\u001b[0m\n\u001b[1;32m   1206\u001b[0m NON_COLORBAR_KEYS \u001b[38;5;241m=\u001b[39m [\u001b[38;5;124m'\u001b[39m\u001b[38;5;124mfraction\u001b[39m\u001b[38;5;124m'\u001b[39m, \u001b[38;5;124m'\u001b[39m\u001b[38;5;124mpad\u001b[39m\u001b[38;5;124m'\u001b[39m, \u001b[38;5;124m'\u001b[39m\u001b[38;5;124mshrink\u001b[39m\u001b[38;5;124m'\u001b[39m, \u001b[38;5;124m'\u001b[39m\u001b[38;5;124maspect\u001b[39m\u001b[38;5;124m'\u001b[39m, \u001b[38;5;124m'\u001b[39m\u001b[38;5;124manchor\u001b[39m\u001b[38;5;124m'\u001b[39m,\n\u001b[1;32m   1207\u001b[0m                      \u001b[38;5;124m'\u001b[39m\u001b[38;5;124mpanchor\u001b[39m\u001b[38;5;124m'\u001b[39m]\n\u001b[1;32m   1208\u001b[0m cb_kw \u001b[38;5;241m=\u001b[39m {k: v \u001b[38;5;28;01mfor\u001b[39;00m k, v \u001b[38;5;129;01min\u001b[39;00m kw\u001b[38;5;241m.\u001b[39mitems() \u001b[38;5;28;01mif\u001b[39;00m k \u001b[38;5;129;01mnot\u001b[39;00m \u001b[38;5;129;01min\u001b[39;00m NON_COLORBAR_KEYS}\n\u001b[0;32m-> 1210\u001b[0m cb \u001b[38;5;241m=\u001b[39m \u001b[43mcbar\u001b[49m\u001b[38;5;241;43m.\u001b[39;49m\u001b[43mColorbar\u001b[49m\u001b[43m(\u001b[49m\u001b[43mcax\u001b[49m\u001b[43m,\u001b[49m\u001b[43m \u001b[49m\u001b[43mmappable\u001b[49m\u001b[43m,\u001b[49m\u001b[43m \u001b[49m\u001b[38;5;241;43m*\u001b[39;49m\u001b[38;5;241;43m*\u001b[39;49m\u001b[43mcb_kw\u001b[49m\u001b[43m)\u001b[49m\n\u001b[1;32m   1212\u001b[0m \u001b[38;5;28;01mif\u001b[39;00m \u001b[38;5;129;01mnot\u001b[39;00m userax:\n\u001b[1;32m   1213\u001b[0m     \u001b[38;5;28mself\u001b[39m\u001b[38;5;241m.\u001b[39msca(current_ax)\n",
      "File \u001b[0;32m/opt/miniconda/miniconda3/envs/mbl/lib/python3.10/site-packages/matplotlib/colorbar.py:484\u001b[0m, in \u001b[0;36mColorbar.__init__\u001b[0;34m(self, ax, mappable, cmap, norm, alpha, values, boundaries, orientation, ticklocation, extend, spacing, ticks, format, drawedges, filled, extendfrac, extendrect, label)\u001b[0m\n\u001b[1;32m    481\u001b[0m \u001b[38;5;28mself\u001b[39m\u001b[38;5;241m.\u001b[39mticklocation \u001b[38;5;241m=\u001b[39m ticklocation\n\u001b[1;32m    483\u001b[0m \u001b[38;5;28mself\u001b[39m\u001b[38;5;241m.\u001b[39mset_label(label)\n\u001b[0;32m--> 484\u001b[0m \u001b[38;5;28;43mself\u001b[39;49m\u001b[38;5;241;43m.\u001b[39;49m\u001b[43m_reset_locator_formatter_scale\u001b[49m\u001b[43m(\u001b[49m\u001b[43m)\u001b[49m\n\u001b[1;32m    486\u001b[0m \u001b[38;5;28;01mif\u001b[39;00m np\u001b[38;5;241m.\u001b[39miterable(ticks):\n\u001b[1;32m    487\u001b[0m     \u001b[38;5;28mself\u001b[39m\u001b[38;5;241m.\u001b[39mlocator \u001b[38;5;241m=\u001b[39m ticker\u001b[38;5;241m.\u001b[39mFixedLocator(ticks, nbins\u001b[38;5;241m=\u001b[39m\u001b[38;5;28mlen\u001b[39m(ticks))\n",
      "File \u001b[0;32m/opt/miniconda/miniconda3/envs/mbl/lib/python3.10/site-packages/matplotlib/colorbar.py:1232\u001b[0m, in \u001b[0;36mColorbar._reset_locator_formatter_scale\u001b[0;34m(self)\u001b[0m\n\u001b[1;32m   1226\u001b[0m \u001b[38;5;28;01mdef\u001b[39;00m \u001b[38;5;21m_reset_locator_formatter_scale\u001b[39m(\u001b[38;5;28mself\u001b[39m):\n\u001b[1;32m   1227\u001b[0m     \u001b[38;5;124;03m\"\"\"\u001b[39;00m\n\u001b[1;32m   1228\u001b[0m \u001b[38;5;124;03m    Reset the locator et al to defaults.  Any user-hardcoded changes\u001b[39;00m\n\u001b[1;32m   1229\u001b[0m \u001b[38;5;124;03m    need to be re-entered if this gets called (either at init, or when\u001b[39;00m\n\u001b[1;32m   1230\u001b[0m \u001b[38;5;124;03m    the mappable normal gets changed: Colorbar.update_normal)\u001b[39;00m\n\u001b[1;32m   1231\u001b[0m \u001b[38;5;124;03m    \"\"\"\u001b[39;00m\n\u001b[0;32m-> 1232\u001b[0m     \u001b[38;5;28;43mself\u001b[39;49m\u001b[38;5;241;43m.\u001b[39;49m\u001b[43m_process_values\u001b[49m\u001b[43m(\u001b[49m\u001b[43m)\u001b[49m\n\u001b[1;32m   1233\u001b[0m     \u001b[38;5;28mself\u001b[39m\u001b[38;5;241m.\u001b[39mlocator \u001b[38;5;241m=\u001b[39m \u001b[38;5;28;01mNone\u001b[39;00m\n\u001b[1;32m   1234\u001b[0m     \u001b[38;5;28mself\u001b[39m\u001b[38;5;241m.\u001b[39mminorlocator \u001b[38;5;241m=\u001b[39m \u001b[38;5;28;01mNone\u001b[39;00m\n",
      "File \u001b[0;32m/opt/miniconda/miniconda3/envs/mbl/lib/python3.10/site-packages/matplotlib/colorbar.py:1166\u001b[0m, in \u001b[0;36mColorbar._process_values\u001b[0;34m(self)\u001b[0m\n\u001b[1;32m   1164\u001b[0m     \u001b[38;5;28mself\u001b[39m\u001b[38;5;241m.\u001b[39mnorm\u001b[38;5;241m.\u001b[39mvmin \u001b[38;5;241m=\u001b[39m \u001b[38;5;241m0\u001b[39m\n\u001b[1;32m   1165\u001b[0m     \u001b[38;5;28mself\u001b[39m\u001b[38;5;241m.\u001b[39mnorm\u001b[38;5;241m.\u001b[39mvmax \u001b[38;5;241m=\u001b[39m \u001b[38;5;241m1\u001b[39m\n\u001b[0;32m-> 1166\u001b[0m \u001b[38;5;28;43mself\u001b[39;49m\u001b[38;5;241;43m.\u001b[39;49m\u001b[43mnorm\u001b[49m\u001b[38;5;241;43m.\u001b[39;49m\u001b[43mvmin\u001b[49m, \u001b[38;5;28mself\u001b[39m\u001b[38;5;241m.\u001b[39mnorm\u001b[38;5;241m.\u001b[39mvmax \u001b[38;5;241m=\u001b[39m mtransforms\u001b[38;5;241m.\u001b[39mnonsingular(\n\u001b[1;32m   1167\u001b[0m     \u001b[38;5;28mself\u001b[39m\u001b[38;5;241m.\u001b[39mnorm\u001b[38;5;241m.\u001b[39mvmin, \u001b[38;5;28mself\u001b[39m\u001b[38;5;241m.\u001b[39mnorm\u001b[38;5;241m.\u001b[39mvmax, expander\u001b[38;5;241m=\u001b[39m\u001b[38;5;241m0.1\u001b[39m)\n\u001b[1;32m   1168\u001b[0m \u001b[38;5;28;01mif\u001b[39;00m (\u001b[38;5;129;01mnot\u001b[39;00m \u001b[38;5;28misinstance\u001b[39m(\u001b[38;5;28mself\u001b[39m\u001b[38;5;241m.\u001b[39mnorm, colors\u001b[38;5;241m.\u001b[39mBoundaryNorm) \u001b[38;5;129;01mand\u001b[39;00m\n\u001b[1;32m   1169\u001b[0m         (\u001b[38;5;28mself\u001b[39m\u001b[38;5;241m.\u001b[39mboundaries \u001b[38;5;129;01mis\u001b[39;00m \u001b[38;5;28;01mNone\u001b[39;00m)):\n\u001b[1;32m   1170\u001b[0m     b \u001b[38;5;241m=\u001b[39m \u001b[38;5;28mself\u001b[39m\u001b[38;5;241m.\u001b[39mnorm\u001b[38;5;241m.\u001b[39minverse(b)\n",
      "File \u001b[0;32m/opt/miniconda/miniconda3/envs/mbl/lib/python3.10/site-packages/matplotlib/colors.py:1150\u001b[0m, in \u001b[0;36mNormalize.vmin\u001b[0;34m(self, value)\u001b[0m\n\u001b[1;32m   1148\u001b[0m \u001b[38;5;28;01mif\u001b[39;00m value \u001b[38;5;241m!=\u001b[39m \u001b[38;5;28mself\u001b[39m\u001b[38;5;241m.\u001b[39m_vmin:\n\u001b[1;32m   1149\u001b[0m     \u001b[38;5;28mself\u001b[39m\u001b[38;5;241m.\u001b[39m_vmin \u001b[38;5;241m=\u001b[39m value\n\u001b[0;32m-> 1150\u001b[0m     \u001b[38;5;28;43mself\u001b[39;49m\u001b[38;5;241;43m.\u001b[39;49m\u001b[43m_changed\u001b[49m\u001b[43m(\u001b[49m\u001b[43m)\u001b[49m\n",
      "File \u001b[0;32m/opt/miniconda/miniconda3/envs/mbl/lib/python3.10/site-packages/matplotlib/colors.py:1178\u001b[0m, in \u001b[0;36mNormalize._changed\u001b[0;34m(self)\u001b[0m\n\u001b[1;32m   1173\u001b[0m \u001b[38;5;28;01mdef\u001b[39;00m \u001b[38;5;21m_changed\u001b[39m(\u001b[38;5;28mself\u001b[39m):\n\u001b[1;32m   1174\u001b[0m     \u001b[38;5;124;03m\"\"\"\u001b[39;00m\n\u001b[1;32m   1175\u001b[0m \u001b[38;5;124;03m    Call this whenever the norm is changed to notify all the\u001b[39;00m\n\u001b[1;32m   1176\u001b[0m \u001b[38;5;124;03m    callback listeners to the 'changed' signal.\u001b[39;00m\n\u001b[1;32m   1177\u001b[0m \u001b[38;5;124;03m    \"\"\"\u001b[39;00m\n\u001b[0;32m-> 1178\u001b[0m     \u001b[38;5;28;43mself\u001b[39;49m\u001b[38;5;241;43m.\u001b[39;49m\u001b[43mcallbacks\u001b[49m\u001b[38;5;241;43m.\u001b[39;49m\u001b[43mprocess\u001b[49m\u001b[43m(\u001b[49m\u001b[38;5;124;43m'\u001b[39;49m\u001b[38;5;124;43mchanged\u001b[39;49m\u001b[38;5;124;43m'\u001b[39;49m\u001b[43m)\u001b[49m\n",
      "File \u001b[0;32m/opt/miniconda/miniconda3/envs/mbl/lib/python3.10/site-packages/matplotlib/cbook/__init__.py:292\u001b[0m, in \u001b[0;36mCallbackRegistry.process\u001b[0;34m(self, s, *args, **kwargs)\u001b[0m\n\u001b[1;32m    290\u001b[0m \u001b[38;5;28;01mexcept\u001b[39;00m \u001b[38;5;167;01mException\u001b[39;00m \u001b[38;5;28;01mas\u001b[39;00m exc:\n\u001b[1;32m    291\u001b[0m     \u001b[38;5;28;01mif\u001b[39;00m \u001b[38;5;28mself\u001b[39m\u001b[38;5;241m.\u001b[39mexception_handler \u001b[38;5;129;01mis\u001b[39;00m \u001b[38;5;129;01mnot\u001b[39;00m \u001b[38;5;28;01mNone\u001b[39;00m:\n\u001b[0;32m--> 292\u001b[0m         \u001b[38;5;28;43mself\u001b[39;49m\u001b[38;5;241;43m.\u001b[39;49m\u001b[43mexception_handler\u001b[49m\u001b[43m(\u001b[49m\u001b[43mexc\u001b[49m\u001b[43m)\u001b[49m\n\u001b[1;32m    293\u001b[0m     \u001b[38;5;28;01melse\u001b[39;00m:\n\u001b[1;32m    294\u001b[0m         \u001b[38;5;28;01mraise\u001b[39;00m\n",
      "File \u001b[0;32m/opt/miniconda/miniconda3/envs/mbl/lib/python3.10/site-packages/matplotlib/cbook/__init__.py:96\u001b[0m, in \u001b[0;36m_exception_printer\u001b[0;34m(exc)\u001b[0m\n\u001b[1;32m     94\u001b[0m \u001b[38;5;28;01mdef\u001b[39;00m \u001b[38;5;21m_exception_printer\u001b[39m(exc):\n\u001b[1;32m     95\u001b[0m     \u001b[38;5;28;01mif\u001b[39;00m _get_running_interactive_framework() \u001b[38;5;129;01min\u001b[39;00m [\u001b[38;5;124m\"\u001b[39m\u001b[38;5;124mheadless\u001b[39m\u001b[38;5;124m\"\u001b[39m, \u001b[38;5;28;01mNone\u001b[39;00m]:\n\u001b[0;32m---> 96\u001b[0m         \u001b[38;5;28;01mraise\u001b[39;00m exc\n\u001b[1;32m     97\u001b[0m     \u001b[38;5;28;01melse\u001b[39;00m:\n\u001b[1;32m     98\u001b[0m         traceback\u001b[38;5;241m.\u001b[39mprint_exc()\n",
      "File \u001b[0;32m/opt/miniconda/miniconda3/envs/mbl/lib/python3.10/site-packages/matplotlib/cbook/__init__.py:287\u001b[0m, in \u001b[0;36mCallbackRegistry.process\u001b[0;34m(self, s, *args, **kwargs)\u001b[0m\n\u001b[1;32m    285\u001b[0m \u001b[38;5;28;01mif\u001b[39;00m func \u001b[38;5;129;01mis\u001b[39;00m \u001b[38;5;129;01mnot\u001b[39;00m \u001b[38;5;28;01mNone\u001b[39;00m:\n\u001b[1;32m    286\u001b[0m     \u001b[38;5;28;01mtry\u001b[39;00m:\n\u001b[0;32m--> 287\u001b[0m         \u001b[43mfunc\u001b[49m\u001b[43m(\u001b[49m\u001b[38;5;241;43m*\u001b[39;49m\u001b[43margs\u001b[49m\u001b[43m,\u001b[49m\u001b[43m \u001b[49m\u001b[38;5;241;43m*\u001b[39;49m\u001b[38;5;241;43m*\u001b[39;49m\u001b[43mkwargs\u001b[49m\u001b[43m)\u001b[49m\n\u001b[1;32m    288\u001b[0m     \u001b[38;5;66;03m# this does not capture KeyboardInterrupt, SystemExit,\u001b[39;00m\n\u001b[1;32m    289\u001b[0m     \u001b[38;5;66;03m# and GeneratorExit\u001b[39;00m\n\u001b[1;32m    290\u001b[0m     \u001b[38;5;28;01mexcept\u001b[39;00m \u001b[38;5;167;01mException\u001b[39;00m \u001b[38;5;28;01mas\u001b[39;00m exc:\n",
      "File \u001b[0;32m/opt/miniconda/miniconda3/envs/mbl/lib/python3.10/site-packages/matplotlib/image.py:308\u001b[0m, in \u001b[0;36m_ImageBase.changed\u001b[0;34m(self)\u001b[0m\n\u001b[1;32m    306\u001b[0m \u001b[38;5;28mself\u001b[39m\u001b[38;5;241m.\u001b[39m_imcache \u001b[38;5;241m=\u001b[39m \u001b[38;5;28;01mNone\u001b[39;00m\n\u001b[1;32m    307\u001b[0m \u001b[38;5;28mself\u001b[39m\u001b[38;5;241m.\u001b[39m_rgbacache \u001b[38;5;241m=\u001b[39m \u001b[38;5;28;01mNone\u001b[39;00m\n\u001b[0;32m--> 308\u001b[0m \u001b[43mcm\u001b[49m\u001b[38;5;241;43m.\u001b[39;49m\u001b[43mScalarMappable\u001b[49m\u001b[38;5;241;43m.\u001b[39;49m\u001b[43mchanged\u001b[49m\u001b[43m(\u001b[49m\u001b[38;5;28;43mself\u001b[39;49m\u001b[43m)\u001b[49m\n",
      "File \u001b[0;32m/opt/miniconda/miniconda3/envs/mbl/lib/python3.10/site-packages/matplotlib/cm.py:618\u001b[0m, in \u001b[0;36mScalarMappable.changed\u001b[0;34m(self)\u001b[0m\n\u001b[1;32m    613\u001b[0m \u001b[38;5;28;01mdef\u001b[39;00m \u001b[38;5;21mchanged\u001b[39m(\u001b[38;5;28mself\u001b[39m):\n\u001b[1;32m    614\u001b[0m     \u001b[38;5;124;03m\"\"\"\u001b[39;00m\n\u001b[1;32m    615\u001b[0m \u001b[38;5;124;03m    Call this whenever the mappable is changed to notify all the\u001b[39;00m\n\u001b[1;32m    616\u001b[0m \u001b[38;5;124;03m    callbackSM listeners to the 'changed' signal.\u001b[39;00m\n\u001b[1;32m    617\u001b[0m \u001b[38;5;124;03m    \"\"\"\u001b[39;00m\n\u001b[0;32m--> 618\u001b[0m     \u001b[38;5;28;43mself\u001b[39;49m\u001b[38;5;241;43m.\u001b[39;49m\u001b[43mcallbacks\u001b[49m\u001b[38;5;241;43m.\u001b[39;49m\u001b[43mprocess\u001b[49m\u001b[43m(\u001b[49m\u001b[38;5;124;43m'\u001b[39;49m\u001b[38;5;124;43mchanged\u001b[39;49m\u001b[38;5;124;43m'\u001b[39;49m\u001b[43m,\u001b[49m\u001b[43m \u001b[49m\u001b[38;5;28;43mself\u001b[39;49m\u001b[43m)\u001b[49m\n\u001b[1;32m    619\u001b[0m     \u001b[38;5;28mself\u001b[39m\u001b[38;5;241m.\u001b[39mstale \u001b[38;5;241m=\u001b[39m \u001b[38;5;28;01mTrue\u001b[39;00m\n",
      "File \u001b[0;32m/opt/miniconda/miniconda3/envs/mbl/lib/python3.10/site-packages/matplotlib/cbook/__init__.py:292\u001b[0m, in \u001b[0;36mCallbackRegistry.process\u001b[0;34m(self, s, *args, **kwargs)\u001b[0m\n\u001b[1;32m    290\u001b[0m \u001b[38;5;28;01mexcept\u001b[39;00m \u001b[38;5;167;01mException\u001b[39;00m \u001b[38;5;28;01mas\u001b[39;00m exc:\n\u001b[1;32m    291\u001b[0m     \u001b[38;5;28;01mif\u001b[39;00m \u001b[38;5;28mself\u001b[39m\u001b[38;5;241m.\u001b[39mexception_handler \u001b[38;5;129;01mis\u001b[39;00m \u001b[38;5;129;01mnot\u001b[39;00m \u001b[38;5;28;01mNone\u001b[39;00m:\n\u001b[0;32m--> 292\u001b[0m         \u001b[38;5;28;43mself\u001b[39;49m\u001b[38;5;241;43m.\u001b[39;49m\u001b[43mexception_handler\u001b[49m\u001b[43m(\u001b[49m\u001b[43mexc\u001b[49m\u001b[43m)\u001b[49m\n\u001b[1;32m    293\u001b[0m     \u001b[38;5;28;01melse\u001b[39;00m:\n\u001b[1;32m    294\u001b[0m         \u001b[38;5;28;01mraise\u001b[39;00m\n",
      "File \u001b[0;32m/opt/miniconda/miniconda3/envs/mbl/lib/python3.10/site-packages/matplotlib/cbook/__init__.py:96\u001b[0m, in \u001b[0;36m_exception_printer\u001b[0;34m(exc)\u001b[0m\n\u001b[1;32m     94\u001b[0m \u001b[38;5;28;01mdef\u001b[39;00m \u001b[38;5;21m_exception_printer\u001b[39m(exc):\n\u001b[1;32m     95\u001b[0m     \u001b[38;5;28;01mif\u001b[39;00m _get_running_interactive_framework() \u001b[38;5;129;01min\u001b[39;00m [\u001b[38;5;124m\"\u001b[39m\u001b[38;5;124mheadless\u001b[39m\u001b[38;5;124m\"\u001b[39m, \u001b[38;5;28;01mNone\u001b[39;00m]:\n\u001b[0;32m---> 96\u001b[0m         \u001b[38;5;28;01mraise\u001b[39;00m exc\n\u001b[1;32m     97\u001b[0m     \u001b[38;5;28;01melse\u001b[39;00m:\n\u001b[1;32m     98\u001b[0m         traceback\u001b[38;5;241m.\u001b[39mprint_exc()\n",
      "File \u001b[0;32m/opt/miniconda/miniconda3/envs/mbl/lib/python3.10/site-packages/matplotlib/cbook/__init__.py:287\u001b[0m, in \u001b[0;36mCallbackRegistry.process\u001b[0;34m(self, s, *args, **kwargs)\u001b[0m\n\u001b[1;32m    285\u001b[0m \u001b[38;5;28;01mif\u001b[39;00m func \u001b[38;5;129;01mis\u001b[39;00m \u001b[38;5;129;01mnot\u001b[39;00m \u001b[38;5;28;01mNone\u001b[39;00m:\n\u001b[1;32m    286\u001b[0m     \u001b[38;5;28;01mtry\u001b[39;00m:\n\u001b[0;32m--> 287\u001b[0m         \u001b[43mfunc\u001b[49m\u001b[43m(\u001b[49m\u001b[38;5;241;43m*\u001b[39;49m\u001b[43margs\u001b[49m\u001b[43m,\u001b[49m\u001b[43m \u001b[49m\u001b[38;5;241;43m*\u001b[39;49m\u001b[38;5;241;43m*\u001b[39;49m\u001b[43mkwargs\u001b[49m\u001b[43m)\u001b[49m\n\u001b[1;32m    288\u001b[0m     \u001b[38;5;66;03m# this does not capture KeyboardInterrupt, SystemExit,\u001b[39;00m\n\u001b[1;32m    289\u001b[0m     \u001b[38;5;66;03m# and GeneratorExit\u001b[39;00m\n\u001b[1;32m    290\u001b[0m     \u001b[38;5;28;01mexcept\u001b[39;00m \u001b[38;5;167;01mException\u001b[39;00m \u001b[38;5;28;01mas\u001b[39;00m exc:\n",
      "File \u001b[0;32m/opt/miniconda/miniconda3/envs/mbl/lib/python3.10/site-packages/matplotlib/colorbar.py:552\u001b[0m, in \u001b[0;36mColorbar.update_normal\u001b[0;34m(self, mappable)\u001b[0m\n\u001b[1;32m    549\u001b[0m     \u001b[38;5;28mself\u001b[39m\u001b[38;5;241m.\u001b[39mnorm \u001b[38;5;241m=\u001b[39m mappable\u001b[38;5;241m.\u001b[39mnorm\n\u001b[1;32m    550\u001b[0m     \u001b[38;5;28mself\u001b[39m\u001b[38;5;241m.\u001b[39m_reset_locator_formatter_scale()\n\u001b[0;32m--> 552\u001b[0m \u001b[38;5;28;43mself\u001b[39;49m\u001b[38;5;241;43m.\u001b[39;49m\u001b[43mdraw_all\u001b[49m\u001b[43m(\u001b[49m\u001b[43m)\u001b[49m\n\u001b[1;32m    553\u001b[0m \u001b[38;5;28;01mif\u001b[39;00m \u001b[38;5;28misinstance\u001b[39m(\u001b[38;5;28mself\u001b[39m\u001b[38;5;241m.\u001b[39mmappable, contour\u001b[38;5;241m.\u001b[39mContourSet):\n\u001b[1;32m    554\u001b[0m     CS \u001b[38;5;241m=\u001b[39m \u001b[38;5;28mself\u001b[39m\u001b[38;5;241m.\u001b[39mmappable\n",
      "File \u001b[0;32m/opt/miniconda/miniconda3/envs/mbl/lib/python3.10/site-packages/matplotlib/colorbar.py:579\u001b[0m, in \u001b[0;36mColorbar.draw_all\u001b[0;34m(self)\u001b[0m\n\u001b[1;32m    573\u001b[0m \u001b[38;5;28mself\u001b[39m\u001b[38;5;241m.\u001b[39m_short_axis()\u001b[38;5;241m.\u001b[39mset_ticks([], minor\u001b[38;5;241m=\u001b[39m\u001b[38;5;28;01mTrue\u001b[39;00m)\n\u001b[1;32m    575\u001b[0m \u001b[38;5;66;03m# Set self._boundaries and self._values, including extensions.\u001b[39;00m\n\u001b[1;32m    576\u001b[0m \u001b[38;5;66;03m# self._boundaries are the edges of each square of color, and\u001b[39;00m\n\u001b[1;32m    577\u001b[0m \u001b[38;5;66;03m# self._values are the value to map into the norm to get the\u001b[39;00m\n\u001b[1;32m    578\u001b[0m \u001b[38;5;66;03m# color:\u001b[39;00m\n\u001b[0;32m--> 579\u001b[0m \u001b[38;5;28;43mself\u001b[39;49m\u001b[38;5;241;43m.\u001b[39;49m\u001b[43m_process_values\u001b[49m\u001b[43m(\u001b[49m\u001b[43m)\u001b[49m\n\u001b[1;32m    580\u001b[0m \u001b[38;5;66;03m# Set self.vmin and self.vmax to first and last boundary, excluding\u001b[39;00m\n\u001b[1;32m    581\u001b[0m \u001b[38;5;66;03m# extensions:\u001b[39;00m\n\u001b[1;32m    582\u001b[0m \u001b[38;5;28mself\u001b[39m\u001b[38;5;241m.\u001b[39mvmin, \u001b[38;5;28mself\u001b[39m\u001b[38;5;241m.\u001b[39mvmax \u001b[38;5;241m=\u001b[39m \u001b[38;5;28mself\u001b[39m\u001b[38;5;241m.\u001b[39m_boundaries[\u001b[38;5;28mself\u001b[39m\u001b[38;5;241m.\u001b[39m_inside][[\u001b[38;5;241m0\u001b[39m, \u001b[38;5;241m-\u001b[39m\u001b[38;5;241m1\u001b[39m]]\n",
      "File \u001b[0;32m/opt/miniconda/miniconda3/envs/mbl/lib/python3.10/site-packages/matplotlib/colorbar.py:1170\u001b[0m, in \u001b[0;36mColorbar._process_values\u001b[0;34m(self)\u001b[0m\n\u001b[1;32m   1166\u001b[0m \u001b[38;5;28mself\u001b[39m\u001b[38;5;241m.\u001b[39mnorm\u001b[38;5;241m.\u001b[39mvmin, \u001b[38;5;28mself\u001b[39m\u001b[38;5;241m.\u001b[39mnorm\u001b[38;5;241m.\u001b[39mvmax \u001b[38;5;241m=\u001b[39m mtransforms\u001b[38;5;241m.\u001b[39mnonsingular(\n\u001b[1;32m   1167\u001b[0m     \u001b[38;5;28mself\u001b[39m\u001b[38;5;241m.\u001b[39mnorm\u001b[38;5;241m.\u001b[39mvmin, \u001b[38;5;28mself\u001b[39m\u001b[38;5;241m.\u001b[39mnorm\u001b[38;5;241m.\u001b[39mvmax, expander\u001b[38;5;241m=\u001b[39m\u001b[38;5;241m0.1\u001b[39m)\n\u001b[1;32m   1168\u001b[0m \u001b[38;5;28;01mif\u001b[39;00m (\u001b[38;5;129;01mnot\u001b[39;00m \u001b[38;5;28misinstance\u001b[39m(\u001b[38;5;28mself\u001b[39m\u001b[38;5;241m.\u001b[39mnorm, colors\u001b[38;5;241m.\u001b[39mBoundaryNorm) \u001b[38;5;129;01mand\u001b[39;00m\n\u001b[1;32m   1169\u001b[0m         (\u001b[38;5;28mself\u001b[39m\u001b[38;5;241m.\u001b[39mboundaries \u001b[38;5;129;01mis\u001b[39;00m \u001b[38;5;28;01mNone\u001b[39;00m)):\n\u001b[0;32m-> 1170\u001b[0m     b \u001b[38;5;241m=\u001b[39m \u001b[38;5;28;43mself\u001b[39;49m\u001b[38;5;241;43m.\u001b[39;49m\u001b[43mnorm\u001b[49m\u001b[38;5;241;43m.\u001b[39;49m\u001b[43minverse\u001b[49m\u001b[43m(\u001b[49m\u001b[43mb\u001b[49m\u001b[43m)\u001b[49m\n\u001b[1;32m   1172\u001b[0m \u001b[38;5;28mself\u001b[39m\u001b[38;5;241m.\u001b[39m_boundaries \u001b[38;5;241m=\u001b[39m np\u001b[38;5;241m.\u001b[39masarray(b, dtype\u001b[38;5;241m=\u001b[39m\u001b[38;5;28mfloat\u001b[39m)\n\u001b[1;32m   1173\u001b[0m \u001b[38;5;28mself\u001b[39m\u001b[38;5;241m.\u001b[39m_values \u001b[38;5;241m=\u001b[39m \u001b[38;5;241m0.5\u001b[39m \u001b[38;5;241m*\u001b[39m (\u001b[38;5;28mself\u001b[39m\u001b[38;5;241m.\u001b[39m_boundaries[:\u001b[38;5;241m-\u001b[39m\u001b[38;5;241m1\u001b[39m] \u001b[38;5;241m+\u001b[39m \u001b[38;5;28mself\u001b[39m\u001b[38;5;241m.\u001b[39m_boundaries[\u001b[38;5;241m1\u001b[39m:])\n",
      "File \u001b[0;32m/opt/miniconda/miniconda3/envs/mbl/lib/python3.10/site-packages/matplotlib/colors.py:1554\u001b[0m, in \u001b[0;36mmake_norm_from_scale.<locals>.Norm.inverse\u001b[0;34m(self, value)\u001b[0m\n\u001b[1;32m   1552\u001b[0m t_vmin, t_vmax \u001b[38;5;241m=\u001b[39m \u001b[38;5;28mself\u001b[39m\u001b[38;5;241m.\u001b[39m_trf\u001b[38;5;241m.\u001b[39mtransform([\u001b[38;5;28mself\u001b[39m\u001b[38;5;241m.\u001b[39mvmin, \u001b[38;5;28mself\u001b[39m\u001b[38;5;241m.\u001b[39mvmax])\n\u001b[1;32m   1553\u001b[0m \u001b[38;5;28;01mif\u001b[39;00m \u001b[38;5;129;01mnot\u001b[39;00m np\u001b[38;5;241m.\u001b[39misfinite([t_vmin, t_vmax])\u001b[38;5;241m.\u001b[39mall():\n\u001b[0;32m-> 1554\u001b[0m     \u001b[38;5;28;01mraise\u001b[39;00m \u001b[38;5;167;01mValueError\u001b[39;00m(\u001b[38;5;124m\"\u001b[39m\u001b[38;5;124mInvalid vmin or vmax\u001b[39m\u001b[38;5;124m\"\u001b[39m)\n\u001b[1;32m   1555\u001b[0m value, is_scalar \u001b[38;5;241m=\u001b[39m \u001b[38;5;28mself\u001b[39m\u001b[38;5;241m.\u001b[39mprocess_value(value)\n\u001b[1;32m   1556\u001b[0m rescaled \u001b[38;5;241m=\u001b[39m value \u001b[38;5;241m*\u001b[39m (t_vmax \u001b[38;5;241m-\u001b[39m t_vmin)\n",
      "\u001b[0;31mValueError\u001b[0m: Invalid vmin or vmax"
     ]
    },
    {
     "name": "stdout",
     "output_type": "stream",
     "text": [
      "Error in callback <function install_repl_displayhook.<locals>.post_execute at 0x7fcbd3b965f0> (for post_execute):\n"
     ]
    },
    {
     "ename": "ValueError",
     "evalue": "vmin must be less or equal to vmax",
     "output_type": "error",
     "traceback": [
      "\u001b[0;31m---------------------------------------------------------------------------\u001b[0m",
      "\u001b[0;31mValueError\u001b[0m                                Traceback (most recent call last)",
      "File \u001b[0;32m/opt/miniconda/miniconda3/envs/mbl/lib/python3.10/site-packages/matplotlib/pyplot.py:137\u001b[0m, in \u001b[0;36minstall_repl_displayhook.<locals>.post_execute\u001b[0;34m()\u001b[0m\n\u001b[1;32m    135\u001b[0m \u001b[38;5;28;01mdef\u001b[39;00m \u001b[38;5;21mpost_execute\u001b[39m():\n\u001b[1;32m    136\u001b[0m     \u001b[38;5;28;01mif\u001b[39;00m matplotlib\u001b[38;5;241m.\u001b[39mis_interactive():\n\u001b[0;32m--> 137\u001b[0m         \u001b[43mdraw_all\u001b[49m\u001b[43m(\u001b[49m\u001b[43m)\u001b[49m\n",
      "File \u001b[0;32m/opt/miniconda/miniconda3/envs/mbl/lib/python3.10/site-packages/matplotlib/_pylab_helpers.py:141\u001b[0m, in \u001b[0;36mGcf.draw_all\u001b[0;34m(cls, force)\u001b[0m\n\u001b[1;32m    139\u001b[0m \u001b[38;5;28;01mfor\u001b[39;00m manager \u001b[38;5;129;01min\u001b[39;00m \u001b[38;5;28mcls\u001b[39m\u001b[38;5;241m.\u001b[39mget_all_fig_managers():\n\u001b[1;32m    140\u001b[0m     \u001b[38;5;28;01mif\u001b[39;00m force \u001b[38;5;129;01mor\u001b[39;00m manager\u001b[38;5;241m.\u001b[39mcanvas\u001b[38;5;241m.\u001b[39mfigure\u001b[38;5;241m.\u001b[39mstale:\n\u001b[0;32m--> 141\u001b[0m         \u001b[43mmanager\u001b[49m\u001b[38;5;241;43m.\u001b[39;49m\u001b[43mcanvas\u001b[49m\u001b[38;5;241;43m.\u001b[39;49m\u001b[43mdraw_idle\u001b[49m\u001b[43m(\u001b[49m\u001b[43m)\u001b[49m\n",
      "File \u001b[0;32m/opt/miniconda/miniconda3/envs/mbl/lib/python3.10/site-packages/matplotlib/backend_bases.py:2060\u001b[0m, in \u001b[0;36mFigureCanvasBase.draw_idle\u001b[0;34m(self, *args, **kwargs)\u001b[0m\n\u001b[1;32m   2058\u001b[0m \u001b[38;5;28;01mif\u001b[39;00m \u001b[38;5;129;01mnot\u001b[39;00m \u001b[38;5;28mself\u001b[39m\u001b[38;5;241m.\u001b[39m_is_idle_drawing:\n\u001b[1;32m   2059\u001b[0m     \u001b[38;5;28;01mwith\u001b[39;00m \u001b[38;5;28mself\u001b[39m\u001b[38;5;241m.\u001b[39m_idle_draw_cntx():\n\u001b[0;32m-> 2060\u001b[0m         \u001b[38;5;28;43mself\u001b[39;49m\u001b[38;5;241;43m.\u001b[39;49m\u001b[43mdraw\u001b[49m\u001b[43m(\u001b[49m\u001b[38;5;241;43m*\u001b[39;49m\u001b[43margs\u001b[49m\u001b[43m,\u001b[49m\u001b[43m \u001b[49m\u001b[38;5;241;43m*\u001b[39;49m\u001b[38;5;241;43m*\u001b[39;49m\u001b[43mkwargs\u001b[49m\u001b[43m)\u001b[49m\n",
      "File \u001b[0;32m/opt/miniconda/miniconda3/envs/mbl/lib/python3.10/site-packages/matplotlib/backends/backend_agg.py:436\u001b[0m, in \u001b[0;36mFigureCanvasAgg.draw\u001b[0;34m(self)\u001b[0m\n\u001b[1;32m    432\u001b[0m \u001b[38;5;66;03m# Acquire a lock on the shared font cache.\u001b[39;00m\n\u001b[1;32m    433\u001b[0m \u001b[38;5;28;01mwith\u001b[39;00m RendererAgg\u001b[38;5;241m.\u001b[39mlock, \\\n\u001b[1;32m    434\u001b[0m      (\u001b[38;5;28mself\u001b[39m\u001b[38;5;241m.\u001b[39mtoolbar\u001b[38;5;241m.\u001b[39m_wait_cursor_for_draw_cm() \u001b[38;5;28;01mif\u001b[39;00m \u001b[38;5;28mself\u001b[39m\u001b[38;5;241m.\u001b[39mtoolbar\n\u001b[1;32m    435\u001b[0m       \u001b[38;5;28;01melse\u001b[39;00m nullcontext()):\n\u001b[0;32m--> 436\u001b[0m     \u001b[38;5;28;43mself\u001b[39;49m\u001b[38;5;241;43m.\u001b[39;49m\u001b[43mfigure\u001b[49m\u001b[38;5;241;43m.\u001b[39;49m\u001b[43mdraw\u001b[49m\u001b[43m(\u001b[49m\u001b[38;5;28;43mself\u001b[39;49m\u001b[38;5;241;43m.\u001b[39;49m\u001b[43mrenderer\u001b[49m\u001b[43m)\u001b[49m\n\u001b[1;32m    437\u001b[0m     \u001b[38;5;66;03m# A GUI class may be need to update a window using this draw, so\u001b[39;00m\n\u001b[1;32m    438\u001b[0m     \u001b[38;5;66;03m# don't forget to call the superclass.\u001b[39;00m\n\u001b[1;32m    439\u001b[0m     \u001b[38;5;28msuper\u001b[39m()\u001b[38;5;241m.\u001b[39mdraw()\n",
      "File \u001b[0;32m/opt/miniconda/miniconda3/envs/mbl/lib/python3.10/site-packages/matplotlib/artist.py:74\u001b[0m, in \u001b[0;36m_finalize_rasterization.<locals>.draw_wrapper\u001b[0;34m(artist, renderer, *args, **kwargs)\u001b[0m\n\u001b[1;32m     72\u001b[0m \u001b[38;5;129m@wraps\u001b[39m(draw)\n\u001b[1;32m     73\u001b[0m \u001b[38;5;28;01mdef\u001b[39;00m \u001b[38;5;21mdraw_wrapper\u001b[39m(artist, renderer, \u001b[38;5;241m*\u001b[39margs, \u001b[38;5;241m*\u001b[39m\u001b[38;5;241m*\u001b[39mkwargs):\n\u001b[0;32m---> 74\u001b[0m     result \u001b[38;5;241m=\u001b[39m \u001b[43mdraw\u001b[49m\u001b[43m(\u001b[49m\u001b[43martist\u001b[49m\u001b[43m,\u001b[49m\u001b[43m \u001b[49m\u001b[43mrenderer\u001b[49m\u001b[43m,\u001b[49m\u001b[43m \u001b[49m\u001b[38;5;241;43m*\u001b[39;49m\u001b[43margs\u001b[49m\u001b[43m,\u001b[49m\u001b[43m \u001b[49m\u001b[38;5;241;43m*\u001b[39;49m\u001b[38;5;241;43m*\u001b[39;49m\u001b[43mkwargs\u001b[49m\u001b[43m)\u001b[49m\n\u001b[1;32m     75\u001b[0m     \u001b[38;5;28;01mif\u001b[39;00m renderer\u001b[38;5;241m.\u001b[39m_rasterizing:\n\u001b[1;32m     76\u001b[0m         renderer\u001b[38;5;241m.\u001b[39mstop_rasterizing()\n",
      "File \u001b[0;32m/opt/miniconda/miniconda3/envs/mbl/lib/python3.10/site-packages/matplotlib/artist.py:51\u001b[0m, in \u001b[0;36mallow_rasterization.<locals>.draw_wrapper\u001b[0;34m(artist, renderer)\u001b[0m\n\u001b[1;32m     48\u001b[0m     \u001b[38;5;28;01mif\u001b[39;00m artist\u001b[38;5;241m.\u001b[39mget_agg_filter() \u001b[38;5;129;01mis\u001b[39;00m \u001b[38;5;129;01mnot\u001b[39;00m \u001b[38;5;28;01mNone\u001b[39;00m:\n\u001b[1;32m     49\u001b[0m         renderer\u001b[38;5;241m.\u001b[39mstart_filter()\n\u001b[0;32m---> 51\u001b[0m     \u001b[38;5;28;01mreturn\u001b[39;00m \u001b[43mdraw\u001b[49m\u001b[43m(\u001b[49m\u001b[43martist\u001b[49m\u001b[43m,\u001b[49m\u001b[43m \u001b[49m\u001b[43mrenderer\u001b[49m\u001b[43m)\u001b[49m\n\u001b[1;32m     52\u001b[0m \u001b[38;5;28;01mfinally\u001b[39;00m:\n\u001b[1;32m     53\u001b[0m     \u001b[38;5;28;01mif\u001b[39;00m artist\u001b[38;5;241m.\u001b[39mget_agg_filter() \u001b[38;5;129;01mis\u001b[39;00m \u001b[38;5;129;01mnot\u001b[39;00m \u001b[38;5;28;01mNone\u001b[39;00m:\n",
      "File \u001b[0;32m/opt/miniconda/miniconda3/envs/mbl/lib/python3.10/site-packages/matplotlib/figure.py:2845\u001b[0m, in \u001b[0;36mFigure.draw\u001b[0;34m(self, renderer)\u001b[0m\n\u001b[1;32m   2842\u001b[0m         \u001b[38;5;66;03m# ValueError can occur when resizing a window.\u001b[39;00m\n\u001b[1;32m   2844\u001b[0m \u001b[38;5;28mself\u001b[39m\u001b[38;5;241m.\u001b[39mpatch\u001b[38;5;241m.\u001b[39mdraw(renderer)\n\u001b[0;32m-> 2845\u001b[0m \u001b[43mmimage\u001b[49m\u001b[38;5;241;43m.\u001b[39;49m\u001b[43m_draw_list_compositing_images\u001b[49m\u001b[43m(\u001b[49m\n\u001b[1;32m   2846\u001b[0m \u001b[43m    \u001b[49m\u001b[43mrenderer\u001b[49m\u001b[43m,\u001b[49m\u001b[43m \u001b[49m\u001b[38;5;28;43mself\u001b[39;49m\u001b[43m,\u001b[49m\u001b[43m \u001b[49m\u001b[43martists\u001b[49m\u001b[43m,\u001b[49m\u001b[43m \u001b[49m\u001b[38;5;28;43mself\u001b[39;49m\u001b[38;5;241;43m.\u001b[39;49m\u001b[43msuppressComposite\u001b[49m\u001b[43m)\u001b[49m\n\u001b[1;32m   2848\u001b[0m \u001b[38;5;28;01mfor\u001b[39;00m sfig \u001b[38;5;129;01min\u001b[39;00m \u001b[38;5;28mself\u001b[39m\u001b[38;5;241m.\u001b[39msubfigs:\n\u001b[1;32m   2849\u001b[0m     sfig\u001b[38;5;241m.\u001b[39mdraw(renderer)\n",
      "File \u001b[0;32m/opt/miniconda/miniconda3/envs/mbl/lib/python3.10/site-packages/matplotlib/image.py:132\u001b[0m, in \u001b[0;36m_draw_list_compositing_images\u001b[0;34m(renderer, parent, artists, suppress_composite)\u001b[0m\n\u001b[1;32m    130\u001b[0m \u001b[38;5;28;01mif\u001b[39;00m not_composite \u001b[38;5;129;01mor\u001b[39;00m \u001b[38;5;129;01mnot\u001b[39;00m has_images:\n\u001b[1;32m    131\u001b[0m     \u001b[38;5;28;01mfor\u001b[39;00m a \u001b[38;5;129;01min\u001b[39;00m artists:\n\u001b[0;32m--> 132\u001b[0m         \u001b[43ma\u001b[49m\u001b[38;5;241;43m.\u001b[39;49m\u001b[43mdraw\u001b[49m\u001b[43m(\u001b[49m\u001b[43mrenderer\u001b[49m\u001b[43m)\u001b[49m\n\u001b[1;32m    133\u001b[0m \u001b[38;5;28;01melse\u001b[39;00m:\n\u001b[1;32m    134\u001b[0m     \u001b[38;5;66;03m# Composite any adjacent images together\u001b[39;00m\n\u001b[1;32m    135\u001b[0m     image_group \u001b[38;5;241m=\u001b[39m []\n",
      "File \u001b[0;32m/opt/miniconda/miniconda3/envs/mbl/lib/python3.10/site-packages/matplotlib/artist.py:51\u001b[0m, in \u001b[0;36mallow_rasterization.<locals>.draw_wrapper\u001b[0;34m(artist, renderer)\u001b[0m\n\u001b[1;32m     48\u001b[0m     \u001b[38;5;28;01mif\u001b[39;00m artist\u001b[38;5;241m.\u001b[39mget_agg_filter() \u001b[38;5;129;01mis\u001b[39;00m \u001b[38;5;129;01mnot\u001b[39;00m \u001b[38;5;28;01mNone\u001b[39;00m:\n\u001b[1;32m     49\u001b[0m         renderer\u001b[38;5;241m.\u001b[39mstart_filter()\n\u001b[0;32m---> 51\u001b[0m     \u001b[38;5;28;01mreturn\u001b[39;00m \u001b[43mdraw\u001b[49m\u001b[43m(\u001b[49m\u001b[43martist\u001b[49m\u001b[43m,\u001b[49m\u001b[43m \u001b[49m\u001b[43mrenderer\u001b[49m\u001b[43m)\u001b[49m\n\u001b[1;32m     52\u001b[0m \u001b[38;5;28;01mfinally\u001b[39;00m:\n\u001b[1;32m     53\u001b[0m     \u001b[38;5;28;01mif\u001b[39;00m artist\u001b[38;5;241m.\u001b[39mget_agg_filter() \u001b[38;5;129;01mis\u001b[39;00m \u001b[38;5;129;01mnot\u001b[39;00m \u001b[38;5;28;01mNone\u001b[39;00m:\n",
      "File \u001b[0;32m/opt/miniconda/miniconda3/envs/mbl/lib/python3.10/site-packages/matplotlib/axes/_base.py:3091\u001b[0m, in \u001b[0;36m_AxesBase.draw\u001b[0;34m(self, renderer)\u001b[0m\n\u001b[1;32m   3088\u001b[0m         a\u001b[38;5;241m.\u001b[39mdraw(renderer)\n\u001b[1;32m   3089\u001b[0m     renderer\u001b[38;5;241m.\u001b[39mstop_rasterizing()\n\u001b[0;32m-> 3091\u001b[0m \u001b[43mmimage\u001b[49m\u001b[38;5;241;43m.\u001b[39;49m\u001b[43m_draw_list_compositing_images\u001b[49m\u001b[43m(\u001b[49m\n\u001b[1;32m   3092\u001b[0m \u001b[43m    \u001b[49m\u001b[43mrenderer\u001b[49m\u001b[43m,\u001b[49m\u001b[43m \u001b[49m\u001b[38;5;28;43mself\u001b[39;49m\u001b[43m,\u001b[49m\u001b[43m \u001b[49m\u001b[43martists\u001b[49m\u001b[43m,\u001b[49m\u001b[43m \u001b[49m\u001b[38;5;28;43mself\u001b[39;49m\u001b[38;5;241;43m.\u001b[39;49m\u001b[43mfigure\u001b[49m\u001b[38;5;241;43m.\u001b[39;49m\u001b[43msuppressComposite\u001b[49m\u001b[43m)\u001b[49m\n\u001b[1;32m   3094\u001b[0m renderer\u001b[38;5;241m.\u001b[39mclose_group(\u001b[38;5;124m'\u001b[39m\u001b[38;5;124maxes\u001b[39m\u001b[38;5;124m'\u001b[39m)\n\u001b[1;32m   3095\u001b[0m \u001b[38;5;28mself\u001b[39m\u001b[38;5;241m.\u001b[39mstale \u001b[38;5;241m=\u001b[39m \u001b[38;5;28;01mFalse\u001b[39;00m\n",
      "File \u001b[0;32m/opt/miniconda/miniconda3/envs/mbl/lib/python3.10/site-packages/matplotlib/image.py:132\u001b[0m, in \u001b[0;36m_draw_list_compositing_images\u001b[0;34m(renderer, parent, artists, suppress_composite)\u001b[0m\n\u001b[1;32m    130\u001b[0m \u001b[38;5;28;01mif\u001b[39;00m not_composite \u001b[38;5;129;01mor\u001b[39;00m \u001b[38;5;129;01mnot\u001b[39;00m has_images:\n\u001b[1;32m    131\u001b[0m     \u001b[38;5;28;01mfor\u001b[39;00m a \u001b[38;5;129;01min\u001b[39;00m artists:\n\u001b[0;32m--> 132\u001b[0m         \u001b[43ma\u001b[49m\u001b[38;5;241;43m.\u001b[39;49m\u001b[43mdraw\u001b[49m\u001b[43m(\u001b[49m\u001b[43mrenderer\u001b[49m\u001b[43m)\u001b[49m\n\u001b[1;32m    133\u001b[0m \u001b[38;5;28;01melse\u001b[39;00m:\n\u001b[1;32m    134\u001b[0m     \u001b[38;5;66;03m# Composite any adjacent images together\u001b[39;00m\n\u001b[1;32m    135\u001b[0m     image_group \u001b[38;5;241m=\u001b[39m []\n",
      "File \u001b[0;32m/opt/miniconda/miniconda3/envs/mbl/lib/python3.10/site-packages/matplotlib/artist.py:51\u001b[0m, in \u001b[0;36mallow_rasterization.<locals>.draw_wrapper\u001b[0;34m(artist, renderer)\u001b[0m\n\u001b[1;32m     48\u001b[0m     \u001b[38;5;28;01mif\u001b[39;00m artist\u001b[38;5;241m.\u001b[39mget_agg_filter() \u001b[38;5;129;01mis\u001b[39;00m \u001b[38;5;129;01mnot\u001b[39;00m \u001b[38;5;28;01mNone\u001b[39;00m:\n\u001b[1;32m     49\u001b[0m         renderer\u001b[38;5;241m.\u001b[39mstart_filter()\n\u001b[0;32m---> 51\u001b[0m     \u001b[38;5;28;01mreturn\u001b[39;00m \u001b[43mdraw\u001b[49m\u001b[43m(\u001b[49m\u001b[43martist\u001b[49m\u001b[43m,\u001b[49m\u001b[43m \u001b[49m\u001b[43mrenderer\u001b[49m\u001b[43m)\u001b[49m\n\u001b[1;32m     52\u001b[0m \u001b[38;5;28;01mfinally\u001b[39;00m:\n\u001b[1;32m     53\u001b[0m     \u001b[38;5;28;01mif\u001b[39;00m artist\u001b[38;5;241m.\u001b[39mget_agg_filter() \u001b[38;5;129;01mis\u001b[39;00m \u001b[38;5;129;01mnot\u001b[39;00m \u001b[38;5;28;01mNone\u001b[39;00m:\n",
      "File \u001b[0;32m/opt/miniconda/miniconda3/envs/mbl/lib/python3.10/site-packages/matplotlib/image.py:646\u001b[0m, in \u001b[0;36m_ImageBase.draw\u001b[0;34m(self, renderer, *args, **kwargs)\u001b[0m\n\u001b[1;32m    644\u001b[0m         renderer\u001b[38;5;241m.\u001b[39mdraw_image(gc, l, b, im, trans)\n\u001b[1;32m    645\u001b[0m \u001b[38;5;28;01melse\u001b[39;00m:\n\u001b[0;32m--> 646\u001b[0m     im, l, b, trans \u001b[38;5;241m=\u001b[39m \u001b[38;5;28;43mself\u001b[39;49m\u001b[38;5;241;43m.\u001b[39;49m\u001b[43mmake_image\u001b[49m\u001b[43m(\u001b[49m\n\u001b[1;32m    647\u001b[0m \u001b[43m        \u001b[49m\u001b[43mrenderer\u001b[49m\u001b[43m,\u001b[49m\u001b[43m \u001b[49m\u001b[43mrenderer\u001b[49m\u001b[38;5;241;43m.\u001b[39;49m\u001b[43mget_image_magnification\u001b[49m\u001b[43m(\u001b[49m\u001b[43m)\u001b[49m\u001b[43m)\u001b[49m\n\u001b[1;32m    648\u001b[0m     \u001b[38;5;28;01mif\u001b[39;00m im \u001b[38;5;129;01mis\u001b[39;00m \u001b[38;5;129;01mnot\u001b[39;00m \u001b[38;5;28;01mNone\u001b[39;00m:\n\u001b[1;32m    649\u001b[0m         renderer\u001b[38;5;241m.\u001b[39mdraw_image(gc, l, b, im)\n",
      "File \u001b[0;32m/opt/miniconda/miniconda3/envs/mbl/lib/python3.10/site-packages/matplotlib/image.py:956\u001b[0m, in \u001b[0;36mAxesImage.make_image\u001b[0;34m(self, renderer, magnification, unsampled)\u001b[0m\n\u001b[1;32m    953\u001b[0m transformed_bbox \u001b[38;5;241m=\u001b[39m TransformedBbox(bbox, trans)\n\u001b[1;32m    954\u001b[0m clip \u001b[38;5;241m=\u001b[39m ((\u001b[38;5;28mself\u001b[39m\u001b[38;5;241m.\u001b[39mget_clip_box() \u001b[38;5;129;01mor\u001b[39;00m \u001b[38;5;28mself\u001b[39m\u001b[38;5;241m.\u001b[39maxes\u001b[38;5;241m.\u001b[39mbbox) \u001b[38;5;28;01mif\u001b[39;00m \u001b[38;5;28mself\u001b[39m\u001b[38;5;241m.\u001b[39mget_clip_on()\n\u001b[1;32m    955\u001b[0m         \u001b[38;5;28;01melse\u001b[39;00m \u001b[38;5;28mself\u001b[39m\u001b[38;5;241m.\u001b[39mfigure\u001b[38;5;241m.\u001b[39mbbox)\n\u001b[0;32m--> 956\u001b[0m \u001b[38;5;28;01mreturn\u001b[39;00m \u001b[38;5;28;43mself\u001b[39;49m\u001b[38;5;241;43m.\u001b[39;49m\u001b[43m_make_image\u001b[49m\u001b[43m(\u001b[49m\u001b[38;5;28;43mself\u001b[39;49m\u001b[38;5;241;43m.\u001b[39;49m\u001b[43m_A\u001b[49m\u001b[43m,\u001b[49m\u001b[43m \u001b[49m\u001b[43mbbox\u001b[49m\u001b[43m,\u001b[49m\u001b[43m \u001b[49m\u001b[43mtransformed_bbox\u001b[49m\u001b[43m,\u001b[49m\u001b[43m \u001b[49m\u001b[43mclip\u001b[49m\u001b[43m,\u001b[49m\n\u001b[1;32m    957\u001b[0m \u001b[43m                        \u001b[49m\u001b[43mmagnification\u001b[49m\u001b[43m,\u001b[49m\u001b[43m \u001b[49m\u001b[43munsampled\u001b[49m\u001b[38;5;241;43m=\u001b[39;49m\u001b[43munsampled\u001b[49m\u001b[43m)\u001b[49m\n",
      "File \u001b[0;32m/opt/miniconda/miniconda3/envs/mbl/lib/python3.10/site-packages/matplotlib/image.py:547\u001b[0m, in \u001b[0;36m_ImageBase._make_image\u001b[0;34m(self, A, in_bbox, out_bbox, clip_bbox, magnification, unsampled, round_to_pixel_border)\u001b[0m\n\u001b[1;32m    542\u001b[0m     \u001b[38;5;28;01mwith\u001b[39;00m \u001b[38;5;28mself\u001b[39m\u001b[38;5;241m.\u001b[39mnorm\u001b[38;5;241m.\u001b[39mcallbacks\u001b[38;5;241m.\u001b[39mblocked():\n\u001b[1;32m    543\u001b[0m         \u001b[38;5;28;01mwith\u001b[39;00m cbook\u001b[38;5;241m.\u001b[39m_setattr_cm(\u001b[38;5;28mself\u001b[39m\u001b[38;5;241m.\u001b[39mnorm,\n\u001b[1;32m    544\u001b[0m                                vmin\u001b[38;5;241m=\u001b[39ms_vmin,\n\u001b[1;32m    545\u001b[0m                                vmax\u001b[38;5;241m=\u001b[39ms_vmax,\n\u001b[1;32m    546\u001b[0m                                ):\n\u001b[0;32m--> 547\u001b[0m             output \u001b[38;5;241m=\u001b[39m \u001b[38;5;28;43mself\u001b[39;49m\u001b[38;5;241;43m.\u001b[39;49m\u001b[43mnorm\u001b[49m\u001b[43m(\u001b[49m\u001b[43mresampled_masked\u001b[49m\u001b[43m)\u001b[49m\n\u001b[1;32m    548\u001b[0m \u001b[38;5;28;01melse\u001b[39;00m:\n\u001b[1;32m    549\u001b[0m     \u001b[38;5;28;01mif\u001b[39;00m A\u001b[38;5;241m.\u001b[39mndim \u001b[38;5;241m==\u001b[39m \u001b[38;5;241m2\u001b[39m:  \u001b[38;5;66;03m# _interpolation_stage == 'rgba'\u001b[39;00m\n",
      "File \u001b[0;32m/opt/miniconda/miniconda3/envs/mbl/lib/python3.10/site-packages/matplotlib/colors.py:1531\u001b[0m, in \u001b[0;36mmake_norm_from_scale.<locals>.Norm.__call__\u001b[0;34m(self, value, clip)\u001b[0m\n\u001b[1;32m   1529\u001b[0m \u001b[38;5;28mself\u001b[39m\u001b[38;5;241m.\u001b[39mautoscale_None(value)\n\u001b[1;32m   1530\u001b[0m \u001b[38;5;28;01mif\u001b[39;00m \u001b[38;5;28mself\u001b[39m\u001b[38;5;241m.\u001b[39mvmin \u001b[38;5;241m>\u001b[39m \u001b[38;5;28mself\u001b[39m\u001b[38;5;241m.\u001b[39mvmax:\n\u001b[0;32m-> 1531\u001b[0m     \u001b[38;5;28;01mraise\u001b[39;00m \u001b[38;5;167;01mValueError\u001b[39;00m(\u001b[38;5;124m\"\u001b[39m\u001b[38;5;124mvmin must be less or equal to vmax\u001b[39m\u001b[38;5;124m\"\u001b[39m)\n\u001b[1;32m   1532\u001b[0m \u001b[38;5;28;01mif\u001b[39;00m \u001b[38;5;28mself\u001b[39m\u001b[38;5;241m.\u001b[39mvmin \u001b[38;5;241m==\u001b[39m \u001b[38;5;28mself\u001b[39m\u001b[38;5;241m.\u001b[39mvmax:\n\u001b[1;32m   1533\u001b[0m     \u001b[38;5;28;01mreturn\u001b[39;00m np\u001b[38;5;241m.\u001b[39mfull_like(value, \u001b[38;5;241m0\u001b[39m)\n",
      "\u001b[0;31mValueError\u001b[0m: vmin must be less or equal to vmax"
     ]
    },
    {
     "ename": "ValueError",
     "evalue": "vmin must be less or equal to vmax",
     "output_type": "error",
     "traceback": [
      "\u001b[0;31m---------------------------------------------------------------------------\u001b[0m",
      "\u001b[0;31mValueError\u001b[0m                                Traceback (most recent call last)",
      "File \u001b[0;32m/opt/miniconda/miniconda3/envs/mbl/lib/python3.10/site-packages/IPython/core/formatters.py:339\u001b[0m, in \u001b[0;36mBaseFormatter.__call__\u001b[0;34m(self, obj)\u001b[0m\n\u001b[1;32m    337\u001b[0m     \u001b[38;5;28;01mpass\u001b[39;00m\n\u001b[1;32m    338\u001b[0m \u001b[38;5;28;01melse\u001b[39;00m:\n\u001b[0;32m--> 339\u001b[0m     \u001b[38;5;28;01mreturn\u001b[39;00m \u001b[43mprinter\u001b[49m\u001b[43m(\u001b[49m\u001b[43mobj\u001b[49m\u001b[43m)\u001b[49m\n\u001b[1;32m    340\u001b[0m \u001b[38;5;66;03m# Finally look for special method names\u001b[39;00m\n\u001b[1;32m    341\u001b[0m method \u001b[38;5;241m=\u001b[39m get_real_method(obj, \u001b[38;5;28mself\u001b[39m\u001b[38;5;241m.\u001b[39mprint_method)\n",
      "File \u001b[0;32m/opt/miniconda/miniconda3/envs/mbl/lib/python3.10/site-packages/IPython/core/pylabtools.py:151\u001b[0m, in \u001b[0;36mprint_figure\u001b[0;34m(fig, fmt, bbox_inches, base64, **kwargs)\u001b[0m\n\u001b[1;32m    148\u001b[0m     \u001b[38;5;28;01mfrom\u001b[39;00m \u001b[38;5;21;01mmatplotlib\u001b[39;00m\u001b[38;5;21;01m.\u001b[39;00m\u001b[38;5;21;01mbackend_bases\u001b[39;00m \u001b[38;5;28;01mimport\u001b[39;00m FigureCanvasBase\n\u001b[1;32m    149\u001b[0m     FigureCanvasBase(fig)\n\u001b[0;32m--> 151\u001b[0m \u001b[43mfig\u001b[49m\u001b[38;5;241;43m.\u001b[39;49m\u001b[43mcanvas\u001b[49m\u001b[38;5;241;43m.\u001b[39;49m\u001b[43mprint_figure\u001b[49m\u001b[43m(\u001b[49m\u001b[43mbytes_io\u001b[49m\u001b[43m,\u001b[49m\u001b[43m \u001b[49m\u001b[38;5;241;43m*\u001b[39;49m\u001b[38;5;241;43m*\u001b[39;49m\u001b[43mkw\u001b[49m\u001b[43m)\u001b[49m\n\u001b[1;32m    152\u001b[0m data \u001b[38;5;241m=\u001b[39m bytes_io\u001b[38;5;241m.\u001b[39mgetvalue()\n\u001b[1;32m    153\u001b[0m \u001b[38;5;28;01mif\u001b[39;00m fmt \u001b[38;5;241m==\u001b[39m \u001b[38;5;124m'\u001b[39m\u001b[38;5;124msvg\u001b[39m\u001b[38;5;124m'\u001b[39m:\n",
      "File \u001b[0;32m/opt/miniconda/miniconda3/envs/mbl/lib/python3.10/site-packages/matplotlib/backend_bases.py:2295\u001b[0m, in \u001b[0;36mFigureCanvasBase.print_figure\u001b[0;34m(self, filename, dpi, facecolor, edgecolor, orientation, format, bbox_inches, pad_inches, bbox_extra_artists, backend, **kwargs)\u001b[0m\n\u001b[1;32m   2289\u001b[0m     renderer \u001b[38;5;241m=\u001b[39m _get_renderer(\n\u001b[1;32m   2290\u001b[0m         \u001b[38;5;28mself\u001b[39m\u001b[38;5;241m.\u001b[39mfigure,\n\u001b[1;32m   2291\u001b[0m         functools\u001b[38;5;241m.\u001b[39mpartial(\n\u001b[1;32m   2292\u001b[0m             print_method, orientation\u001b[38;5;241m=\u001b[39morientation)\n\u001b[1;32m   2293\u001b[0m     )\n\u001b[1;32m   2294\u001b[0m     \u001b[38;5;28;01mwith\u001b[39;00m \u001b[38;5;28mgetattr\u001b[39m(renderer, \u001b[38;5;124m\"\u001b[39m\u001b[38;5;124m_draw_disabled\u001b[39m\u001b[38;5;124m\"\u001b[39m, nullcontext)():\n\u001b[0;32m-> 2295\u001b[0m         \u001b[38;5;28;43mself\u001b[39;49m\u001b[38;5;241;43m.\u001b[39;49m\u001b[43mfigure\u001b[49m\u001b[38;5;241;43m.\u001b[39;49m\u001b[43mdraw\u001b[49m\u001b[43m(\u001b[49m\u001b[43mrenderer\u001b[49m\u001b[43m)\u001b[49m\n\u001b[1;32m   2297\u001b[0m \u001b[38;5;28;01mif\u001b[39;00m bbox_inches:\n\u001b[1;32m   2298\u001b[0m     \u001b[38;5;28;01mif\u001b[39;00m bbox_inches \u001b[38;5;241m==\u001b[39m \u001b[38;5;124m\"\u001b[39m\u001b[38;5;124mtight\u001b[39m\u001b[38;5;124m\"\u001b[39m:\n",
      "File \u001b[0;32m/opt/miniconda/miniconda3/envs/mbl/lib/python3.10/site-packages/matplotlib/artist.py:74\u001b[0m, in \u001b[0;36m_finalize_rasterization.<locals>.draw_wrapper\u001b[0;34m(artist, renderer, *args, **kwargs)\u001b[0m\n\u001b[1;32m     72\u001b[0m \u001b[38;5;129m@wraps\u001b[39m(draw)\n\u001b[1;32m     73\u001b[0m \u001b[38;5;28;01mdef\u001b[39;00m \u001b[38;5;21mdraw_wrapper\u001b[39m(artist, renderer, \u001b[38;5;241m*\u001b[39margs, \u001b[38;5;241m*\u001b[39m\u001b[38;5;241m*\u001b[39mkwargs):\n\u001b[0;32m---> 74\u001b[0m     result \u001b[38;5;241m=\u001b[39m \u001b[43mdraw\u001b[49m\u001b[43m(\u001b[49m\u001b[43martist\u001b[49m\u001b[43m,\u001b[49m\u001b[43m \u001b[49m\u001b[43mrenderer\u001b[49m\u001b[43m,\u001b[49m\u001b[43m \u001b[49m\u001b[38;5;241;43m*\u001b[39;49m\u001b[43margs\u001b[49m\u001b[43m,\u001b[49m\u001b[43m \u001b[49m\u001b[38;5;241;43m*\u001b[39;49m\u001b[38;5;241;43m*\u001b[39;49m\u001b[43mkwargs\u001b[49m\u001b[43m)\u001b[49m\n\u001b[1;32m     75\u001b[0m     \u001b[38;5;28;01mif\u001b[39;00m renderer\u001b[38;5;241m.\u001b[39m_rasterizing:\n\u001b[1;32m     76\u001b[0m         renderer\u001b[38;5;241m.\u001b[39mstop_rasterizing()\n",
      "File \u001b[0;32m/opt/miniconda/miniconda3/envs/mbl/lib/python3.10/site-packages/matplotlib/artist.py:51\u001b[0m, in \u001b[0;36mallow_rasterization.<locals>.draw_wrapper\u001b[0;34m(artist, renderer)\u001b[0m\n\u001b[1;32m     48\u001b[0m     \u001b[38;5;28;01mif\u001b[39;00m artist\u001b[38;5;241m.\u001b[39mget_agg_filter() \u001b[38;5;129;01mis\u001b[39;00m \u001b[38;5;129;01mnot\u001b[39;00m \u001b[38;5;28;01mNone\u001b[39;00m:\n\u001b[1;32m     49\u001b[0m         renderer\u001b[38;5;241m.\u001b[39mstart_filter()\n\u001b[0;32m---> 51\u001b[0m     \u001b[38;5;28;01mreturn\u001b[39;00m \u001b[43mdraw\u001b[49m\u001b[43m(\u001b[49m\u001b[43martist\u001b[49m\u001b[43m,\u001b[49m\u001b[43m \u001b[49m\u001b[43mrenderer\u001b[49m\u001b[43m)\u001b[49m\n\u001b[1;32m     52\u001b[0m \u001b[38;5;28;01mfinally\u001b[39;00m:\n\u001b[1;32m     53\u001b[0m     \u001b[38;5;28;01mif\u001b[39;00m artist\u001b[38;5;241m.\u001b[39mget_agg_filter() \u001b[38;5;129;01mis\u001b[39;00m \u001b[38;5;129;01mnot\u001b[39;00m \u001b[38;5;28;01mNone\u001b[39;00m:\n",
      "File \u001b[0;32m/opt/miniconda/miniconda3/envs/mbl/lib/python3.10/site-packages/matplotlib/figure.py:2845\u001b[0m, in \u001b[0;36mFigure.draw\u001b[0;34m(self, renderer)\u001b[0m\n\u001b[1;32m   2842\u001b[0m         \u001b[38;5;66;03m# ValueError can occur when resizing a window.\u001b[39;00m\n\u001b[1;32m   2844\u001b[0m \u001b[38;5;28mself\u001b[39m\u001b[38;5;241m.\u001b[39mpatch\u001b[38;5;241m.\u001b[39mdraw(renderer)\n\u001b[0;32m-> 2845\u001b[0m \u001b[43mmimage\u001b[49m\u001b[38;5;241;43m.\u001b[39;49m\u001b[43m_draw_list_compositing_images\u001b[49m\u001b[43m(\u001b[49m\n\u001b[1;32m   2846\u001b[0m \u001b[43m    \u001b[49m\u001b[43mrenderer\u001b[49m\u001b[43m,\u001b[49m\u001b[43m \u001b[49m\u001b[38;5;28;43mself\u001b[39;49m\u001b[43m,\u001b[49m\u001b[43m \u001b[49m\u001b[43martists\u001b[49m\u001b[43m,\u001b[49m\u001b[43m \u001b[49m\u001b[38;5;28;43mself\u001b[39;49m\u001b[38;5;241;43m.\u001b[39;49m\u001b[43msuppressComposite\u001b[49m\u001b[43m)\u001b[49m\n\u001b[1;32m   2848\u001b[0m \u001b[38;5;28;01mfor\u001b[39;00m sfig \u001b[38;5;129;01min\u001b[39;00m \u001b[38;5;28mself\u001b[39m\u001b[38;5;241m.\u001b[39msubfigs:\n\u001b[1;32m   2849\u001b[0m     sfig\u001b[38;5;241m.\u001b[39mdraw(renderer)\n",
      "File \u001b[0;32m/opt/miniconda/miniconda3/envs/mbl/lib/python3.10/site-packages/matplotlib/image.py:132\u001b[0m, in \u001b[0;36m_draw_list_compositing_images\u001b[0;34m(renderer, parent, artists, suppress_composite)\u001b[0m\n\u001b[1;32m    130\u001b[0m \u001b[38;5;28;01mif\u001b[39;00m not_composite \u001b[38;5;129;01mor\u001b[39;00m \u001b[38;5;129;01mnot\u001b[39;00m has_images:\n\u001b[1;32m    131\u001b[0m     \u001b[38;5;28;01mfor\u001b[39;00m a \u001b[38;5;129;01min\u001b[39;00m artists:\n\u001b[0;32m--> 132\u001b[0m         \u001b[43ma\u001b[49m\u001b[38;5;241;43m.\u001b[39;49m\u001b[43mdraw\u001b[49m\u001b[43m(\u001b[49m\u001b[43mrenderer\u001b[49m\u001b[43m)\u001b[49m\n\u001b[1;32m    133\u001b[0m \u001b[38;5;28;01melse\u001b[39;00m:\n\u001b[1;32m    134\u001b[0m     \u001b[38;5;66;03m# Composite any adjacent images together\u001b[39;00m\n\u001b[1;32m    135\u001b[0m     image_group \u001b[38;5;241m=\u001b[39m []\n",
      "File \u001b[0;32m/opt/miniconda/miniconda3/envs/mbl/lib/python3.10/site-packages/matplotlib/artist.py:51\u001b[0m, in \u001b[0;36mallow_rasterization.<locals>.draw_wrapper\u001b[0;34m(artist, renderer)\u001b[0m\n\u001b[1;32m     48\u001b[0m     \u001b[38;5;28;01mif\u001b[39;00m artist\u001b[38;5;241m.\u001b[39mget_agg_filter() \u001b[38;5;129;01mis\u001b[39;00m \u001b[38;5;129;01mnot\u001b[39;00m \u001b[38;5;28;01mNone\u001b[39;00m:\n\u001b[1;32m     49\u001b[0m         renderer\u001b[38;5;241m.\u001b[39mstart_filter()\n\u001b[0;32m---> 51\u001b[0m     \u001b[38;5;28;01mreturn\u001b[39;00m \u001b[43mdraw\u001b[49m\u001b[43m(\u001b[49m\u001b[43martist\u001b[49m\u001b[43m,\u001b[49m\u001b[43m \u001b[49m\u001b[43mrenderer\u001b[49m\u001b[43m)\u001b[49m\n\u001b[1;32m     52\u001b[0m \u001b[38;5;28;01mfinally\u001b[39;00m:\n\u001b[1;32m     53\u001b[0m     \u001b[38;5;28;01mif\u001b[39;00m artist\u001b[38;5;241m.\u001b[39mget_agg_filter() \u001b[38;5;129;01mis\u001b[39;00m \u001b[38;5;129;01mnot\u001b[39;00m \u001b[38;5;28;01mNone\u001b[39;00m:\n",
      "File \u001b[0;32m/opt/miniconda/miniconda3/envs/mbl/lib/python3.10/site-packages/matplotlib/axes/_base.py:3091\u001b[0m, in \u001b[0;36m_AxesBase.draw\u001b[0;34m(self, renderer)\u001b[0m\n\u001b[1;32m   3088\u001b[0m         a\u001b[38;5;241m.\u001b[39mdraw(renderer)\n\u001b[1;32m   3089\u001b[0m     renderer\u001b[38;5;241m.\u001b[39mstop_rasterizing()\n\u001b[0;32m-> 3091\u001b[0m \u001b[43mmimage\u001b[49m\u001b[38;5;241;43m.\u001b[39;49m\u001b[43m_draw_list_compositing_images\u001b[49m\u001b[43m(\u001b[49m\n\u001b[1;32m   3092\u001b[0m \u001b[43m    \u001b[49m\u001b[43mrenderer\u001b[49m\u001b[43m,\u001b[49m\u001b[43m \u001b[49m\u001b[38;5;28;43mself\u001b[39;49m\u001b[43m,\u001b[49m\u001b[43m \u001b[49m\u001b[43martists\u001b[49m\u001b[43m,\u001b[49m\u001b[43m \u001b[49m\u001b[38;5;28;43mself\u001b[39;49m\u001b[38;5;241;43m.\u001b[39;49m\u001b[43mfigure\u001b[49m\u001b[38;5;241;43m.\u001b[39;49m\u001b[43msuppressComposite\u001b[49m\u001b[43m)\u001b[49m\n\u001b[1;32m   3094\u001b[0m renderer\u001b[38;5;241m.\u001b[39mclose_group(\u001b[38;5;124m'\u001b[39m\u001b[38;5;124maxes\u001b[39m\u001b[38;5;124m'\u001b[39m)\n\u001b[1;32m   3095\u001b[0m \u001b[38;5;28mself\u001b[39m\u001b[38;5;241m.\u001b[39mstale \u001b[38;5;241m=\u001b[39m \u001b[38;5;28;01mFalse\u001b[39;00m\n",
      "File \u001b[0;32m/opt/miniconda/miniconda3/envs/mbl/lib/python3.10/site-packages/matplotlib/image.py:132\u001b[0m, in \u001b[0;36m_draw_list_compositing_images\u001b[0;34m(renderer, parent, artists, suppress_composite)\u001b[0m\n\u001b[1;32m    130\u001b[0m \u001b[38;5;28;01mif\u001b[39;00m not_composite \u001b[38;5;129;01mor\u001b[39;00m \u001b[38;5;129;01mnot\u001b[39;00m has_images:\n\u001b[1;32m    131\u001b[0m     \u001b[38;5;28;01mfor\u001b[39;00m a \u001b[38;5;129;01min\u001b[39;00m artists:\n\u001b[0;32m--> 132\u001b[0m         \u001b[43ma\u001b[49m\u001b[38;5;241;43m.\u001b[39;49m\u001b[43mdraw\u001b[49m\u001b[43m(\u001b[49m\u001b[43mrenderer\u001b[49m\u001b[43m)\u001b[49m\n\u001b[1;32m    133\u001b[0m \u001b[38;5;28;01melse\u001b[39;00m:\n\u001b[1;32m    134\u001b[0m     \u001b[38;5;66;03m# Composite any adjacent images together\u001b[39;00m\n\u001b[1;32m    135\u001b[0m     image_group \u001b[38;5;241m=\u001b[39m []\n",
      "File \u001b[0;32m/opt/miniconda/miniconda3/envs/mbl/lib/python3.10/site-packages/matplotlib/artist.py:51\u001b[0m, in \u001b[0;36mallow_rasterization.<locals>.draw_wrapper\u001b[0;34m(artist, renderer)\u001b[0m\n\u001b[1;32m     48\u001b[0m     \u001b[38;5;28;01mif\u001b[39;00m artist\u001b[38;5;241m.\u001b[39mget_agg_filter() \u001b[38;5;129;01mis\u001b[39;00m \u001b[38;5;129;01mnot\u001b[39;00m \u001b[38;5;28;01mNone\u001b[39;00m:\n\u001b[1;32m     49\u001b[0m         renderer\u001b[38;5;241m.\u001b[39mstart_filter()\n\u001b[0;32m---> 51\u001b[0m     \u001b[38;5;28;01mreturn\u001b[39;00m \u001b[43mdraw\u001b[49m\u001b[43m(\u001b[49m\u001b[43martist\u001b[49m\u001b[43m,\u001b[49m\u001b[43m \u001b[49m\u001b[43mrenderer\u001b[49m\u001b[43m)\u001b[49m\n\u001b[1;32m     52\u001b[0m \u001b[38;5;28;01mfinally\u001b[39;00m:\n\u001b[1;32m     53\u001b[0m     \u001b[38;5;28;01mif\u001b[39;00m artist\u001b[38;5;241m.\u001b[39mget_agg_filter() \u001b[38;5;129;01mis\u001b[39;00m \u001b[38;5;129;01mnot\u001b[39;00m \u001b[38;5;28;01mNone\u001b[39;00m:\n",
      "File \u001b[0;32m/opt/miniconda/miniconda3/envs/mbl/lib/python3.10/site-packages/matplotlib/image.py:646\u001b[0m, in \u001b[0;36m_ImageBase.draw\u001b[0;34m(self, renderer, *args, **kwargs)\u001b[0m\n\u001b[1;32m    644\u001b[0m         renderer\u001b[38;5;241m.\u001b[39mdraw_image(gc, l, b, im, trans)\n\u001b[1;32m    645\u001b[0m \u001b[38;5;28;01melse\u001b[39;00m:\n\u001b[0;32m--> 646\u001b[0m     im, l, b, trans \u001b[38;5;241m=\u001b[39m \u001b[38;5;28;43mself\u001b[39;49m\u001b[38;5;241;43m.\u001b[39;49m\u001b[43mmake_image\u001b[49m\u001b[43m(\u001b[49m\n\u001b[1;32m    647\u001b[0m \u001b[43m        \u001b[49m\u001b[43mrenderer\u001b[49m\u001b[43m,\u001b[49m\u001b[43m \u001b[49m\u001b[43mrenderer\u001b[49m\u001b[38;5;241;43m.\u001b[39;49m\u001b[43mget_image_magnification\u001b[49m\u001b[43m(\u001b[49m\u001b[43m)\u001b[49m\u001b[43m)\u001b[49m\n\u001b[1;32m    648\u001b[0m     \u001b[38;5;28;01mif\u001b[39;00m im \u001b[38;5;129;01mis\u001b[39;00m \u001b[38;5;129;01mnot\u001b[39;00m \u001b[38;5;28;01mNone\u001b[39;00m:\n\u001b[1;32m    649\u001b[0m         renderer\u001b[38;5;241m.\u001b[39mdraw_image(gc, l, b, im)\n",
      "File \u001b[0;32m/opt/miniconda/miniconda3/envs/mbl/lib/python3.10/site-packages/matplotlib/image.py:956\u001b[0m, in \u001b[0;36mAxesImage.make_image\u001b[0;34m(self, renderer, magnification, unsampled)\u001b[0m\n\u001b[1;32m    953\u001b[0m transformed_bbox \u001b[38;5;241m=\u001b[39m TransformedBbox(bbox, trans)\n\u001b[1;32m    954\u001b[0m clip \u001b[38;5;241m=\u001b[39m ((\u001b[38;5;28mself\u001b[39m\u001b[38;5;241m.\u001b[39mget_clip_box() \u001b[38;5;129;01mor\u001b[39;00m \u001b[38;5;28mself\u001b[39m\u001b[38;5;241m.\u001b[39maxes\u001b[38;5;241m.\u001b[39mbbox) \u001b[38;5;28;01mif\u001b[39;00m \u001b[38;5;28mself\u001b[39m\u001b[38;5;241m.\u001b[39mget_clip_on()\n\u001b[1;32m    955\u001b[0m         \u001b[38;5;28;01melse\u001b[39;00m \u001b[38;5;28mself\u001b[39m\u001b[38;5;241m.\u001b[39mfigure\u001b[38;5;241m.\u001b[39mbbox)\n\u001b[0;32m--> 956\u001b[0m \u001b[38;5;28;01mreturn\u001b[39;00m \u001b[38;5;28;43mself\u001b[39;49m\u001b[38;5;241;43m.\u001b[39;49m\u001b[43m_make_image\u001b[49m\u001b[43m(\u001b[49m\u001b[38;5;28;43mself\u001b[39;49m\u001b[38;5;241;43m.\u001b[39;49m\u001b[43m_A\u001b[49m\u001b[43m,\u001b[49m\u001b[43m \u001b[49m\u001b[43mbbox\u001b[49m\u001b[43m,\u001b[49m\u001b[43m \u001b[49m\u001b[43mtransformed_bbox\u001b[49m\u001b[43m,\u001b[49m\u001b[43m \u001b[49m\u001b[43mclip\u001b[49m\u001b[43m,\u001b[49m\n\u001b[1;32m    957\u001b[0m \u001b[43m                        \u001b[49m\u001b[43mmagnification\u001b[49m\u001b[43m,\u001b[49m\u001b[43m \u001b[49m\u001b[43munsampled\u001b[49m\u001b[38;5;241;43m=\u001b[39;49m\u001b[43munsampled\u001b[49m\u001b[43m)\u001b[49m\n",
      "File \u001b[0;32m/opt/miniconda/miniconda3/envs/mbl/lib/python3.10/site-packages/matplotlib/image.py:547\u001b[0m, in \u001b[0;36m_ImageBase._make_image\u001b[0;34m(self, A, in_bbox, out_bbox, clip_bbox, magnification, unsampled, round_to_pixel_border)\u001b[0m\n\u001b[1;32m    542\u001b[0m     \u001b[38;5;28;01mwith\u001b[39;00m \u001b[38;5;28mself\u001b[39m\u001b[38;5;241m.\u001b[39mnorm\u001b[38;5;241m.\u001b[39mcallbacks\u001b[38;5;241m.\u001b[39mblocked():\n\u001b[1;32m    543\u001b[0m         \u001b[38;5;28;01mwith\u001b[39;00m cbook\u001b[38;5;241m.\u001b[39m_setattr_cm(\u001b[38;5;28mself\u001b[39m\u001b[38;5;241m.\u001b[39mnorm,\n\u001b[1;32m    544\u001b[0m                                vmin\u001b[38;5;241m=\u001b[39ms_vmin,\n\u001b[1;32m    545\u001b[0m                                vmax\u001b[38;5;241m=\u001b[39ms_vmax,\n\u001b[1;32m    546\u001b[0m                                ):\n\u001b[0;32m--> 547\u001b[0m             output \u001b[38;5;241m=\u001b[39m \u001b[38;5;28;43mself\u001b[39;49m\u001b[38;5;241;43m.\u001b[39;49m\u001b[43mnorm\u001b[49m\u001b[43m(\u001b[49m\u001b[43mresampled_masked\u001b[49m\u001b[43m)\u001b[49m\n\u001b[1;32m    548\u001b[0m \u001b[38;5;28;01melse\u001b[39;00m:\n\u001b[1;32m    549\u001b[0m     \u001b[38;5;28;01mif\u001b[39;00m A\u001b[38;5;241m.\u001b[39mndim \u001b[38;5;241m==\u001b[39m \u001b[38;5;241m2\u001b[39m:  \u001b[38;5;66;03m# _interpolation_stage == 'rgba'\u001b[39;00m\n",
      "File \u001b[0;32m/opt/miniconda/miniconda3/envs/mbl/lib/python3.10/site-packages/matplotlib/colors.py:1531\u001b[0m, in \u001b[0;36mmake_norm_from_scale.<locals>.Norm.__call__\u001b[0;34m(self, value, clip)\u001b[0m\n\u001b[1;32m   1529\u001b[0m \u001b[38;5;28mself\u001b[39m\u001b[38;5;241m.\u001b[39mautoscale_None(value)\n\u001b[1;32m   1530\u001b[0m \u001b[38;5;28;01mif\u001b[39;00m \u001b[38;5;28mself\u001b[39m\u001b[38;5;241m.\u001b[39mvmin \u001b[38;5;241m>\u001b[39m \u001b[38;5;28mself\u001b[39m\u001b[38;5;241m.\u001b[39mvmax:\n\u001b[0;32m-> 1531\u001b[0m     \u001b[38;5;28;01mraise\u001b[39;00m \u001b[38;5;167;01mValueError\u001b[39;00m(\u001b[38;5;124m\"\u001b[39m\u001b[38;5;124mvmin must be less or equal to vmax\u001b[39m\u001b[38;5;124m\"\u001b[39m)\n\u001b[1;32m   1532\u001b[0m \u001b[38;5;28;01mif\u001b[39;00m \u001b[38;5;28mself\u001b[39m\u001b[38;5;241m.\u001b[39mvmin \u001b[38;5;241m==\u001b[39m \u001b[38;5;28mself\u001b[39m\u001b[38;5;241m.\u001b[39mvmax:\n\u001b[1;32m   1533\u001b[0m     \u001b[38;5;28;01mreturn\u001b[39;00m np\u001b[38;5;241m.\u001b[39mfull_like(value, \u001b[38;5;241m0\u001b[39m)\n",
      "\u001b[0;31mValueError\u001b[0m: vmin must be less or equal to vmax"
     ]
    },
    {
     "data": {
      "text/plain": [
       "<Figure size 960x480 with 2 Axes>"
      ]
     },
     "metadata": {},
     "output_type": "display_data"
    }
   ],
   "source": [
    "z = np.abs(direct_nondeg_gfuncsq.imag)\n",
    "print(f\"Min: {z.min():e} Max: {z.max():e}\")\n",
    "norm = mpl.colors.LogNorm(vmin=z.min(), vmax=z.max())\n",
    "plt.matshow(z, norm=norm)\n",
    "plt.colorbar()"
   ]
  },
  {
   "cell_type": "code",
   "execution_count": 12,
   "metadata": {},
   "outputs": [],
   "source": [
    "def check_deg_gfuncsq(L, eigvecs, alpha, beta):\n",
    "    direct_deg_gfuncsq = np.zeros((L*L,2*L*L), dtype=complex)\n",
    "    mat_deg_gfuncsq = np.zeros((L*L,2*L*L), dtype=complex)\n",
    "    for gamma in range(2):\n",
    "        for i in range(L*L):\n",
    "            for j in range(L*L):\n",
    "                direct_deg_gfuncsq[i, 2*j+gamma] = gfunc_gfuncstar_deg(i, alpha, beta, j,\n",
    "                                                                       gamma, eigvecs, L)\n",
    "\n",
    "        addend = gfunc_gfuncstar_mat_deg(alpha, beta, gamma, eigvecs, L)\n",
    "        mat_deg_gfuncsq += addend\n",
    "\n",
    "    diff = direct_deg_gfuncsq - mat_deg_gfuncsq\n",
    "    filename = f\"../data/deg_gfunc_gfuncstar_a{alpha}_b{beta}_python_{L}x{L}.dat\"\n",
    "    if alpha == beta:\n",
    "        np.savetxt(filename, mat_deg_gfuncsq.real)\n",
    "    else:\n",
    "        np.savetxt(filename, mat_deg_gfuncsq)\n",
    "    print(f\"α = {alpha} β = {beta} γ = {gamma}\")\n",
    "    print(f\"Diff Sum = {np.sum(np.abs(diff)):.3e}\")\n",
    "    print(f\"Diff Max = {np.max(np.abs(diff)):.3e}\")\n",
    "    return direct_deg_gfuncsq, mat_deg_gfuncsq"
   ]
  },
  {
   "cell_type": "code",
   "execution_count": 13,
   "metadata": {},
   "outputs": [],
   "source": [
    "def write_gfuncsq_deg_restr(L, eigvecs, alpha, beta, nmin, nmax):\n",
    "    direct_deg_gfuncsq = np.zeros((L*L,2*L*L), dtype=complex)\n",
    "    for gamma in range(2):\n",
    "        for i in range(L*L):\n",
    "            for j in range(L*L):\n",
    "                direct_deg_gfuncsq[i, 2*j+gamma] = gfunc_gfuncstar_deg_restr(i, alpha, beta, j,\n",
    "                                                                            gamma, eigvecs, L,\n",
    "                                                                             nmin, nmax)\n",
    "    filename = f\"../data/deg_gfunc_gfuncstar_restr_a{alpha}_b{beta}_min{nmin}_max{nmax}_python_{L}x{L}.dat\"\n",
    "    if alpha == beta:\n",
    "        np.savetxt(filename, direct_deg_gfuncsq.real)\n",
    "    else:\n",
    "        np.savetxt(filename, direct_deg_gfuncsq)\n"
   ]
  },
  {
   "cell_type": "code",
   "execution_count": 14,
   "metadata": {},
   "outputs": [],
   "source": [
    "def write_gfuncsq_nondeg_restr(L, eigvecs, alpha, beta, nmin, nmax):\n",
    "    direct_nondeg_gfuncsq = np.zeros((L*L,2*L*L), dtype=complex)\n",
    "    for gamma in range(2):\n",
    "        for i in range(L*L):\n",
    "            for j in range(L*L):\n",
    "                direct_nondeg_gfuncsq[i, 2*j+gamma] = gfunc_gfuncstar_nondeg_restr(i, alpha, beta, j, gamma,\n",
    "                                                                          eigvecs, L, nmin, nmax)\n",
    "    filename = f\"../data/nondeg_gfunc_gfuncstar_restr_a{alpha}_b{beta}_min{nmin}_max{nmax}_python_{L}x{L}.dat\"\n",
    "    if alpha == beta:\n",
    "        np.savetxt(filename, direct_nondeg_gfuncsq.real)\n",
    "    else:\n",
    "        np.savetxt(filename, direct_nondeg_gfuncsq)\n"
   ]
  },
  {
   "cell_type": "code",
   "execution_count": 15,
   "metadata": {},
   "outputs": [
    {
     "name": "stdout",
     "output_type": "stream",
     "text": [
      "α = 0 β = 0 γ = 1\n",
      "Diff Sum = 4.205e-16\n",
      "Diff Max = 1.041e-17\n",
      "\n",
      "α = 0 β = 1 γ = 1\n",
      "Diff Sum = 4.868e-16\n",
      "Diff Max = 5.222e-18\n",
      "\n",
      "α = 1 β = 0 γ = 1\n",
      "Diff Sum = 4.868e-16\n",
      "Diff Max = 5.222e-18\n",
      "\n",
      "α = 1 β = 1 γ = 1\n",
      "Diff Sum = 4.601e-16\n",
      "Diff Max = 1.041e-17\n",
      "\n"
     ]
    }
   ],
   "source": [
    "L = 4\n",
    "alpha = 0\n",
    "beta = 0\n",
    "gamma = 0\n",
    "eigvecs = np.loadtxt(f\"../data/fake_eigenvectors_{L}x{L}.dat\", dtype=complex)\n",
    "\n",
    "for alpha in range(2):\n",
    "    for beta in range(2):\n",
    "        check_deg_gfuncsq(L, eigvecs, alpha, beta)\n",
    "        print()\n"
   ]
  },
  {
   "cell_type": "code",
   "execution_count": null,
   "metadata": {},
   "outputs": [],
   "source": []
  },
  {
   "cell_type": "code",
   "execution_count": 16,
   "metadata": {},
   "outputs": [
    {
     "name": "stdout",
     "output_type": "stream",
     "text": [
      "α = 0 β = 1 γ = 1\n",
      "Diff Sum = 4.868e-16\n",
      "Diff Max = 5.222e-18\n",
      "Min: -1.520e-02 Max: 1.290e-02\n",
      "Min: -1.520e-02 Max: 1.290e-02\n"
     ]
    },
    {
     "data": {
      "text/plain": [
       "<matplotlib.colorbar.Colorbar at 0x7fcbc5bcc730>"
      ]
     },
     "execution_count": 16,
     "metadata": {},
     "output_type": "execute_result"
    },
    {
     "data": {
      "image/png": "[encoded data removed]",
      "text/plain": [
       "<Figure size 1600x900 with 4 Axes>"
      ]
     },
     "metadata": {},
     "output_type": "display_data"
    }
   ],
   "source": [
    "direct_deg_gfuncsq, mat_deg_gfuncsq = check_deg_gfuncsq(L, eigvecs, alpha=0, beta=1)\n",
    "fig, axes = plt.subplots(ncols=2, figsize=(16, 9))\n",
    "ax = axes[0]\n",
    "z = direct_deg_gfuncsq.imag\n",
    "print(f\"Min: {z.min():.3e} Max: {z.max():.3e}\")\n",
    "# norm = mpl.colors.LogNorm(vmin=z.min(), vmax=z.max())\n",
    "norm = mpl.colors.Normalize(vmin=z.min(), vmax=z.max())\n",
    "mappable = ax.matshow(z, norm=norm)\n",
    "plt.colorbar(mappable, ax=ax, location=\"bottom\", orientation=\"horizontal\")\n",
    "\n",
    "ax = axes[1]\n",
    "z = mat_deg_gfuncsq.imag\n",
    "print(f\"Min: {z.min():.3e} Max: {z.max():.3e}\")\n",
    "# norm = mpl.colors.LogNorm(vmin=z.min(), vmax=z.max())\n",
    "norm = mpl.colors.Normalize(vmin=z.min(), vmax=z.max())\n",
    "mappable = ax.matshow(z, norm=norm)\n",
    "plt.colorbar(mappable, ax=ax, location=\"bottom\", orientation=\"horizontal\")"
   ]
  },
  {
   "cell_type": "code",
   "execution_count": null,
   "metadata": {},
   "outputs": [],
   "source": []
  },
  {
   "cell_type": "code",
   "execution_count": 17,
   "metadata": {},
   "outputs": [],
   "source": [
    "L = 4\n",
    "nmin = 8\n",
    "nmax = 16\n",
    "eigvecs = np.loadtxt(f\"../data/fake_eigenvectors_{L}x{L}.dat\", dtype=complex)\n",
    "\n",
    "for alpha in range(2):\n",
    "    for beta in range(2):\n",
    "        write_gfuncsq_nondeg_restr(L, eigvecs, alpha, beta, nmin, nmax)\n",
    "        write_gfuncsq_deg_restr(L, eigvecs, alpha, beta, nmin, nmax)"
   ]
  },
  {
   "cell_type": "code",
   "execution_count": null,
   "metadata": {},
   "outputs": [],
   "source": []
  },
  {
   "cell_type": "code",
   "execution_count": null,
   "metadata": {},
   "outputs": [],
   "source": []
  }
 ],
 "metadata": {
  "kernelspec": {
   "display_name": "MBL",
   "language": "python",
   "name": "mbl"
  },
  "language_info": {
   "codemirror_mode": {
    "name": "ipython",
    "version": 3
   },
   "file_extension": ".py",
   "mimetype": "text/x-python",
   "name": "python",
   "nbconvert_exporter": "python",
   "pygments_lexer": "ipython3",
   "version": "3.10.6"
  },
  "vscode": {
   "interpreter": {
    "hash": "972f1098d53e2a9fded70acc431b719ea7072c4d9b481ac5defbb84eb3dd6b7b"
   }
  }
 },
 "nbformat": 4,
 "nbformat_minor": 4
}
